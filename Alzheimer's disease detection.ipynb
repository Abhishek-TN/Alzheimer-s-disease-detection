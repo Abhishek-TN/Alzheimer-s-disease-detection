{
  "cells": [
    {
      "cell_type": "code",
      "execution_count": 12,
      "id": "fe2c77e6",
      "metadata": {
        "id": "fe2c77e6"
      },
      "outputs": [],
      "source": [
        "import numpy as np\n",
        "import pandas as pd\n",
        "import os\n",
        "import cv2\n",
        "import tensorflow\n",
        "from tensorflow import keras\n",
        "from keras import Sequential\n",
        "from keras.layers import Dense,Flatten,Dropout,MaxPool2D,Conv2D\n",
        "import matplotlib.pylab as plt\n",
        "from sklearn.preprocessing import LabelEncoder\n",
        "from sklearn.model_selection import train_test_split\n",
        "import random\n",
        "import warnings\n",
        "warnings.filterwarnings('ignore')"
      ]
    },
    {
      "cell_type": "code",
      "execution_count": 2,
      "id": "eri1K_55-ypn",
      "metadata": {
        "colab": {
          "base_uri": "https://localhost:8080/"
        },
        "id": "eri1K_55-ypn",
        "outputId": "1de4605c-3d8b-4d01-c25e-2b70bc23a173"
      },
      "outputs": [
        {
          "output_type": "stream",
          "name": "stdout",
          "text": [
            "Mounted at /content/drive\n"
          ]
        }
      ],
      "source": [
        "from google.colab import drive\n",
        "drive.mount(\"/content/drive\", force_remount=True)"
      ]
    },
    {
      "cell_type": "code",
      "execution_count": 3,
      "id": "e4cd3aee",
      "metadata": {
        "id": "e4cd3aee",
        "colab": {
          "base_uri": "https://localhost:8080/"
        },
        "outputId": "f64a7615-1938-4d5f-d566-300e576f6b11"
      },
      "outputs": [
        {
          "output_type": "stream",
          "name": "stdout",
          "text": [
            "['Mild Dementia', 'Moderate Dementia', 'Non Demented', 'Very mild Dementia']\n"
          ]
        }
      ],
      "source": [
        "path = '/content/drive/MyDrive/archive (7)/Data'\n",
        "classes = os.listdir(path)\n",
        "print(classes)"
      ]
    },
    {
      "cell_type": "code",
      "execution_count": 4,
      "id": "d10da26d",
      "metadata": {
        "id": "d10da26d"
      },
      "outputs": [],
      "source": [
        "def preprocess(img_path):\n",
        "    try:\n",
        "        # Attempt to read the image\n",
        "        image = cv2.imread(img_path)\n",
        "\n",
        "        # Check if the image is empty\n",
        "        if image is None:\n",
        "            raise Exception(f\"Error: Unable to read image at {img_path}\")\n",
        "\n",
        "        # Resize the image\n",
        "        img = cv2.resize(image, (224, 224),interpolation=cv2.INTER_AREA)  # Adjust the target size as needed\n",
        "\n",
        "        # Convert to grayscale\n",
        "        img = cv2.cvtColor(img, cv2.COLOR_BGR2GRAY)\n",
        "\n",
        "        return img\n",
        "\n",
        "    except Exception as e:\n",
        "        print(f\"Error during preprocessing: {e}\")\n",
        "        return None  # Return None in case of an error"
      ]
    },
    {
      "cell_type": "code",
      "execution_count": 6,
      "id": "ac61f795",
      "metadata": {
        "colab": {
          "base_uri": "https://localhost:8080/"
        },
        "id": "ac61f795",
        "outputId": "81d7a1d4-881d-4c61-d99b-3ca78fb3e6a5"
      },
      "outputs": [
        {
          "output_type": "stream",
          "name": "stdout",
          "text": [
            "{'Mild Dementia': 0, 'Moderate Dementia': 1, 'Non Demented': 2, 'Very mild Dementia': 3}\n"
          ]
        }
      ],
      "source": [
        "img = []\n",
        "label = []\n",
        "# encoder = LabelEncoder()\n",
        "# encoder.fit(classes)\n",
        "for class_label in classes:\n",
        "  class_path = os.path.join(path,class_label)\n",
        "  i = 0\n",
        "\n",
        "  for filename in (os.listdir(class_path)):\n",
        "    img_path = os.path.join(class_path,filename)\n",
        "    image = preprocess(img_path)\n",
        "    img.append(image)\n",
        "    label.append(class_label)\n",
        "    i+=1\n",
        "    if i == 1000:\n",
        "      break\n",
        "# actual_label = label\n",
        "# labels_encoded = encoder.transform(label)\n",
        "# images = np.array(img)\n",
        "# labels = np.array(labels_encoded)\n",
        "# mapping = {encoded : label for encoded,label in zip(labels_encoded,actual_label)}\n",
        "# print(mapping)\n",
        "\n",
        "actual_label = label\n",
        "label_encoder = LabelEncoder()\n",
        "labels_encoded = label_encoder.fit_transform(actual_label)\n",
        "images = np.array(img)\n",
        "labels = np.array(labels_encoded)\n",
        "label_mapping = dict(zip(label_encoder.classes_, label_encoder.transform(label_encoder.classes_)))\n",
        "print(label_mapping)\n"
      ]
    },
    {
      "cell_type": "code",
      "execution_count": 7,
      "id": "6ee45adb",
      "metadata": {
        "colab": {
          "base_uri": "https://localhost:8080/"
        },
        "id": "6ee45adb",
        "outputId": "40f91b19-4166-43af-c655-bcb88635788e"
      },
      "outputs": [
        {
          "output_type": "execute_result",
          "data": {
            "text/plain": [
              "(3538, 224, 224)"
            ]
          },
          "metadata": {},
          "execution_count": 7
        }
      ],
      "source": [
        "images.shape"
      ]
    },
    {
      "cell_type": "code",
      "execution_count": 8,
      "id": "87a63802",
      "metadata": {
        "id": "87a63802"
      },
      "outputs": [],
      "source": [
        "xtrain,xtest,ytrain,ytest = train_test_split(images,labels,random_state = 28,shuffle = True,test_size=0.25)"
      ]
    },
    {
      "cell_type": "code",
      "execution_count": 9,
      "id": "09c69bc1",
      "metadata": {
        "colab": {
          "base_uri": "https://localhost:8080/"
        },
        "id": "09c69bc1",
        "outputId": "dcc07752-d432-438f-b7a1-95e771fa8a72"
      },
      "outputs": [
        {
          "output_type": "execute_result",
          "data": {
            "text/plain": [
              "((2653, 224, 224), (2653,), (885, 224, 224), (885,))"
            ]
          },
          "metadata": {},
          "execution_count": 9
        }
      ],
      "source": [
        "xtrain.shape,ytrain.shape,xtest.shape,ytest.shape"
      ]
    },
    {
      "cell_type": "code",
      "execution_count": 10,
      "id": "dd0b9e6c",
      "metadata": {
        "id": "dd0b9e6c"
      },
      "outputs": [],
      "source": [
        "\n",
        "model = Sequential()\n",
        "\n",
        "model.add(Conv2D(32,kernel_size = 3,padding = 'same',activation='relu',input_shape = (224,224,1)))\n",
        "model.add(Dropout(0.2))\n",
        "model.add(MaxPool2D(pool_size=(2,2)))\n",
        "\n",
        "model.add(Conv2D(64,padding='same',kernel_size = 3,activation = 'relu'))\n",
        "model.add(Conv2D(64,padding='same',kernel_size = 3,activation = 'relu'))\n",
        "model.add(Dropout(0.2))\n",
        "model.add(MaxPool2D(pool_size=(2,2),strides = (2,2)))\n",
        "\n",
        "model.add(Conv2D(128,padding='same',kernel_size = 3,activation = 'relu'))\n",
        "model.add(Conv2D(128,padding='same',kernel_size = 3,activation = 'relu'))\n",
        "model.add(Dropout(0.2))\n",
        "model.add(MaxPool2D(pool_size=(2,2),strides = (2,2)))\n",
        "\n",
        "model.add(Flatten())\n",
        "model.add(Dense(256,activation = 'relu'))\n",
        "model.add(Dropout(0.25))\n",
        "model.add(Dense(128,activation = 'relu'))\n",
        "model.add(Dropout(0.25))\n",
        "model.add(Dense(4,activation = 'softmax'))\n",
        "model.compile(optimizer = 'adamax',loss = 'sparse_categorical_crossentropy',metrics = ['accuracy'])\n",
        "\n"
      ]
    },
    {
      "cell_type": "code",
      "execution_count": null,
      "id": "695e5bb5",
      "metadata": {
        "colab": {
          "base_uri": "https://localhost:8080/"
        },
        "id": "695e5bb5",
        "outputId": "33976368-09f4-4077-9a34-792a709e21c1"
      },
      "outputs": [
        {
          "name": "stdout",
          "output_type": "stream",
          "text": [
            "Epoch 1/20\n",
            "84/84 [==============================] - 22s 183ms/step - loss: 5.6893 - accuracy: 0.5958 - val_loss: 0.5486 - val_accuracy: 0.8131\n",
            "Epoch 2/20\n",
            "84/84 [==============================] - 12s 141ms/step - loss: 0.3811 - accuracy: 0.8497 - val_loss: 0.2901 - val_accuracy: 0.9043\n",
            "Epoch 3/20\n",
            "84/84 [==============================] - 12s 140ms/step - loss: 0.2311 - accuracy: 0.9042 - val_loss: 0.2918 - val_accuracy: 0.8660\n",
            "Epoch 4/20\n",
            "84/84 [==============================] - 12s 139ms/step - loss: 0.1955 - accuracy: 0.9185 - val_loss: 0.1921 - val_accuracy: 0.9088\n",
            "Epoch 5/20\n",
            "84/84 [==============================] - 12s 139ms/step - loss: 0.1687 - accuracy: 0.9249 - val_loss: 0.1770 - val_accuracy: 0.9099\n",
            "Epoch 6/20\n",
            "84/84 [==============================] - 12s 139ms/step - loss: 0.1568 - accuracy: 0.9275 - val_loss: 0.1718 - val_accuracy: 0.9077\n",
            "Epoch 7/20\n",
            "84/84 [==============================] - 12s 139ms/step - loss: 0.1480 - accuracy: 0.9279 - val_loss: 0.1644 - val_accuracy: 0.9110\n",
            "Epoch 8/20\n",
            "84/84 [==============================] - 12s 138ms/step - loss: 0.1492 - accuracy: 0.9252 - val_loss: 0.1598 - val_accuracy: 0.9077\n",
            "Epoch 9/20\n",
            "84/84 [==============================] - 12s 140ms/step - loss: 0.1454 - accuracy: 0.9279 - val_loss: 0.1643 - val_accuracy: 0.9088\n",
            "Epoch 10/20\n",
            "84/84 [==============================] - 12s 140ms/step - loss: 0.1441 - accuracy: 0.9264 - val_loss: 0.1620 - val_accuracy: 0.9110\n",
            "Epoch 11/20\n",
            "84/84 [==============================] - 12s 140ms/step - loss: 0.1375 - accuracy: 0.9346 - val_loss: 0.1618 - val_accuracy: 0.9088\n",
            "Epoch 12/20\n",
            "84/84 [==============================] - 12s 140ms/step - loss: 0.1358 - accuracy: 0.9354 - val_loss: 0.1605 - val_accuracy: 0.9088\n",
            "Epoch 13/20\n",
            "84/84 [==============================] - 12s 139ms/step - loss: 0.1319 - accuracy: 0.9316 - val_loss: 0.1624 - val_accuracy: 0.9065\n",
            "Epoch 14/20\n",
            "84/84 [==============================] - 12s 139ms/step - loss: 0.1399 - accuracy: 0.9298 - val_loss: 0.1634 - val_accuracy: 0.9065\n",
            "Epoch 15/20\n",
            "84/84 [==============================] - 12s 139ms/step - loss: 0.1382 - accuracy: 0.9298 - val_loss: 0.1633 - val_accuracy: 0.9043\n",
            "Epoch 16/20\n",
            "84/84 [==============================] - 12s 139ms/step - loss: 0.1324 - accuracy: 0.9309 - val_loss: 0.1629 - val_accuracy: 0.9065\n",
            "Epoch 17/20\n",
            "84/84 [==============================] - 12s 140ms/step - loss: 0.1330 - accuracy: 0.9324 - val_loss: 0.1734 - val_accuracy: 0.9077\n",
            "Epoch 18/20\n",
            "84/84 [==============================] - 12s 140ms/step - loss: 0.1283 - accuracy: 0.9376 - val_loss: 0.1699 - val_accuracy: 0.9054\n",
            "Epoch 19/20\n",
            "84/84 [==============================] - 12s 140ms/step - loss: 0.1353 - accuracy: 0.9316 - val_loss: 0.1562 - val_accuracy: 0.9077\n",
            "Epoch 20/20\n",
            "84/84 [==============================] - 12s 140ms/step - loss: 0.1304 - accuracy: 0.9316 - val_loss: 0.1721 - val_accuracy: 0.9077\n"
          ]
        }
      ],
      "source": [
        "hist = model.fit(xtrain,ytrain,epochs = 20,batch_size = 32,validation_data = (xtest,ytest))"
      ]
    },
    {
      "cell_type": "code",
      "execution_count": null,
      "id": "5f73e56e",
      "metadata": {
        "colab": {
          "base_uri": "https://localhost:8080/",
          "height": 52
        },
        "id": "5f73e56e",
        "outputId": "27afb16a-7cf5-40cf-efd0-eae3b379cad3"
      },
      "outputs": [
        {
          "data": {
            "text/plain": [
              "<Figure size 1200x400 with 0 Axes>"
            ]
          },
          "execution_count": 73,
          "metadata": {},
          "output_type": "execute_result"
        },
        {
          "data": {
            "text/plain": [
              "<Figure size 1200x400 with 0 Axes>"
            ]
          },
          "metadata": {},
          "output_type": "display_data"
        }
      ],
      "source": [
        "def plot_history(history):\n",
        "    plt.figure(figsize=(12, 4))\n",
        "    plt.subplot(1, 2, 1)\n",
        "    plt.plot(history.history['accuracy'])\n",
        "    plt.plot(history.history['val_accuracy'])\n",
        "    plt.title('Model Accuracy')\n",
        "    plt.ylabel('Accuracy')\n",
        "    plt.legend(['Train', 'Test'], loc='upper left')\n",
        "\n",
        "    plt.subplot(1, 2, 2)\n",
        "    plt.plot(history.history['loss'])\n",
        "    plt.plot(history.history['val_loss'])\n",
        "    plt.title('Model Loss')\n",
        "    plt.ylabel('Loss')\n",
        "    plt.legend(['Train', 'Test'], loc='upper left')\n",
        "\n",
        "    plt.tight_layout()\n",
        "    plt.show()\n",
        "plot_history(hist)"
      ]
    },
    {
      "cell_type": "code",
      "execution_count": null,
      "id": "5744dd2a",
      "metadata": {
        "id": "5744dd2a"
      },
      "outputs": [],
      "source": [
        "from sklearn.metrics import confusion_matrix,ConfusionMatrixDisplay\n",
        "from sklearn.metrics import accuracy_score"
      ]
    },
    {
      "cell_type": "code",
      "execution_count": null,
      "id": "ceaa524a",
      "metadata": {
        "colab": {
          "base_uri": "https://localhost:8080/"
        },
        "id": "ceaa524a",
        "outputId": "ecfebff0-6a30-498b-b1f3-21bf8baad71d"
      },
      "outputs": [
        {
          "name": "stdout",
          "output_type": "stream",
          "text": [
            "28/28 [==============================] - 1s 23ms/step\n"
          ]
        }
      ],
      "source": [
        "img = np.reshape(xtest,(-1,1,224,224))\n",
        "res = model.predict(xtest)"
      ]
    },
    {
      "cell_type": "code",
      "execution_count": null,
      "id": "a828bfc2",
      "metadata": {
        "id": "a828bfc2"
      },
      "outputs": [],
      "source": [
        "ypred = []\n",
        "for i in res:\n",
        "  temp = np.argmax(i)\n",
        "  ypred.append(temp)\n",
        "ypred = np.array(ypred)"
      ]
    },
    {
      "cell_type": "code",
      "execution_count": null,
      "id": "fa52f5cd",
      "metadata": {
        "colab": {
          "base_uri": "https://localhost:8080/"
        },
        "id": "fa52f5cd",
        "outputId": "5a2eaf0d-ff57-4ede-f4d7-d1c6155dcd51"
      },
      "outputs": [
        {
          "data": {
            "text/plain": [
              "0.2702702702702703"
            ]
          },
          "execution_count": 77,
          "metadata": {},
          "output_type": "execute_result"
        }
      ],
      "source": [
        "accuracy_score(ytest,ypred)"
      ]
    },
    {
      "cell_type": "code",
      "execution_count": null,
      "id": "9ddd50b2",
      "metadata": {
        "id": "9ddd50b2"
      },
      "outputs": [],
      "source": [
        "cf = confusion_matrix(y_true = ytest ,y_pred =  ypred)\n",
        "x = ConfusionMatrixDisplay(cf)\n",
        "x.plot()"
      ]
    },
    {
      "cell_type": "markdown",
      "id": "d194f2d5",
      "metadata": {
        "id": "d194f2d5"
      },
      "source": [
        "{2: 'Non Demented', 3: 'Very mild Dementia', 1: 'Moderate Dementia', 0: 'Mild Dementia'}"
      ]
    },
    {
      "cell_type": "markdown",
      "id": "SrCnc8y-dL2a",
      "metadata": {
        "id": "SrCnc8y-dL2a"
      },
      "source": [
        "#AlexNet"
      ]
    },
    {
      "cell_type": "code",
      "execution_count": null,
      "id": "3a00e110",
      "metadata": {
        "colab": {
          "base_uri": "https://localhost:8080/"
        },
        "id": "3a00e110",
        "outputId": "22cbcee4-aaa5-42f1-f277-e1d5dde0da5c"
      },
      "outputs": [
        {
          "name": "stdout",
          "output_type": "stream",
          "text": [
            "Model: \"sequential_1\"\n",
            "_________________________________________________________________\n",
            " Layer (type)                Output Shape              Param #   \n",
            "=================================================================\n",
            " conv2d_5 (Conv2D)           (None, 54, 54, 96)        11712     \n",
            "                                                                 \n",
            " max_pooling2d_3 (MaxPoolin  (None, 26, 26, 96)        0         \n",
            " g2D)                                                            \n",
            "                                                                 \n",
            " conv2d_6 (Conv2D)           (None, 26, 26, 256)       614656    \n",
            "                                                                 \n",
            " max_pooling2d_4 (MaxPoolin  (None, 12, 12, 256)       0         \n",
            " g2D)                                                            \n",
            "                                                                 \n",
            " conv2d_7 (Conv2D)           (None, 12, 12, 384)       885120    \n",
            "                                                                 \n",
            " conv2d_8 (Conv2D)           (None, 12, 12, 384)       1327488   \n",
            "                                                                 \n",
            " conv2d_9 (Conv2D)           (None, 12, 12, 256)       884992    \n",
            "                                                                 \n",
            " max_pooling2d_5 (MaxPoolin  (None, 5, 5, 256)         0         \n",
            " g2D)                                                            \n",
            "                                                                 \n",
            " flatten_1 (Flatten)         (None, 6400)              0         \n",
            "                                                                 \n",
            " dense_3 (Dense)             (None, 4096)              26218496  \n",
            "                                                                 \n",
            " dense_4 (Dense)             (None, 4096)              16781312  \n",
            "                                                                 \n",
            " dense_5 (Dense)             (None, 1000)              4097000   \n",
            "                                                                 \n",
            "=================================================================\n",
            "Total params: 50820776 (193.87 MB)\n",
            "Trainable params: 50820776 (193.87 MB)\n",
            "Non-trainable params: 0 (0.00 Byte)\n",
            "_________________________________________________________________\n"
          ]
        }
      ],
      "source": [
        "model = Sequential()\n",
        "\n",
        "# Block 1\n",
        "model.add(Conv2D(96, (11, 11), strides=(4, 4), activation='relu', input_shape=(224, 224, 1)))\n",
        "model.add(MaxPool2D(pool_size=(3, 3), strides=(2, 2)))\n",
        "\n",
        "# Block 2\n",
        "model.add(Conv2D(256, (5, 5), padding='same', activation='relu'))\n",
        "model.add(MaxPool2D(pool_size=(3, 3), strides=(2, 2)))\n",
        "\n",
        "# Block 3\n",
        "model.add(Conv2D(384, (3, 3), padding='same', activation='relu'))\n",
        "model.add(Conv2D(384, (3, 3), padding='same', activation='relu'))\n",
        "model.add(Conv2D(256, (3, 3), padding='same', activation='relu'))\n",
        "model.add(MaxPool2D(pool_size=(3, 3), strides=(2, 2)))\n",
        "\n",
        "# Fully connected layers\n",
        "model.add(Flatten())\n",
        "model.add(Dense(4096, activation='relu'))\n",
        "model.add(Dense(4096, activation='relu'))\n",
        "model.add(Dense(1000, activation='softmax'))  # Change 1000 to the number of classes in your task\n",
        "\n",
        "model.summary()  # Display model summary"
      ]
    },
    {
      "cell_type": "code",
      "execution_count": null,
      "id": "1ITYbTsDY801",
      "metadata": {
        "id": "1ITYbTsDY801"
      },
      "outputs": [],
      "source": [
        "model.compile(optimizer = 'adamax',loss = 'sparse_categorical_crossentropy',metrics = ['accuracy'])"
      ]
    },
    {
      "cell_type": "code",
      "execution_count": null,
      "id": "P6E8eJcOYz7d",
      "metadata": {
        "colab": {
          "base_uri": "https://localhost:8080/"
        },
        "id": "P6E8eJcOYz7d",
        "outputId": "5d414ec1-b4f0-414a-e1d4-42b2c92a4ec7"
      },
      "outputs": [
        {
          "name": "stdout",
          "output_type": "stream",
          "text": [
            "Epoch 1/20\n",
            "84/84 [==============================] - 423s 5s/step - loss: 6.5164 - accuracy: 0.4027 - val_loss: 1.0128 - val_accuracy: 0.6002\n",
            "Epoch 2/20\n",
            "84/84 [==============================] - 414s 5s/step - loss: 0.7467 - accuracy: 0.6953 - val_loss: 0.4876 - val_accuracy: 0.8063\n",
            "Epoch 3/20\n",
            "84/84 [==============================] - 451s 5s/step - loss: 0.3365 - accuracy: 0.8832 - val_loss: 0.3564 - val_accuracy: 0.8525\n",
            "Epoch 4/20\n",
            "84/84 [==============================] - 474s 6s/step - loss: 0.1634 - accuracy: 0.9467 - val_loss: 0.1334 - val_accuracy: 0.9538\n",
            "Epoch 5/20\n",
            "84/84 [==============================] - 454s 5s/step - loss: 0.0610 - accuracy: 0.9816 - val_loss: 0.0708 - val_accuracy: 0.9842\n",
            "Epoch 6/20\n",
            "84/84 [==============================] - 465s 6s/step - loss: 0.0519 - accuracy: 0.9812 - val_loss: 0.0488 - val_accuracy: 0.9865\n",
            "Epoch 7/20\n",
            "84/84 [==============================] - 476s 6s/step - loss: 0.0450 - accuracy: 0.9846 - val_loss: 0.0798 - val_accuracy: 0.9899\n",
            "Epoch 8/20\n",
            "84/84 [==============================] - 410s 5s/step - loss: 0.0359 - accuracy: 0.9850 - val_loss: 0.0561 - val_accuracy: 0.9865\n",
            "Epoch 9/20\n",
            "84/84 [==============================] - 420s 5s/step - loss: 0.0311 - accuracy: 0.9865 - val_loss: 0.0654 - val_accuracy: 0.9876\n",
            "Epoch 10/20\n",
            "84/84 [==============================] - 427s 5s/step - loss: 0.0294 - accuracy: 0.9872 - val_loss: 0.0542 - val_accuracy: 0.9797\n",
            "Epoch 11/20\n",
            "84/84 [==============================] - 408s 5s/step - loss: 0.0293 - accuracy: 0.9861 - val_loss: 0.0458 - val_accuracy: 0.9865\n",
            "Epoch 12/20\n",
            "84/84 [==============================] - 409s 5s/step - loss: 0.0253 - accuracy: 0.9880 - val_loss: 0.0465 - val_accuracy: 0.9865\n",
            "Epoch 13/20\n",
            "84/84 [==============================] - 398s 5s/step - loss: 0.0279 - accuracy: 0.9857 - val_loss: 0.0667 - val_accuracy: 0.9876\n",
            "Epoch 14/20\n",
            "84/84 [==============================] - 420s 5s/step - loss: 0.0274 - accuracy: 0.9869 - val_loss: 0.0444 - val_accuracy: 0.9865\n",
            "Epoch 15/20\n",
            "84/84 [==============================] - 412s 5s/step - loss: 0.0275 - accuracy: 0.9861 - val_loss: 0.0586 - val_accuracy: 0.9887\n",
            "Epoch 16/20\n",
            "84/84 [==============================] - 412s 5s/step - loss: 0.0264 - accuracy: 0.9891 - val_loss: 0.0494 - val_accuracy: 0.9865\n",
            "Epoch 17/20\n",
            "84/84 [==============================] - 412s 5s/step - loss: 0.0247 - accuracy: 0.9872 - val_loss: 0.0886 - val_accuracy: 0.9865\n",
            "Epoch 18/20\n",
            "84/84 [==============================] - 413s 5s/step - loss: 0.0734 - accuracy: 0.9745 - val_loss: 0.1684 - val_accuracy: 0.9505\n",
            "Epoch 19/20\n",
            "84/84 [==============================] - 412s 5s/step - loss: 0.0417 - accuracy: 0.9835 - val_loss: 0.0648 - val_accuracy: 0.9865\n",
            "Epoch 20/20\n",
            "84/84 [==============================] - 410s 5s/step - loss: 0.0246 - accuracy: 0.9876 - val_loss: 0.0552 - val_accuracy: 0.9876\n"
          ]
        }
      ],
      "source": [
        "hist = model.fit(xtrain,ytrain,epochs = 20,batch_size = 32,validation_data = (xtest,ytest))"
      ]
    },
    {
      "cell_type": "code",
      "execution_count": null,
      "id": "tlrsDq7Cdku7",
      "metadata": {
        "colab": {
          "base_uri": "https://localhost:8080/",
          "height": 286
        },
        "id": "tlrsDq7Cdku7",
        "outputId": "21fe5a12-25fd-4b06-d6e7-67f5d00b6384"
      },
      "outputs": [
        {
          "data": {
            "image/png": "[encoded data removed]",
            "text/plain": [
              "<Figure size 1200x400 with 2 Axes>"
            ]
          },
          "metadata": {},
          "output_type": "display_data"
        }
      ],
      "source": [
        "import matplotlib.pyplot as plt\n",
        "\n",
        "def plot_history(hist):\n",
        "    plt.figure(figsize=(12, 4))\n",
        "    plt.subplot(1, 2, 1)\n",
        "    plt.plot(hist.history['accuracy'])\n",
        "    plt.plot(hist.history['val_accuracy'])\n",
        "    plt.title('Model Accuracy')\n",
        "    plt.ylabel('Accuracy')\n",
        "    plt.xlabel('Epoch')\n",
        "    plt.legend(['Train', 'Test'], loc='upper left')\n",
        "\n",
        "    plt.subplot(1, 2, 2)\n",
        "    plt.plot(hist.history['loss'])\n",
        "    plt.plot(hist.history['val_loss'])\n",
        "    plt.title('Model Loss')\n",
        "    plt.ylabel('Loss')\n",
        "    plt.xlabel('Epoch')\n",
        "    plt.legend(['Train', 'Test'], loc='upper left')\n",
        "\n",
        "    plt.tight_layout()\n",
        "    plt.show()\n",
        "plot_history(hist)"
      ]
    },
    {
      "cell_type": "code",
      "execution_count": null,
      "id": "vtaNmvGNdkxr",
      "metadata": {
        "id": "vtaNmvGNdkxr"
      },
      "outputs": [],
      "source": [
        "from sklearn.metrics import confusion_matrix,ConfusionMatrixDisplay\n",
        "from sklearn.metrics import accuracy_score"
      ]
    },
    {
      "cell_type": "code",
      "execution_count": null,
      "id": "6ui-VsBzdk0G",
      "metadata": {
        "colab": {
          "base_uri": "https://localhost:8080/"
        },
        "id": "6ui-VsBzdk0G",
        "outputId": "03c153fa-5c29-4e5b-db80-dd8064749065"
      },
      "outputs": [
        {
          "name": "stdout",
          "output_type": "stream",
          "text": [
            "28/28 [==============================] - 29s 1s/step\n"
          ]
        }
      ],
      "source": [
        "img = np.reshape(xtest,(-1,1,224,224))\n",
        "res = model.predict(xtest)"
      ]
    },
    {
      "cell_type": "code",
      "execution_count": null,
      "id": "ygeOe0zRdk3t",
      "metadata": {
        "id": "ygeOe0zRdk3t"
      },
      "outputs": [],
      "source": [
        "ypred = []\n",
        "for i in res:\n",
        "  temp = np.argmax(i)\n",
        "  ypred.append(temp)\n",
        "ypred = np.array(ypred)"
      ]
    },
    {
      "cell_type": "code",
      "execution_count": null,
      "id": "IrmHMI5Ed3t5",
      "metadata": {
        "colab": {
          "base_uri": "https://localhost:8080/"
        },
        "id": "IrmHMI5Ed3t5",
        "outputId": "5ca07c24-6080-4452-cf37-c6e4b16464f1"
      },
      "outputs": [
        {
          "data": {
            "text/plain": [
              "0.9876126126126126"
            ]
          },
          "execution_count": 42,
          "metadata": {},
          "output_type": "execute_result"
        }
      ],
      "source": [
        "accuracy_score(ytest,ypred)"
      ]
    },
    {
      "cell_type": "code",
      "execution_count": null,
      "id": "n6aBGExpd3wB",
      "metadata": {
        "colab": {
          "base_uri": "https://localhost:8080/",
          "height": 466
        },
        "id": "n6aBGExpd3wB",
        "outputId": "b51f84ee-0921-4f28-e6ba-b86acac1f356"
      },
      "outputs": [
        {
          "data": {
            "text/plain": [
              "<sklearn.metrics._plot.confusion_matrix.ConfusionMatrixDisplay at 0x7afb035c00a0>"
            ]
          },
          "execution_count": 43,
          "metadata": {},
          "output_type": "execute_result"
        },
        {
          "data": {
            "image/png": "[encoded data removed]",
            "text/plain": [
              "<Figure size 640x480 with 2 Axes>"
            ]
          },
          "metadata": {},
          "output_type": "display_data"
        }
      ],
      "source": [
        "cf = confusion_matrix(y_true = ytest ,y_pred =  ypred)\n",
        "x = ConfusionMatrixDisplay(cf)\n",
        "x.plot()"
      ]
    },
    {
      "cell_type": "markdown",
      "id": "WImL8q95d9FJ",
      "metadata": {
        "id": "WImL8q95d9FJ"
      },
      "source": [
        "#ResNet-18"
      ]
    },
    {
      "cell_type": "code",
      "execution_count": null,
      "id": "B_mIsaUed9iS",
      "metadata": {
        "colab": {
          "base_uri": "https://localhost:8080/"
        },
        "id": "B_mIsaUed9iS",
        "outputId": "313d952a-e644-43ab-bda5-ad4a8bb1cea7"
      },
      "outputs": [
        {
          "name": "stdout",
          "output_type": "stream",
          "text": [
            "Model: \"resnet18\"\n",
            "__________________________________________________________________________________________________\n",
            " Layer (type)                Output Shape                 Param #   Connected to                  \n",
            "==================================================================================================\n",
            " input_25 (InputLayer)       [(None, 224, 224, 1)]        0         []                            \n",
            "                                                                                                  \n",
            " conv2d_505 (Conv2D)         (None, 112, 112, 64)         3200      ['input_25[0][0]']            \n",
            "                                                                                                  \n",
            " batch_normalization_126 (B  (None, 112, 112, 64)         256       ['conv2d_505[0][0]']          \n",
            " atchNormalization)                                                                               \n",
            "                                                                                                  \n",
            " activation_128 (Activation  (None, 112, 112, 64)         0         ['batch_normalization_126[0][0\n",
            " )                                                                  ]']                           \n",
            "                                                                                                  \n",
            " max_pooling2d_95 (MaxPooli  (None, 56, 56, 64)           0         ['activation_128[0][0]']      \n",
            " ng2D)                                                                                            \n",
            "                                                                                                  \n",
            " conv2d_506 (Conv2D)         (None, 56, 56, 64)           36928     ['max_pooling2d_95[0][0]']    \n",
            "                                                                                                  \n",
            " batch_normalization_127 (B  (None, 56, 56, 64)           256       ['conv2d_506[0][0]']          \n",
            " atchNormalization)                                                                               \n",
            "                                                                                                  \n",
            " activation_129 (Activation  (None, 56, 56, 64)           0         ['batch_normalization_127[0][0\n",
            " )                                                                  ]']                           \n",
            "                                                                                                  \n",
            " conv2d_507 (Conv2D)         (None, 56, 56, 64)           36928     ['activation_129[0][0]']      \n",
            "                                                                                                  \n",
            " batch_normalization_128 (B  (None, 56, 56, 64)           256       ['conv2d_507[0][0]']          \n",
            " atchNormalization)                                                                               \n",
            "                                                                                                  \n",
            " activation_130 (Activation  (None, 56, 56, 64)           0         ['batch_normalization_128[0][0\n",
            " )                                                                  ]']                           \n",
            "                                                                                                  \n",
            " conv2d_508 (Conv2D)         (None, 56, 56, 64)           36928     ['activation_130[0][0]']      \n",
            "                                                                                                  \n",
            " batch_normalization_129 (B  (None, 56, 56, 64)           256       ['conv2d_508[0][0]']          \n",
            " atchNormalization)                                                                               \n",
            "                                                                                                  \n",
            " add_48 (Add)                (None, 56, 56, 64)           0         ['batch_normalization_129[0][0\n",
            "                                                                    ]',                           \n",
            "                                                                     'activation_129[0][0]']      \n",
            "                                                                                                  \n",
            " activation_131 (Activation  (None, 56, 56, 64)           0         ['add_48[0][0]']              \n",
            " )                                                                                                \n",
            "                                                                                                  \n",
            " conv2d_509 (Conv2D)         (None, 56, 56, 64)           36928     ['activation_131[0][0]']      \n",
            "                                                                                                  \n",
            " batch_normalization_130 (B  (None, 56, 56, 64)           256       ['conv2d_509[0][0]']          \n",
            " atchNormalization)                                                                               \n",
            "                                                                                                  \n",
            " activation_132 (Activation  (None, 56, 56, 64)           0         ['batch_normalization_130[0][0\n",
            " )                                                                  ]']                           \n",
            "                                                                                                  \n",
            " conv2d_510 (Conv2D)         (None, 56, 56, 64)           36928     ['activation_132[0][0]']      \n",
            "                                                                                                  \n",
            " batch_normalization_131 (B  (None, 56, 56, 64)           256       ['conv2d_510[0][0]']          \n",
            " atchNormalization)                                                                               \n",
            "                                                                                                  \n",
            " add_49 (Add)                (None, 56, 56, 64)           0         ['batch_normalization_131[0][0\n",
            "                                                                    ]',                           \n",
            "                                                                     'activation_131[0][0]']      \n",
            "                                                                                                  \n",
            " activation_133 (Activation  (None, 56, 56, 64)           0         ['add_49[0][0]']              \n",
            " )                                                                                                \n",
            "                                                                                                  \n",
            " conv2d_511 (Conv2D)         (None, 28, 28, 128)          73856     ['activation_133[0][0]']      \n",
            "                                                                                                  \n",
            " batch_normalization_132 (B  (None, 28, 28, 128)          512       ['conv2d_511[0][0]']          \n",
            " atchNormalization)                                                                               \n",
            "                                                                                                  \n",
            " activation_134 (Activation  (None, 28, 28, 128)          0         ['batch_normalization_132[0][0\n",
            " )                                                                  ]']                           \n",
            "                                                                                                  \n",
            " conv2d_512 (Conv2D)         (None, 28, 28, 128)          147584    ['activation_134[0][0]']      \n",
            "                                                                                                  \n",
            " batch_normalization_133 (B  (None, 28, 28, 128)          512       ['conv2d_512[0][0]']          \n",
            " atchNormalization)                                                                               \n",
            "                                                                                                  \n",
            " activation_135 (Activation  (None, 28, 28, 128)          0         ['batch_normalization_133[0][0\n",
            " )                                                                  ]']                           \n",
            "                                                                                                  \n",
            " conv2d_513 (Conv2D)         (None, 28, 28, 128)          147584    ['activation_135[0][0]']      \n",
            "                                                                                                  \n",
            " batch_normalization_134 (B  (None, 28, 28, 128)          512       ['conv2d_513[0][0]']          \n",
            " atchNormalization)                                                                               \n",
            "                                                                                                  \n",
            " add_50 (Add)                (None, 28, 28, 128)          0         ['batch_normalization_134[0][0\n",
            "                                                                    ]',                           \n",
            "                                                                     'activation_134[0][0]']      \n",
            "                                                                                                  \n",
            " activation_136 (Activation  (None, 28, 28, 128)          0         ['add_50[0][0]']              \n",
            " )                                                                                                \n",
            "                                                                                                  \n",
            " conv2d_514 (Conv2D)         (None, 28, 28, 128)          147584    ['activation_136[0][0]']      \n",
            "                                                                                                  \n",
            " batch_normalization_135 (B  (None, 28, 28, 128)          512       ['conv2d_514[0][0]']          \n",
            " atchNormalization)                                                                               \n",
            "                                                                                                  \n",
            " activation_137 (Activation  (None, 28, 28, 128)          0         ['batch_normalization_135[0][0\n",
            " )                                                                  ]']                           \n",
            "                                                                                                  \n",
            " conv2d_515 (Conv2D)         (None, 28, 28, 128)          147584    ['activation_137[0][0]']      \n",
            "                                                                                                  \n",
            " batch_normalization_136 (B  (None, 28, 28, 128)          512       ['conv2d_515[0][0]']          \n",
            " atchNormalization)                                                                               \n",
            "                                                                                                  \n",
            " add_51 (Add)                (None, 28, 28, 128)          0         ['batch_normalization_136[0][0\n",
            "                                                                    ]',                           \n",
            "                                                                     'activation_136[0][0]']      \n",
            "                                                                                                  \n",
            " activation_138 (Activation  (None, 28, 28, 128)          0         ['add_51[0][0]']              \n",
            " )                                                                                                \n",
            "                                                                                                  \n",
            " conv2d_516 (Conv2D)         (None, 14, 14, 256)          295168    ['activation_138[0][0]']      \n",
            "                                                                                                  \n",
            " batch_normalization_137 (B  (None, 14, 14, 256)          1024      ['conv2d_516[0][0]']          \n",
            " atchNormalization)                                                                               \n",
            "                                                                                                  \n",
            " activation_139 (Activation  (None, 14, 14, 256)          0         ['batch_normalization_137[0][0\n",
            " )                                                                  ]']                           \n",
            "                                                                                                  \n",
            " conv2d_517 (Conv2D)         (None, 14, 14, 256)          590080    ['activation_139[0][0]']      \n",
            "                                                                                                  \n",
            " batch_normalization_138 (B  (None, 14, 14, 256)          1024      ['conv2d_517[0][0]']          \n",
            " atchNormalization)                                                                               \n",
            "                                                                                                  \n",
            " activation_140 (Activation  (None, 14, 14, 256)          0         ['batch_normalization_138[0][0\n",
            " )                                                                  ]']                           \n",
            "                                                                                                  \n",
            " conv2d_518 (Conv2D)         (None, 14, 14, 256)          590080    ['activation_140[0][0]']      \n",
            "                                                                                                  \n",
            " batch_normalization_139 (B  (None, 14, 14, 256)          1024      ['conv2d_518[0][0]']          \n",
            " atchNormalization)                                                                               \n",
            "                                                                                                  \n",
            " add_52 (Add)                (None, 14, 14, 256)          0         ['batch_normalization_139[0][0\n",
            "                                                                    ]',                           \n",
            "                                                                     'activation_139[0][0]']      \n",
            "                                                                                                  \n",
            " activation_141 (Activation  (None, 14, 14, 256)          0         ['add_52[0][0]']              \n",
            " )                                                                                                \n",
            "                                                                                                  \n",
            " conv2d_519 (Conv2D)         (None, 14, 14, 256)          590080    ['activation_141[0][0]']      \n",
            "                                                                                                  \n",
            " batch_normalization_140 (B  (None, 14, 14, 256)          1024      ['conv2d_519[0][0]']          \n",
            " atchNormalization)                                                                               \n",
            "                                                                                                  \n",
            " activation_142 (Activation  (None, 14, 14, 256)          0         ['batch_normalization_140[0][0\n",
            " )                                                                  ]']                           \n",
            "                                                                                                  \n",
            " conv2d_520 (Conv2D)         (None, 14, 14, 256)          590080    ['activation_142[0][0]']      \n",
            "                                                                                                  \n",
            " batch_normalization_141 (B  (None, 14, 14, 256)          1024      ['conv2d_520[0][0]']          \n",
            " atchNormalization)                                                                               \n",
            "                                                                                                  \n",
            " add_53 (Add)                (None, 14, 14, 256)          0         ['batch_normalization_141[0][0\n",
            "                                                                    ]',                           \n",
            "                                                                     'activation_141[0][0]']      \n",
            "                                                                                                  \n",
            " activation_143 (Activation  (None, 14, 14, 256)          0         ['add_53[0][0]']              \n",
            " )                                                                                                \n",
            "                                                                                                  \n",
            " conv2d_521 (Conv2D)         (None, 7, 7, 512)            1180160   ['activation_143[0][0]']      \n",
            "                                                                                                  \n",
            " batch_normalization_142 (B  (None, 7, 7, 512)            2048      ['conv2d_521[0][0]']          \n",
            " atchNormalization)                                                                               \n",
            "                                                                                                  \n",
            " activation_144 (Activation  (None, 7, 7, 512)            0         ['batch_normalization_142[0][0\n",
            " )                                                                  ]']                           \n",
            "                                                                                                  \n",
            " conv2d_522 (Conv2D)         (None, 7, 7, 512)            2359808   ['activation_144[0][0]']      \n",
            "                                                                                                  \n",
            " batch_normalization_143 (B  (None, 7, 7, 512)            2048      ['conv2d_522[0][0]']          \n",
            " atchNormalization)                                                                               \n",
            "                                                                                                  \n",
            " activation_145 (Activation  (None, 7, 7, 512)            0         ['batch_normalization_143[0][0\n",
            " )                                                                  ]']                           \n",
            "                                                                                                  \n",
            " conv2d_523 (Conv2D)         (None, 7, 7, 512)            2359808   ['activation_145[0][0]']      \n",
            "                                                                                                  \n",
            " batch_normalization_144 (B  (None, 7, 7, 512)            2048      ['conv2d_523[0][0]']          \n",
            " atchNormalization)                                                                               \n",
            "                                                                                                  \n",
            " add_54 (Add)                (None, 7, 7, 512)            0         ['batch_normalization_144[0][0\n",
            "                                                                    ]',                           \n",
            "                                                                     'activation_144[0][0]']      \n",
            "                                                                                                  \n",
            " activation_146 (Activation  (None, 7, 7, 512)            0         ['add_54[0][0]']              \n",
            " )                                                                                                \n",
            "                                                                                                  \n",
            " conv2d_524 (Conv2D)         (None, 7, 7, 512)            2359808   ['activation_146[0][0]']      \n",
            "                                                                                                  \n",
            " batch_normalization_145 (B  (None, 7, 7, 512)            2048      ['conv2d_524[0][0]']          \n",
            " atchNormalization)                                                                               \n",
            "                                                                                                  \n",
            " activation_147 (Activation  (None, 7, 7, 512)            0         ['batch_normalization_145[0][0\n",
            " )                                                                  ]']                           \n",
            "                                                                                                  \n",
            " conv2d_525 (Conv2D)         (None, 7, 7, 512)            2359808   ['activation_147[0][0]']      \n",
            "                                                                                                  \n",
            " batch_normalization_146 (B  (None, 7, 7, 512)            2048      ['conv2d_525[0][0]']          \n",
            " atchNormalization)                                                                               \n",
            "                                                                                                  \n",
            " add_55 (Add)                (None, 7, 7, 512)            0         ['batch_normalization_146[0][0\n",
            "                                                                    ]',                           \n",
            "                                                                     'activation_146[0][0]']      \n",
            "                                                                                                  \n",
            " activation_148 (Activation  (None, 7, 7, 512)            0         ['add_55[0][0]']              \n",
            " )                                                                                                \n",
            "                                                                                                  \n",
            " avg_pool (AveragePooling2D  (None, 1, 1, 512)            0         ['activation_148[0][0]']      \n",
            " )                                                                                                \n",
            "                                                                                                  \n",
            " flatten_18 (Flatten)        (None, 512)                  0         ['avg_pool[0][0]']            \n",
            "                                                                                                  \n",
            " dense_31 (Dense)            (None, 1000)                 513000    ['flatten_18[0][0]']          \n",
            "                                                                                                  \n",
            "==================================================================================================\n",
            "Total params: 14659368 (55.92 MB)\n",
            "Trainable params: 14649640 (55.88 MB)\n",
            "Non-trainable params: 9728 (38.00 KB)\n",
            "__________________________________________________________________________________________________\n",
            "Model: \"resnet18\"\n",
            "__________________________________________________________________________________________________\n",
            " Layer (type)                Output Shape                 Param #   Connected to                  \n",
            "==================================================================================================\n",
            " input_26 (InputLayer)       [(None, 224, 224, 1)]        0         []                            \n",
            "                                                                                                  \n",
            " conv2d_526 (Conv2D)         (None, 112, 112, 64)         3200      ['input_26[0][0]']            \n",
            "                                                                                                  \n",
            " batch_normalization_147 (B  (None, 112, 112, 64)         256       ['conv2d_526[0][0]']          \n",
            " atchNormalization)                                                                               \n",
            "                                                                                                  \n",
            " activation_149 (Activation  (None, 112, 112, 64)         0         ['batch_normalization_147[0][0\n",
            " )                                                                  ]']                           \n",
            "                                                                                                  \n",
            " max_pooling2d_96 (MaxPooli  (None, 56, 56, 64)           0         ['activation_149[0][0]']      \n",
            " ng2D)                                                                                            \n",
            "                                                                                                  \n",
            " conv2d_527 (Conv2D)         (None, 56, 56, 64)           36928     ['max_pooling2d_96[0][0]']    \n",
            "                                                                                                  \n",
            " batch_normalization_148 (B  (None, 56, 56, 64)           256       ['conv2d_527[0][0]']          \n",
            " atchNormalization)                                                                               \n",
            "                                                                                                  \n",
            " activation_150 (Activation  (None, 56, 56, 64)           0         ['batch_normalization_148[0][0\n",
            " )                                                                  ]']                           \n",
            "                                                                                                  \n",
            " conv2d_528 (Conv2D)         (None, 56, 56, 64)           36928     ['activation_150[0][0]']      \n",
            "                                                                                                  \n",
            " batch_normalization_149 (B  (None, 56, 56, 64)           256       ['conv2d_528[0][0]']          \n",
            " atchNormalization)                                                                               \n",
            "                                                                                                  \n",
            " activation_151 (Activation  (None, 56, 56, 64)           0         ['batch_normalization_149[0][0\n",
            " )                                                                  ]']                           \n",
            "                                                                                                  \n",
            " conv2d_529 (Conv2D)         (None, 56, 56, 64)           36928     ['activation_151[0][0]']      \n",
            "                                                                                                  \n",
            " batch_normalization_150 (B  (None, 56, 56, 64)           256       ['conv2d_529[0][0]']          \n",
            " atchNormalization)                                                                               \n",
            "                                                                                                  \n",
            " add_56 (Add)                (None, 56, 56, 64)           0         ['batch_normalization_150[0][0\n",
            "                                                                    ]',                           \n",
            "                                                                     'activation_150[0][0]']      \n",
            "                                                                                                  \n",
            " activation_152 (Activation  (None, 56, 56, 64)           0         ['add_56[0][0]']              \n",
            " )                                                                                                \n",
            "                                                                                                  \n",
            " conv2d_530 (Conv2D)         (None, 56, 56, 64)           36928     ['activation_152[0][0]']      \n",
            "                                                                                                  \n",
            " batch_normalization_151 (B  (None, 56, 56, 64)           256       ['conv2d_530[0][0]']          \n",
            " atchNormalization)                                                                               \n",
            "                                                                                                  \n",
            " activation_153 (Activation  (None, 56, 56, 64)           0         ['batch_normalization_151[0][0\n",
            " )                                                                  ]']                           \n",
            "                                                                                                  \n",
            " conv2d_531 (Conv2D)         (None, 56, 56, 64)           36928     ['activation_153[0][0]']      \n",
            "                                                                                                  \n",
            " batch_normalization_152 (B  (None, 56, 56, 64)           256       ['conv2d_531[0][0]']          \n",
            " atchNormalization)                                                                               \n",
            "                                                                                                  \n",
            " add_57 (Add)                (None, 56, 56, 64)           0         ['batch_normalization_152[0][0\n",
            "                                                                    ]',                           \n",
            "                                                                     'activation_152[0][0]']      \n",
            "                                                                                                  \n",
            " activation_154 (Activation  (None, 56, 56, 64)           0         ['add_57[0][0]']              \n",
            " )                                                                                                \n",
            "                                                                                                  \n",
            " conv2d_532 (Conv2D)         (None, 28, 28, 128)          73856     ['activation_154[0][0]']      \n",
            "                                                                                                  \n",
            " batch_normalization_153 (B  (None, 28, 28, 128)          512       ['conv2d_532[0][0]']          \n",
            " atchNormalization)                                                                               \n",
            "                                                                                                  \n",
            " activation_155 (Activation  (None, 28, 28, 128)          0         ['batch_normalization_153[0][0\n",
            " )                                                                  ]']                           \n",
            "                                                                                                  \n",
            " conv2d_533 (Conv2D)         (None, 28, 28, 128)          147584    ['activation_155[0][0]']      \n",
            "                                                                                                  \n",
            " batch_normalization_154 (B  (None, 28, 28, 128)          512       ['conv2d_533[0][0]']          \n",
            " atchNormalization)                                                                               \n",
            "                                                                                                  \n",
            " activation_156 (Activation  (None, 28, 28, 128)          0         ['batch_normalization_154[0][0\n",
            " )                                                                  ]']                           \n",
            "                                                                                                  \n",
            " conv2d_534 (Conv2D)         (None, 28, 28, 128)          147584    ['activation_156[0][0]']      \n",
            "                                                                                                  \n",
            " batch_normalization_155 (B  (None, 28, 28, 128)          512       ['conv2d_534[0][0]']          \n",
            " atchNormalization)                                                                               \n",
            "                                                                                                  \n",
            " add_58 (Add)                (None, 28, 28, 128)          0         ['batch_normalization_155[0][0\n",
            "                                                                    ]',                           \n",
            "                                                                     'activation_155[0][0]']      \n",
            "                                                                                                  \n",
            " activation_157 (Activation  (None, 28, 28, 128)          0         ['add_58[0][0]']              \n",
            " )                                                                                                \n",
            "                                                                                                  \n",
            " conv2d_535 (Conv2D)         (None, 28, 28, 128)          147584    ['activation_157[0][0]']      \n",
            "                                                                                                  \n",
            " batch_normalization_156 (B  (None, 28, 28, 128)          512       ['conv2d_535[0][0]']          \n",
            " atchNormalization)                                                                               \n",
            "                                                                                                  \n",
            " activation_158 (Activation  (None, 28, 28, 128)          0         ['batch_normalization_156[0][0\n",
            " )                                                                  ]']                           \n",
            "                                                                                                  \n",
            " conv2d_536 (Conv2D)         (None, 28, 28, 128)          147584    ['activation_158[0][0]']      \n",
            "                                                                                                  \n",
            " batch_normalization_157 (B  (None, 28, 28, 128)          512       ['conv2d_536[0][0]']          \n",
            " atchNormalization)                                                                               \n",
            "                                                                                                  \n",
            " add_59 (Add)                (None, 28, 28, 128)          0         ['batch_normalization_157[0][0\n",
            "                                                                    ]',                           \n",
            "                                                                     'activation_157[0][0]']      \n",
            "                                                                                                  \n",
            " activation_159 (Activation  (None, 28, 28, 128)          0         ['add_59[0][0]']              \n",
            " )                                                                                                \n",
            "                                                                                                  \n",
            " conv2d_537 (Conv2D)         (None, 14, 14, 256)          295168    ['activation_159[0][0]']      \n",
            "                                                                                                  \n",
            " batch_normalization_158 (B  (None, 14, 14, 256)          1024      ['conv2d_537[0][0]']          \n",
            " atchNormalization)                                                                               \n",
            "                                                                                                  \n",
            " activation_160 (Activation  (None, 14, 14, 256)          0         ['batch_normalization_158[0][0\n",
            " )                                                                  ]']                           \n",
            "                                                                                                  \n",
            " conv2d_538 (Conv2D)         (None, 14, 14, 256)          590080    ['activation_160[0][0]']      \n",
            "                                                                                                  \n",
            " batch_normalization_159 (B  (None, 14, 14, 256)          1024      ['conv2d_538[0][0]']          \n",
            " atchNormalization)                                                                               \n",
            "                                                                                                  \n",
            " activation_161 (Activation  (None, 14, 14, 256)          0         ['batch_normalization_159[0][0\n",
            " )                                                                  ]']                           \n",
            "                                                                                                  \n",
            " conv2d_539 (Conv2D)         (None, 14, 14, 256)          590080    ['activation_161[0][0]']      \n",
            "                                                                                                  \n",
            " batch_normalization_160 (B  (None, 14, 14, 256)          1024      ['conv2d_539[0][0]']          \n",
            " atchNormalization)                                                                               \n",
            "                                                                                                  \n",
            " add_60 (Add)                (None, 14, 14, 256)          0         ['batch_normalization_160[0][0\n",
            "                                                                    ]',                           \n",
            "                                                                     'activation_160[0][0]']      \n",
            "                                                                                                  \n",
            " activation_162 (Activation  (None, 14, 14, 256)          0         ['add_60[0][0]']              \n",
            " )                                                                                                \n",
            "                                                                                                  \n",
            " conv2d_540 (Conv2D)         (None, 14, 14, 256)          590080    ['activation_162[0][0]']      \n",
            "                                                                                                  \n",
            " batch_normalization_161 (B  (None, 14, 14, 256)          1024      ['conv2d_540[0][0]']          \n",
            " atchNormalization)                                                                               \n",
            "                                                                                                  \n",
            " activation_163 (Activation  (None, 14, 14, 256)          0         ['batch_normalization_161[0][0\n",
            " )                                                                  ]']                           \n",
            "                                                                                                  \n",
            " conv2d_541 (Conv2D)         (None, 14, 14, 256)          590080    ['activation_163[0][0]']      \n",
            "                                                                                                  \n",
            " batch_normalization_162 (B  (None, 14, 14, 256)          1024      ['conv2d_541[0][0]']          \n",
            " atchNormalization)                                                                               \n",
            "                                                                                                  \n",
            " add_61 (Add)                (None, 14, 14, 256)          0         ['batch_normalization_162[0][0\n",
            "                                                                    ]',                           \n",
            "                                                                     'activation_162[0][0]']      \n",
            "                                                                                                  \n",
            " activation_164 (Activation  (None, 14, 14, 256)          0         ['add_61[0][0]']              \n",
            " )                                                                                                \n",
            "                                                                                                  \n",
            " conv2d_542 (Conv2D)         (None, 7, 7, 512)            1180160   ['activation_164[0][0]']      \n",
            "                                                                                                  \n",
            " batch_normalization_163 (B  (None, 7, 7, 512)            2048      ['conv2d_542[0][0]']          \n",
            " atchNormalization)                                                                               \n",
            "                                                                                                  \n",
            " activation_165 (Activation  (None, 7, 7, 512)            0         ['batch_normalization_163[0][0\n",
            " )                                                                  ]']                           \n",
            "                                                                                                  \n",
            " conv2d_543 (Conv2D)         (None, 7, 7, 512)            2359808   ['activation_165[0][0]']      \n",
            "                                                                                                  \n",
            " batch_normalization_164 (B  (None, 7, 7, 512)            2048      ['conv2d_543[0][0]']          \n",
            " atchNormalization)                                                                               \n",
            "                                                                                                  \n",
            " activation_166 (Activation  (None, 7, 7, 512)            0         ['batch_normalization_164[0][0\n",
            " )                                                                  ]']                           \n",
            "                                                                                                  \n",
            " conv2d_544 (Conv2D)         (None, 7, 7, 512)            2359808   ['activation_166[0][0]']      \n",
            "                                                                                                  \n",
            " batch_normalization_165 (B  (None, 7, 7, 512)            2048      ['conv2d_544[0][0]']          \n",
            " atchNormalization)                                                                               \n",
            "                                                                                                  \n",
            " add_62 (Add)                (None, 7, 7, 512)            0         ['batch_normalization_165[0][0\n",
            "                                                                    ]',                           \n",
            "                                                                     'activation_165[0][0]']      \n",
            "                                                                                                  \n",
            " activation_167 (Activation  (None, 7, 7, 512)            0         ['add_62[0][0]']              \n",
            " )                                                                                                \n",
            "                                                                                                  \n",
            " conv2d_545 (Conv2D)         (None, 7, 7, 512)            2359808   ['activation_167[0][0]']      \n",
            "                                                                                                  \n",
            " batch_normalization_166 (B  (None, 7, 7, 512)            2048      ['conv2d_545[0][0]']          \n",
            " atchNormalization)                                                                               \n",
            "                                                                                                  \n",
            " activation_168 (Activation  (None, 7, 7, 512)            0         ['batch_normalization_166[0][0\n",
            " )                                                                  ]']                           \n",
            "                                                                                                  \n",
            " conv2d_546 (Conv2D)         (None, 7, 7, 512)            2359808   ['activation_168[0][0]']      \n",
            "                                                                                                  \n",
            " batch_normalization_167 (B  (None, 7, 7, 512)            2048      ['conv2d_546[0][0]']          \n",
            " atchNormalization)                                                                               \n",
            "                                                                                                  \n",
            " add_63 (Add)                (None, 7, 7, 512)            0         ['batch_normalization_167[0][0\n",
            "                                                                    ]',                           \n",
            "                                                                     'activation_167[0][0]']      \n",
            "                                                                                                  \n",
            " activation_169 (Activation  (None, 7, 7, 512)            0         ['add_63[0][0]']              \n",
            " )                                                                                                \n",
            "                                                                                                  \n",
            " avg_pool (AveragePooling2D  (None, 1, 1, 512)            0         ['activation_169[0][0]']      \n",
            " )                                                                                                \n",
            "                                                                                                  \n",
            " flatten_19 (Flatten)        (None, 512)                  0         ['avg_pool[0][0]']            \n",
            "                                                                                                  \n",
            " dense_32 (Dense)            (None, 1000)                 513000    ['flatten_19[0][0]']          \n",
            "                                                                                                  \n",
            "==================================================================================================\n",
            "Total params: 14659368 (55.92 MB)\n",
            "Trainable params: 14649640 (55.88 MB)\n",
            "Non-trainable params: 9728 (38.00 KB)\n",
            "__________________________________________________________________________________________________\n"
          ]
        }
      ],
      "source": [
        "from keras.layers import Conv2D, BatchNormalization, Activation, Add, MaxPooling2D, AveragePooling2D, Flatten, Dense, Input\n",
        "from keras.models import Model\n",
        "from keras.utils import to_categorical\n",
        "\n",
        "\n",
        "\n",
        "def conv_block(input_tensor, filters, kernel_size, strides=(1, 1), padding='same'):\n",
        "    x = Conv2D(filters, kernel_size, strides=strides, padding=padding)(input_tensor)\n",
        "    x = BatchNormalization()(x)\n",
        "    x = Activation('relu')(x)\n",
        "    return x\n",
        "\n",
        "def identity_block(input_tensor, filters, kernel_size, strides=(1, 1), padding='same'):\n",
        "    x = Conv2D(filters, kernel_size, strides=strides, padding=padding)(input_tensor)\n",
        "    x = BatchNormalization()(x)\n",
        "    x = Activation('relu')(x)\n",
        "    x = Conv2D(filters, kernel_size, padding=padding)(x)\n",
        "    x = BatchNormalization()(x)\n",
        "    x = Add()([x, input_tensor])\n",
        "    x = Activation('relu')(x)\n",
        "    return x\n",
        "\n",
        "def ResNet18(input_shape=(224, 224, 1), num_classes=1000):\n",
        "    input_img = Input(shape=input_shape)\n",
        "\n",
        "    x = conv_block(input_img, 64, (7, 7), strides=(2, 2), padding='same')\n",
        "    x = MaxPooling2D((3, 3), strides=(2, 2), padding='same')(x)\n",
        "\n",
        "    x = conv_block(x, 64, (3, 3))\n",
        "    x = identity_block(x, 64, (3, 3))\n",
        "    x = identity_block(x, 64, (3, 3))\n",
        "\n",
        "    x = conv_block(x, 128, (3, 3), strides=(2, 2), padding='same')\n",
        "    x = identity_block(x, 128, (3, 3))\n",
        "    x = identity_block(x, 128, (3, 3))\n",
        "\n",
        "    x = conv_block(x, 256, (3, 3), strides=(2, 2), padding='same')\n",
        "    x = identity_block(x, 256, (3, 3))\n",
        "    x = identity_block(x, 256, (3, 3))\n",
        "\n",
        "    x = conv_block(x, 512, (3, 3), strides=(2, 2), padding='same')\n",
        "    x = identity_block(x, 512, (3, 3))\n",
        "    x = identity_block(x, 512, (3, 3))\n",
        "\n",
        "    x = AveragePooling2D((7, 7), name='avg_pool')(x)\n",
        "    x = Flatten()(x)\n",
        "    x = Dense(num_classes, activation='softmax')(x)\n",
        "\n",
        "    model = Model(inputs=input_img, outputs=x, name='resnet18')\n",
        "    return model\n",
        "\n",
        "# Create ResNet-18 model with input shape (224, 224, 1)\n",
        "resnet_model = ResNet18(input_shape=(224, 224, 1))\n",
        "resnet_model.summary()\n",
        "\n",
        "\n",
        "# Create ResNet-18 model\n",
        "model = ResNet18()\n",
        "model.summary()\n"
      ]
    },
    {
      "cell_type": "code",
      "execution_count": null,
      "id": "uaa7RTACd9oL",
      "metadata": {
        "id": "uaa7RTACd9oL"
      },
      "outputs": [],
      "source": [
        "from keras.callbacks import EarlyStopping\n",
        "from keras.optimizers import Adam\n",
        "\n",
        "# Define ResNet-18 model\n",
        "model = ResNet18()\n",
        "\n",
        "# Compile the model\n",
        "optimizer = Adam()  # Define optimizer (e.g., Adam)\n",
        "model.compile(optimizer=optimizer, loss='sparse_categorical_crossentropy', metrics=['accuracy'])\n",
        "\n",
        "# Define EarlyStopping callback\n",
        "early_stopping = EarlyStopping(\n",
        "    monitor=\"val_loss\",    # Monitor validation loss\n",
        "    min_delta=0.00001,     # Minimum change to qualify as an improvement\n",
        "    patience=20,           # Number of epochs with no improvement after which training will be stopped\n",
        "    verbose=1,             # Verbosity mode (1: update messages)\n",
        "    mode=\"auto\",           # Direction of improvement ('auto', 'min', 'max')\n",
        "    restore_best_weights=False  # Whether to restore model weights to the best epoch\n",
        ")\n"
      ]
    },
    {
      "cell_type": "code",
      "execution_count": null,
      "id": "MBjUAkizd9q1",
      "metadata": {
        "colab": {
          "base_uri": "https://localhost:8080/"
        },
        "id": "MBjUAkizd9q1",
        "outputId": "f441d1a5-22eb-4e25-d860-d4a626b862f8"
      },
      "outputs": [
        {
          "name": "stdout",
          "output_type": "stream",
          "text": [
            "Epoch 1/20\n",
            "84/84 [==============================] - 24s 145ms/step - loss: 1.1524 - accuracy: 0.6262 - val_loss: 43.6870 - val_accuracy: 0.2703\n",
            "Epoch 2/20\n",
            "84/84 [==============================] - 11s 137ms/step - loss: 0.5194 - accuracy: 0.8035 - val_loss: 9.4320 - val_accuracy: 0.2703\n",
            "Epoch 3/20\n",
            "84/84 [==============================] - 11s 137ms/step - loss: 0.3431 - accuracy: 0.8663 - val_loss: 3.0908 - val_accuracy: 0.5000\n",
            "Epoch 4/20\n",
            "84/84 [==============================] - 11s 132ms/step - loss: 0.2624 - accuracy: 0.8907 - val_loss: 0.7509 - val_accuracy: 0.7173\n",
            "Epoch 5/20\n",
            "84/84 [==============================] - 12s 139ms/step - loss: 0.2705 - accuracy: 0.8850 - val_loss: 1.8457 - val_accuracy: 0.5518\n",
            "Epoch 6/20\n",
            "84/84 [==============================] - 11s 136ms/step - loss: 0.1982 - accuracy: 0.9087 - val_loss: 0.7827 - val_accuracy: 0.7455\n",
            "Epoch 7/20\n",
            "84/84 [==============================] - 11s 134ms/step - loss: 0.2344 - accuracy: 0.8989 - val_loss: 0.5039 - val_accuracy: 0.7973\n",
            "Epoch 8/20\n",
            "84/84 [==============================] - 11s 134ms/step - loss: 0.1642 - accuracy: 0.9252 - val_loss: 0.2712 - val_accuracy: 0.8806\n",
            "Epoch 9/20\n",
            "84/84 [==============================] - 11s 134ms/step - loss: 0.2058 - accuracy: 0.9050 - val_loss: 0.4449 - val_accuracy: 0.8300\n",
            "Epoch 10/20\n",
            "84/84 [==============================] - 11s 134ms/step - loss: 0.2074 - accuracy: 0.9057 - val_loss: 1.0136 - val_accuracy: 0.7342\n",
            "Epoch 11/20\n",
            "84/84 [==============================] - 11s 134ms/step - loss: 0.1525 - accuracy: 0.9298 - val_loss: 0.2157 - val_accuracy: 0.9088\n",
            "Epoch 12/20\n",
            "84/84 [==============================] - 11s 133ms/step - loss: 0.1440 - accuracy: 0.9298 - val_loss: 0.6960 - val_accuracy: 0.8029\n",
            "Epoch 13/20\n",
            "84/84 [==============================] - 11s 134ms/step - loss: 0.1958 - accuracy: 0.9072 - val_loss: 2.7621 - val_accuracy: 0.5923\n",
            "Epoch 14/20\n",
            "84/84 [==============================] - 11s 133ms/step - loss: 0.1558 - accuracy: 0.9264 - val_loss: 0.5559 - val_accuracy: 0.7748\n",
            "Epoch 15/20\n",
            "84/84 [==============================] - 11s 133ms/step - loss: 0.1800 - accuracy: 0.9166 - val_loss: 0.1702 - val_accuracy: 0.9178\n",
            "Epoch 16/20\n",
            "84/84 [==============================] - 11s 137ms/step - loss: 0.1736 - accuracy: 0.9222 - val_loss: 0.2637 - val_accuracy: 0.8863\n",
            "Epoch 17/20\n",
            "84/84 [==============================] - 12s 137ms/step - loss: 0.1512 - accuracy: 0.9219 - val_loss: 0.1735 - val_accuracy: 0.9223\n",
            "Epoch 18/20\n",
            "84/84 [==============================] - 12s 138ms/step - loss: 0.1838 - accuracy: 0.9155 - val_loss: 0.1548 - val_accuracy: 0.9234\n",
            "Epoch 19/20\n",
            "84/84 [==============================] - 12s 138ms/step - loss: 0.1433 - accuracy: 0.9343 - val_loss: 0.1799 - val_accuracy: 0.9200\n",
            "Epoch 20/20\n",
            "84/84 [==============================] - 11s 137ms/step - loss: 0.1374 - accuracy: 0.9290 - val_loss: 0.1471 - val_accuracy: 0.9245\n"
          ]
        }
      ],
      "source": [
        "hist = model.fit(xtrain,ytrain,epochs = 20,batch_size = 32,validation_data = (xtest,ytest))"
      ]
    },
    {
      "cell_type": "code",
      "execution_count": null,
      "id": "Q0EDdxv4d9uX",
      "metadata": {
        "colab": {
          "base_uri": "https://localhost:8080/",
          "height": 385
        },
        "id": "Q0EDdxv4d9uX",
        "outputId": "cc1a443b-4f8d-425c-f7c6-e7c5ce5ebbf9"
      },
      "outputs": [
        {
          "data": {
            "image/png": "[encoded data removed]",
            "text/plain": [
              "<Figure size 1200x400 with 2 Axes>"
            ]
          },
          "metadata": {},
          "output_type": "display_data"
        }
      ],
      "source": [
        "import matplotlib.pyplot as plt\n",
        "\n",
        "def plot_history(hist):\n",
        "    plt.figure(figsize=(12, 4))\n",
        "    plt.subplot(1, 2, 1)\n",
        "    plt.plot(hist.history['accuracy'])\n",
        "    plt.plot(hist.history['val_accuracy'])\n",
        "    plt.title('Model Accuracy')\n",
        "    plt.ylabel('Accuracy')\n",
        "    plt.xlabel('Epoch')\n",
        "    plt.legend(['Train', 'Test'], loc='upper left')\n",
        "\n",
        "    plt.subplot(1, 2, 2)\n",
        "    plt.plot(hist.history['loss'])\n",
        "    plt.plot(hist.history['val_loss'])\n",
        "    plt.title('Model Loss')\n",
        "    plt.ylabel('Loss')\n",
        "    plt.xlabel('Epoch')\n",
        "    plt.legend(['Train', 'Test'], loc='upper left')\n",
        "\n",
        "    plt.tight_layout()\n",
        "    plt.show()\n",
        "plot_history(hist)"
      ]
    },
    {
      "cell_type": "code",
      "execution_count": null,
      "id": "ypcjf155d9zF",
      "metadata": {
        "id": "ypcjf155d9zF"
      },
      "outputs": [],
      "source": [
        "from sklearn.metrics import confusion_matrix,ConfusionMatrixDisplay\n",
        "from sklearn.metrics import accuracy_score"
      ]
    },
    {
      "cell_type": "code",
      "execution_count": null,
      "id": "i5FUOZF6d917",
      "metadata": {
        "colab": {
          "base_uri": "https://localhost:8080/"
        },
        "id": "i5FUOZF6d917",
        "outputId": "e3889f3a-04a5-4dd7-ba13-fb50ab6b3535"
      },
      "outputs": [
        {
          "name": "stdout",
          "output_type": "stream",
          "text": [
            "28/28 [==============================] - 1s 35ms/step\n"
          ]
        }
      ],
      "source": [
        "img = np.reshape(xtest,(-1,1,224,224))\n",
        "res = model.predict(xtest)"
      ]
    },
    {
      "cell_type": "code",
      "execution_count": null,
      "id": "TELYYLFpd94g",
      "metadata": {
        "id": "TELYYLFpd94g"
      },
      "outputs": [],
      "source": [
        "ypred = []\n",
        "for i in res:\n",
        "  temp = np.argmax(i)\n",
        "  ypred.append(temp)\n",
        "ypred = np.array(ypred)"
      ]
    },
    {
      "cell_type": "code",
      "execution_count": null,
      "id": "H8q-kxSEd965",
      "metadata": {
        "colab": {
          "base_uri": "https://localhost:8080/"
        },
        "id": "H8q-kxSEd965",
        "outputId": "3a6e12b7-4431-4910-9a7a-19f844678020"
      },
      "outputs": [
        {
          "data": {
            "text/plain": [
              "0.9245495495495496"
            ]
          },
          "execution_count": 90,
          "metadata": {},
          "output_type": "execute_result"
        }
      ],
      "source": [
        "accuracy_score(ytest,ypred)"
      ]
    },
    {
      "cell_type": "code",
      "execution_count": null,
      "id": "QULexqpnd99x",
      "metadata": {
        "colab": {
          "base_uri": "https://localhost:8080/",
          "height": 472
        },
        "id": "QULexqpnd99x",
        "outputId": "585c104c-cc68-4bd3-8f87-4b78eb15d9d1"
      },
      "outputs": [
        {
          "data": {
            "text/plain": [
              "<sklearn.metrics._plot.confusion_matrix.ConfusionMatrixDisplay at 0x7da5ff5efdf0>"
            ]
          },
          "execution_count": 91,
          "metadata": {},
          "output_type": "execute_result"
        },
        {
          "data": {
            "image/png": "[encoded data removed]",
            "text/plain": [
              "<Figure size 640x480 with 2 Axes>"
            ]
          },
          "metadata": {},
          "output_type": "display_data"
        }
      ],
      "source": [
        "cf = confusion_matrix(y_true = ytest ,y_pred =  ypred)\n",
        "x = ConfusionMatrixDisplay(cf)\n",
        "x.plot()"
      ]
    },
    {
      "cell_type": "markdown",
      "id": "gozqckJyesXW",
      "metadata": {
        "id": "gozqckJyesXW"
      },
      "source": [
        "#GoogLe Net"
      ]
    },
    {
      "cell_type": "code",
      "execution_count": null,
      "id": "_xJ3nq_Ad-BI",
      "metadata": {
        "colab": {
          "base_uri": "https://localhost:8080/"
        },
        "id": "_xJ3nq_Ad-BI",
        "outputId": "3cda5fb6-1f04-4578-c17a-7d8108ce9dbc"
      },
      "outputs": [
        {
          "name": "stdout",
          "output_type": "stream",
          "text": [
            "Model: \"googlenet\"\n",
            "__________________________________________________________________________________________________\n",
            " Layer (type)                Output Shape                 Param #   Connected to                  \n",
            "==================================================================================================\n",
            " input_15 (InputLayer)       [(None, 224, 224, 1)]        0         []                            \n",
            "                                                                                                  \n",
            " conv2d_228 (Conv2D)         (None, 112, 112, 64)         3200      ['input_15[0][0]']            \n",
            "                                                                                                  \n",
            " max_pooling2d_50 (MaxPooli  (None, 56, 56, 64)           0         ['conv2d_228[0][0]']          \n",
            " ng2D)                                                                                            \n",
            "                                                                                                  \n",
            " conv2d_229 (Conv2D)         (None, 56, 56, 64)           4160      ['max_pooling2d_50[0][0]']    \n",
            "                                                                                                  \n",
            " conv2d_230 (Conv2D)         (None, 56, 56, 192)          110784    ['conv2d_229[0][0]']          \n",
            "                                                                                                  \n",
            " max_pooling2d_51 (MaxPooli  (None, 28, 28, 192)          0         ['conv2d_230[0][0]']          \n",
            " ng2D)                                                                                            \n",
            "                                                                                                  \n",
            " conv2d_232 (Conv2D)         (None, 28, 28, 96)           18528     ['max_pooling2d_51[0][0]']    \n",
            "                                                                                                  \n",
            " conv2d_234 (Conv2D)         (None, 28, 28, 16)           3088      ['max_pooling2d_51[0][0]']    \n",
            "                                                                                                  \n",
            " max_pooling2d_52 (MaxPooli  (None, 28, 28, 192)          0         ['max_pooling2d_51[0][0]']    \n",
            " ng2D)                                                                                            \n",
            "                                                                                                  \n",
            " conv2d_231 (Conv2D)         (None, 28, 28, 64)           12352     ['max_pooling2d_51[0][0]']    \n",
            "                                                                                                  \n",
            " conv2d_233 (Conv2D)         (None, 28, 28, 128)          110720    ['conv2d_232[0][0]']          \n",
            "                                                                                                  \n",
            " conv2d_235 (Conv2D)         (None, 28, 28, 32)           12832     ['conv2d_234[0][0]']          \n",
            "                                                                                                  \n",
            " conv2d_236 (Conv2D)         (None, 28, 28, 32)           6176      ['max_pooling2d_52[0][0]']    \n",
            "                                                                                                  \n",
            " concatenate_31 (Concatenat  (None, 28, 28, 256)          0         ['conv2d_231[0][0]',          \n",
            " e)                                                                  'conv2d_233[0][0]',          \n",
            "                                                                     'conv2d_235[0][0]',          \n",
            "                                                                     'conv2d_236[0][0]']          \n",
            "                                                                                                  \n",
            " conv2d_238 (Conv2D)         (None, 28, 28, 128)          32896     ['concatenate_31[0][0]']      \n",
            "                                                                                                  \n",
            " conv2d_240 (Conv2D)         (None, 28, 28, 32)           8224      ['concatenate_31[0][0]']      \n",
            "                                                                                                  \n",
            " max_pooling2d_53 (MaxPooli  (None, 28, 28, 256)          0         ['concatenate_31[0][0]']      \n",
            " ng2D)                                                                                            \n",
            "                                                                                                  \n",
            " conv2d_237 (Conv2D)         (None, 28, 28, 128)          32896     ['concatenate_31[0][0]']      \n",
            "                                                                                                  \n",
            " conv2d_239 (Conv2D)         (None, 28, 28, 192)          221376    ['conv2d_238[0][0]']          \n",
            "                                                                                                  \n",
            " conv2d_241 (Conv2D)         (None, 28, 28, 96)           76896     ['conv2d_240[0][0]']          \n",
            "                                                                                                  \n",
            " conv2d_242 (Conv2D)         (None, 28, 28, 64)           16448     ['max_pooling2d_53[0][0]']    \n",
            "                                                                                                  \n",
            " concatenate_32 (Concatenat  (None, 28, 28, 480)          0         ['conv2d_237[0][0]',          \n",
            " e)                                                                  'conv2d_239[0][0]',          \n",
            "                                                                     'conv2d_241[0][0]',          \n",
            "                                                                     'conv2d_242[0][0]']          \n",
            "                                                                                                  \n",
            " max_pooling2d_54 (MaxPooli  (None, 14, 14, 480)          0         ['concatenate_32[0][0]']      \n",
            " ng2D)                                                                                            \n",
            "                                                                                                  \n",
            " conv2d_244 (Conv2D)         (None, 14, 14, 96)           46176     ['max_pooling2d_54[0][0]']    \n",
            "                                                                                                  \n",
            " conv2d_246 (Conv2D)         (None, 14, 14, 16)           7696      ['max_pooling2d_54[0][0]']    \n",
            "                                                                                                  \n",
            " max_pooling2d_55 (MaxPooli  (None, 14, 14, 480)          0         ['max_pooling2d_54[0][0]']    \n",
            " ng2D)                                                                                            \n",
            "                                                                                                  \n",
            " conv2d_243 (Conv2D)         (None, 14, 14, 192)          92352     ['max_pooling2d_54[0][0]']    \n",
            "                                                                                                  \n",
            " conv2d_245 (Conv2D)         (None, 14, 14, 208)          179920    ['conv2d_244[0][0]']          \n",
            "                                                                                                  \n",
            " conv2d_247 (Conv2D)         (None, 14, 14, 48)           19248     ['conv2d_246[0][0]']          \n",
            "                                                                                                  \n",
            " conv2d_248 (Conv2D)         (None, 14, 14, 64)           30784     ['max_pooling2d_55[0][0]']    \n",
            "                                                                                                  \n",
            " concatenate_33 (Concatenat  (None, 14, 14, 512)          0         ['conv2d_243[0][0]',          \n",
            " e)                                                                  'conv2d_245[0][0]',          \n",
            "                                                                     'conv2d_247[0][0]',          \n",
            "                                                                     'conv2d_248[0][0]']          \n",
            "                                                                                                  \n",
            " conv2d_250 (Conv2D)         (None, 14, 14, 112)          57456     ['concatenate_33[0][0]']      \n",
            "                                                                                                  \n",
            " conv2d_252 (Conv2D)         (None, 14, 14, 24)           12312     ['concatenate_33[0][0]']      \n",
            "                                                                                                  \n",
            " max_pooling2d_56 (MaxPooli  (None, 14, 14, 512)          0         ['concatenate_33[0][0]']      \n",
            " ng2D)                                                                                            \n",
            "                                                                                                  \n",
            " conv2d_249 (Conv2D)         (None, 14, 14, 160)          82080     ['concatenate_33[0][0]']      \n",
            "                                                                                                  \n",
            " conv2d_251 (Conv2D)         (None, 14, 14, 224)          226016    ['conv2d_250[0][0]']          \n",
            "                                                                                                  \n",
            " conv2d_253 (Conv2D)         (None, 14, 14, 64)           38464     ['conv2d_252[0][0]']          \n",
            "                                                                                                  \n",
            " conv2d_254 (Conv2D)         (None, 14, 14, 64)           32832     ['max_pooling2d_56[0][0]']    \n",
            "                                                                                                  \n",
            " concatenate_34 (Concatenat  (None, 14, 14, 512)          0         ['conv2d_249[0][0]',          \n",
            " e)                                                                  'conv2d_251[0][0]',          \n",
            "                                                                     'conv2d_253[0][0]',          \n",
            "                                                                     'conv2d_254[0][0]']          \n",
            "                                                                                                  \n",
            " conv2d_256 (Conv2D)         (None, 14, 14, 128)          65664     ['concatenate_34[0][0]']      \n",
            "                                                                                                  \n",
            " conv2d_258 (Conv2D)         (None, 14, 14, 24)           12312     ['concatenate_34[0][0]']      \n",
            "                                                                                                  \n",
            " max_pooling2d_57 (MaxPooli  (None, 14, 14, 512)          0         ['concatenate_34[0][0]']      \n",
            " ng2D)                                                                                            \n",
            "                                                                                                  \n",
            " conv2d_255 (Conv2D)         (None, 14, 14, 128)          65664     ['concatenate_34[0][0]']      \n",
            "                                                                                                  \n",
            " conv2d_257 (Conv2D)         (None, 14, 14, 256)          295168    ['conv2d_256[0][0]']          \n",
            "                                                                                                  \n",
            " conv2d_259 (Conv2D)         (None, 14, 14, 64)           38464     ['conv2d_258[0][0]']          \n",
            "                                                                                                  \n",
            " conv2d_260 (Conv2D)         (None, 14, 14, 64)           32832     ['max_pooling2d_57[0][0]']    \n",
            "                                                                                                  \n",
            " concatenate_35 (Concatenat  (None, 14, 14, 512)          0         ['conv2d_255[0][0]',          \n",
            " e)                                                                  'conv2d_257[0][0]',          \n",
            "                                                                     'conv2d_259[0][0]',          \n",
            "                                                                     'conv2d_260[0][0]']          \n",
            "                                                                                                  \n",
            " conv2d_262 (Conv2D)         (None, 14, 14, 144)          73872     ['concatenate_35[0][0]']      \n",
            "                                                                                                  \n",
            " conv2d_264 (Conv2D)         (None, 14, 14, 32)           16416     ['concatenate_35[0][0]']      \n",
            "                                                                                                  \n",
            " max_pooling2d_58 (MaxPooli  (None, 14, 14, 512)          0         ['concatenate_35[0][0]']      \n",
            " ng2D)                                                                                            \n",
            "                                                                                                  \n",
            " conv2d_261 (Conv2D)         (None, 14, 14, 112)          57456     ['concatenate_35[0][0]']      \n",
            "                                                                                                  \n",
            " conv2d_263 (Conv2D)         (None, 14, 14, 288)          373536    ['conv2d_262[0][0]']          \n",
            "                                                                                                  \n",
            " conv2d_265 (Conv2D)         (None, 14, 14, 64)           51264     ['conv2d_264[0][0]']          \n",
            "                                                                                                  \n",
            " conv2d_266 (Conv2D)         (None, 14, 14, 64)           32832     ['max_pooling2d_58[0][0]']    \n",
            "                                                                                                  \n",
            " concatenate_36 (Concatenat  (None, 14, 14, 528)          0         ['conv2d_261[0][0]',          \n",
            " e)                                                                  'conv2d_263[0][0]',          \n",
            "                                                                     'conv2d_265[0][0]',          \n",
            "                                                                     'conv2d_266[0][0]']          \n",
            "                                                                                                  \n",
            " conv2d_268 (Conv2D)         (None, 14, 14, 160)          84640     ['concatenate_36[0][0]']      \n",
            "                                                                                                  \n",
            " conv2d_270 (Conv2D)         (None, 14, 14, 32)           16928     ['concatenate_36[0][0]']      \n",
            "                                                                                                  \n",
            " max_pooling2d_59 (MaxPooli  (None, 14, 14, 528)          0         ['concatenate_36[0][0]']      \n",
            " ng2D)                                                                                            \n",
            "                                                                                                  \n",
            " conv2d_267 (Conv2D)         (None, 14, 14, 256)          135424    ['concatenate_36[0][0]']      \n",
            "                                                                                                  \n",
            " conv2d_269 (Conv2D)         (None, 14, 14, 320)          461120    ['conv2d_268[0][0]']          \n",
            "                                                                                                  \n",
            " conv2d_271 (Conv2D)         (None, 14, 14, 128)          102528    ['conv2d_270[0][0]']          \n",
            "                                                                                                  \n",
            " conv2d_272 (Conv2D)         (None, 14, 14, 128)          67712     ['max_pooling2d_59[0][0]']    \n",
            "                                                                                                  \n",
            " concatenate_37 (Concatenat  (None, 14, 14, 832)          0         ['conv2d_267[0][0]',          \n",
            " e)                                                                  'conv2d_269[0][0]',          \n",
            "                                                                     'conv2d_271[0][0]',          \n",
            "                                                                     'conv2d_272[0][0]']          \n",
            "                                                                                                  \n",
            " max_pooling2d_60 (MaxPooli  (None, 7, 7, 832)            0         ['concatenate_37[0][0]']      \n",
            " ng2D)                                                                                            \n",
            "                                                                                                  \n",
            " conv2d_274 (Conv2D)         (None, 7, 7, 160)            133280    ['max_pooling2d_60[0][0]']    \n",
            "                                                                                                  \n",
            " conv2d_276 (Conv2D)         (None, 7, 7, 32)             26656     ['max_pooling2d_60[0][0]']    \n",
            "                                                                                                  \n",
            " max_pooling2d_61 (MaxPooli  (None, 7, 7, 832)            0         ['max_pooling2d_60[0][0]']    \n",
            " ng2D)                                                                                            \n",
            "                                                                                                  \n",
            " conv2d_273 (Conv2D)         (None, 7, 7, 256)            213248    ['max_pooling2d_60[0][0]']    \n",
            "                                                                                                  \n",
            " conv2d_275 (Conv2D)         (None, 7, 7, 320)            461120    ['conv2d_274[0][0]']          \n",
            "                                                                                                  \n",
            " conv2d_277 (Conv2D)         (None, 7, 7, 128)            102528    ['conv2d_276[0][0]']          \n",
            "                                                                                                  \n",
            " conv2d_278 (Conv2D)         (None, 7, 7, 128)            106624    ['max_pooling2d_61[0][0]']    \n",
            "                                                                                                  \n",
            " concatenate_38 (Concatenat  (None, 7, 7, 832)            0         ['conv2d_273[0][0]',          \n",
            " e)                                                                  'conv2d_275[0][0]',          \n",
            "                                                                     'conv2d_277[0][0]',          \n",
            "                                                                     'conv2d_278[0][0]']          \n",
            "                                                                                                  \n",
            " conv2d_280 (Conv2D)         (None, 7, 7, 192)            159936    ['concatenate_38[0][0]']      \n",
            "                                                                                                  \n",
            " conv2d_282 (Conv2D)         (None, 7, 7, 48)             39984     ['concatenate_38[0][0]']      \n",
            "                                                                                                  \n",
            " max_pooling2d_62 (MaxPooli  (None, 7, 7, 832)            0         ['concatenate_38[0][0]']      \n",
            " ng2D)                                                                                            \n",
            "                                                                                                  \n",
            " conv2d_279 (Conv2D)         (None, 7, 7, 384)            319872    ['concatenate_38[0][0]']      \n",
            "                                                                                                  \n",
            " conv2d_281 (Conv2D)         (None, 7, 7, 384)            663936    ['conv2d_280[0][0]']          \n",
            "                                                                                                  \n",
            " conv2d_283 (Conv2D)         (None, 7, 7, 128)            153728    ['conv2d_282[0][0]']          \n",
            "                                                                                                  \n",
            " conv2d_284 (Conv2D)         (None, 7, 7, 128)            106624    ['max_pooling2d_62[0][0]']    \n",
            "                                                                                                  \n",
            " concatenate_39 (Concatenat  (None, 7, 7, 1024)           0         ['conv2d_279[0][0]',          \n",
            " e)                                                                  'conv2d_281[0][0]',          \n",
            "                                                                     'conv2d_283[0][0]',          \n",
            "                                                                     'conv2d_284[0][0]']          \n",
            "                                                                                                  \n",
            " average_pooling2d_3 (Avera  (None, 1, 1, 1024)           0         ['concatenate_39[0][0]']      \n",
            " gePooling2D)                                                                                     \n",
            "                                                                                                  \n",
            " flatten_7 (Flatten)         (None, 1024)                 0         ['average_pooling2d_3[0][0]'] \n",
            "                                                                                                  \n",
            " dropout (Dropout)           (None, 1024)                 0         ['flatten_7[0][0]']           \n",
            "                                                                                                  \n",
            " dense_14 (Dense)            (None, 1000)                 1025000   ['dropout[0][0]']             \n",
            "                                                                                                  \n",
            "==================================================================================================\n",
            "Total params: 6992280 (26.67 MB)\n",
            "Trainable params: 6992280 (26.67 MB)\n",
            "Non-trainable params: 0 (0.00 Byte)\n",
            "__________________________________________________________________________________________________\n"
          ]
        }
      ],
      "source": [
        "import tensorflow\n",
        "from keras import layers, models\n",
        "from keras.layers import Conv2D, BatchNormalization, Activation, Add, MaxPooling2D, AveragePooling2D, Flatten, Dense, Input, Concatenate\n",
        "\n",
        "from keras.models import Model\n",
        "from keras.utils import to_categorical\n",
        "\n",
        "\n",
        "def inception_module(x, filters_1x1, filters_3x3_reduce, filters_3x3, filters_5x5_reduce, filters_5x5, filters_pool_proj):\n",
        "    conv_1x1 = Conv2D(filters_1x1, (1, 1), padding='same', activation='relu')(x)\n",
        "\n",
        "    conv_3x3 = Conv2D(filters_3x3_reduce, (1, 1), padding='same', activation='relu')(x)\n",
        "    conv_3x3 = Conv2D(filters_3x3, (3, 3), padding='same', activation='relu')(conv_3x3)\n",
        "\n",
        "    conv_5x5 = Conv2D(filters_5x5_reduce, (1, 1), padding='same', activation='relu')(x)\n",
        "    conv_5x5 = Conv2D(filters_5x5, (5, 5), padding='same', activation='relu')(conv_5x5)\n",
        "\n",
        "    pool_proj = MaxPooling2D((3, 3), strides=(1, 1), padding='same')(x)\n",
        "    pool_proj = Conv2D(filters_pool_proj, (1, 1), padding='same', activation='relu')(pool_proj)\n",
        "\n",
        "    output = Concatenate(axis=-1)([conv_1x1, conv_3x3, conv_5x5, pool_proj])\n",
        "    return output\n",
        "\n",
        "def GoogLeNet(input_shape=(224, 224, 1), num_classes=1000):\n",
        "    input_img = Input(shape=input_shape)\n",
        "\n",
        "    # First Convolutional Layer\n",
        "    x = Conv2D(64, (7, 7), strides=(2, 2), padding='same', activation='relu')(input_img)\n",
        "    x = MaxPooling2D((3, 3), strides=(2, 2), padding='same')(x)\n",
        "\n",
        "    # Second Convolutional Layer\n",
        "    x = Conv2D(64, (1, 1), padding='same', activation='relu')(x)\n",
        "    x = Conv2D(192, (3, 3), padding='same', activation='relu')(x)\n",
        "    x = MaxPooling2D((3, 3), strides=(2, 2), padding='same')(x)\n",
        "\n",
        "    # Inception Modules\n",
        "    x = inception_module(x, 64, 96, 128, 16, 32, 32)\n",
        "    x = inception_module(x, 128, 128, 192, 32, 96, 64)\n",
        "    x = MaxPooling2D((3, 3), strides=(2, 2), padding='same')(x)\n",
        "\n",
        "    x = inception_module(x, 192, 96, 208, 16, 48, 64)\n",
        "    x = inception_module(x, 160, 112, 224, 24, 64, 64)\n",
        "    x = inception_module(x, 128, 128, 256, 24, 64, 64)\n",
        "    x = inception_module(x, 112, 144, 288, 32, 64, 64)\n",
        "    x = inception_module(x, 256, 160, 320, 32, 128, 128)\n",
        "    x = MaxPooling2D((3, 3), strides=(2, 2), padding='same')(x)\n",
        "\n",
        "    x = inception_module(x, 256, 160, 320, 32, 128, 128)\n",
        "    x = inception_module(x, 384, 192, 384, 48, 128, 128)\n",
        "\n",
        "    # Average Pooling and Dropout\n",
        "    x = AveragePooling2D((7, 7))(x)\n",
        "    x = Flatten()(x)\n",
        "    x = Dropout(0.4)(x)\n",
        "\n",
        "    # Output Layer\n",
        "    x = Dense(num_classes, activation='softmax')(x)\n",
        "\n",
        "    model = Model(inputs=input_img, outputs=x, name='googlenet')\n",
        "    return model\n",
        "\n",
        "# Create GoogLeNet model with input shape (224, 224, 1)\n",
        "googlenet_model = GoogLeNet(input_shape=(224, 224, 1))\n",
        "googlenet_model.summary()\n"
      ]
    },
    {
      "cell_type": "code",
      "execution_count": null,
      "id": "eG5r-DK1d-Eh",
      "metadata": {
        "id": "eG5r-DK1d-Eh"
      },
      "outputs": [],
      "source": [
        "from keras.callbacks import EarlyStopping\n",
        "from keras.optimizers import Adam\n",
        "\n",
        "# Define GoogLe Net model\n",
        "model = GoogLeNet()\n",
        "\n",
        "# Compile the model\n",
        "optimizer = Adam()  # Define optimizer (e.g., Adam)\n",
        "model.compile(optimizer=optimizer, loss='sparse_categorical_crossentropy', metrics=['accuracy'])\n",
        "\n",
        "# Define EarlyStopping callback\n",
        "early_stopping = EarlyStopping(\n",
        "    monitor=\"val_loss\",    # Monitor validation loss\n",
        "    min_delta=0.00001,     # Minimum change to qualify as an improvement\n",
        "    patience=20,           # Number of epochs with no improvement after which training will be stopped\n",
        "    verbose=1,             # Verbosity mode (1: update messages)\n",
        "    mode=\"auto\",           # Direction of improvement ('auto', 'min', 'max')\n",
        "    restore_best_weights=False  # Whether to restore model weights to the best epoch\n",
        ")\n"
      ]
    },
    {
      "cell_type": "code",
      "execution_count": null,
      "id": "uoCYB4Ylfm04",
      "metadata": {
        "colab": {
          "base_uri": "https://localhost:8080/"
        },
        "id": "uoCYB4Ylfm04",
        "outputId": "ebbe9869-0256-4909-d62c-f5f2712af27a"
      },
      "outputs": [
        {
          "name": "stdout",
          "output_type": "stream",
          "text": [
            "Epoch 1/20\n",
            "84/84 [==============================] - 46s 220ms/step - loss: 1.7264 - accuracy: 0.2746 - val_loss: 1.4022 - val_accuracy: 0.2703\n",
            "Epoch 2/20\n",
            "84/84 [==============================] - 10s 113ms/step - loss: 1.3901 - accuracy: 0.2814 - val_loss: 1.2283 - val_accuracy: 0.4009\n",
            "Epoch 3/20\n",
            "84/84 [==============================] - 9s 106ms/step - loss: 1.2670 - accuracy: 0.3888 - val_loss: 1.1751 - val_accuracy: 0.4234\n",
            "Epoch 4/20\n",
            "84/84 [==============================] - 9s 108ms/step - loss: 1.1607 - accuracy: 0.4602 - val_loss: 1.1634 - val_accuracy: 0.4212\n",
            "Epoch 5/20\n",
            "84/84 [==============================] - 9s 111ms/step - loss: 1.0179 - accuracy: 0.5331 - val_loss: 0.9767 - val_accuracy: 0.5507\n",
            "Epoch 6/20\n",
            "84/84 [==============================] - 9s 105ms/step - loss: 0.9516 - accuracy: 0.5657 - val_loss: 0.9547 - val_accuracy: 0.5777\n",
            "Epoch 7/20\n",
            "84/84 [==============================] - 9s 112ms/step - loss: 0.8787 - accuracy: 0.5988 - val_loss: 0.8849 - val_accuracy: 0.6250\n",
            "Epoch 8/20\n",
            "84/84 [==============================] - 9s 107ms/step - loss: 0.7959 - accuracy: 0.6484 - val_loss: 0.7261 - val_accuracy: 0.6959\n",
            "Epoch 9/20\n",
            "84/84 [==============================] - 9s 111ms/step - loss: 0.6751 - accuracy: 0.7092 - val_loss: 0.7015 - val_accuracy: 0.7005\n",
            "Epoch 10/20\n",
            "84/84 [==============================] - 9s 112ms/step - loss: 0.6830 - accuracy: 0.7153 - val_loss: 0.6399 - val_accuracy: 0.7185\n",
            "Epoch 11/20\n",
            "84/84 [==============================] - 9s 112ms/step - loss: 0.5352 - accuracy: 0.7735 - val_loss: 0.6715 - val_accuracy: 0.7252\n",
            "Epoch 12/20\n",
            "84/84 [==============================] - 9s 106ms/step - loss: 0.4502 - accuracy: 0.8118 - val_loss: 0.4748 - val_accuracy: 0.7962\n",
            "Epoch 13/20\n",
            "84/84 [==============================] - 9s 112ms/step - loss: 0.5079 - accuracy: 0.7926 - val_loss: 0.5504 - val_accuracy: 0.7827\n",
            "Epoch 14/20\n",
            "84/84 [==============================] - 9s 107ms/step - loss: 0.3769 - accuracy: 0.8340 - val_loss: 0.5851 - val_accuracy: 0.8074\n",
            "Epoch 15/20\n",
            "84/84 [==============================] - 9s 105ms/step - loss: 0.3089 - accuracy: 0.8708 - val_loss: 0.3276 - val_accuracy: 0.8694\n",
            "Epoch 16/20\n",
            "84/84 [==============================] - 9s 111ms/step - loss: 0.3091 - accuracy: 0.8730 - val_loss: 0.4095 - val_accuracy: 0.8401\n",
            "Epoch 17/20\n",
            "84/84 [==============================] - 9s 106ms/step - loss: 0.2825 - accuracy: 0.8805 - val_loss: 0.3955 - val_accuracy: 0.8378\n",
            "Epoch 18/20\n",
            "84/84 [==============================] - 9s 105ms/step - loss: 0.2514 - accuracy: 0.8896 - val_loss: 0.2351 - val_accuracy: 0.8986\n",
            "Epoch 19/20\n",
            "84/84 [==============================] - 9s 106ms/step - loss: 0.2916 - accuracy: 0.8820 - val_loss: 0.4761 - val_accuracy: 0.8074\n",
            "Epoch 20/20\n",
            "84/84 [==============================] - 9s 112ms/step - loss: 0.2222 - accuracy: 0.8986 - val_loss: 0.2946 - val_accuracy: 0.8761\n"
          ]
        }
      ],
      "source": [
        "hist = model.fit(xtrain,ytrain,epochs = 20,batch_size = 32,validation_data = (xtest,ytest))"
      ]
    },
    {
      "cell_type": "code",
      "execution_count": null,
      "id": "QdtJPxejfm28",
      "metadata": {
        "colab": {
          "base_uri": "https://localhost:8080/",
          "height": 385
        },
        "id": "QdtJPxejfm28",
        "outputId": "43d80494-18da-4a3c-9cd4-e0d2a11200de"
      },
      "outputs": [
        {
          "data": {
            "image/png": "[encoded data removed]",
            "text/plain": [
              "<Figure size 1200x400 with 2 Axes>"
            ]
          },
          "metadata": {},
          "output_type": "display_data"
        }
      ],
      "source": [
        "import matplotlib.pyplot as plt\n",
        "\n",
        "def plot_history(hist):\n",
        "    plt.figure(figsize=(12, 4))\n",
        "    plt.subplot(1, 2, 1)\n",
        "    plt.plot(hist.history['accuracy'])\n",
        "    plt.plot(hist.history['val_accuracy'])\n",
        "    plt.title('Model Accuracy')\n",
        "    plt.ylabel('Accuracy')\n",
        "    plt.xlabel('Epoch')\n",
        "    plt.legend(['Train', 'Test'], loc='upper left')\n",
        "\n",
        "    plt.subplot(1, 2, 2)\n",
        "    plt.plot(hist.history['loss'])\n",
        "    plt.plot(hist.history['val_loss'])\n",
        "    plt.title('Model Loss')\n",
        "    plt.ylabel('Loss')\n",
        "    plt.xlabel('Epoch')\n",
        "    plt.legend(['Train', 'Test'], loc='upper left')\n",
        "\n",
        "    plt.tight_layout()\n",
        "    plt.show()\n",
        "plot_history(hist)"
      ]
    },
    {
      "cell_type": "code",
      "execution_count": null,
      "id": "IIr-o0dXfm41",
      "metadata": {
        "colab": {
          "base_uri": "https://localhost:8080/"
        },
        "id": "IIr-o0dXfm41",
        "outputId": "d15a817b-c250-43f9-e097-b72b2dd53a5a"
      },
      "outputs": [
        {
          "name": "stdout",
          "output_type": "stream",
          "text": [
            "28/28 [==============================] - 1s 30ms/step\n"
          ]
        }
      ],
      "source": [
        "img = np.reshape(xtest,(-1,1,224,224))\n",
        "res = model.predict(xtest)"
      ]
    },
    {
      "cell_type": "code",
      "execution_count": null,
      "id": "_xc1CtREfm8b",
      "metadata": {
        "id": "_xc1CtREfm8b"
      },
      "outputs": [],
      "source": [
        "ypred = []\n",
        "for i in res:\n",
        "  temp = np.argmax(i)\n",
        "  ypred.append(temp)\n",
        "ypred = np.array(ypred)"
      ]
    },
    {
      "cell_type": "code",
      "execution_count": null,
      "id": "ns8ec23wE5tJ",
      "metadata": {
        "id": "ns8ec23wE5tJ"
      },
      "outputs": [],
      "source": [
        "from sklearn.metrics import confusion_matrix,ConfusionMatrixDisplay\n",
        "from sklearn.metrics import accuracy_score"
      ]
    },
    {
      "cell_type": "code",
      "execution_count": null,
      "id": "8IHl13ZDfnLN",
      "metadata": {
        "colab": {
          "base_uri": "https://localhost:8080/"
        },
        "id": "8IHl13ZDfnLN",
        "outputId": "32e00a3e-e650-4254-eabf-b0de6190c7bd"
      },
      "outputs": [
        {
          "data": {
            "text/plain": [
              "0.8761261261261262"
            ]
          },
          "execution_count": 54,
          "metadata": {},
          "output_type": "execute_result"
        }
      ],
      "source": [
        "accuracy_score(ytest,ypred)"
      ]
    },
    {
      "cell_type": "code",
      "execution_count": null,
      "id": "8QtI-VVViNXS",
      "metadata": {
        "colab": {
          "base_uri": "https://localhost:8080/",
          "height": 466
        },
        "id": "8QtI-VVViNXS",
        "outputId": "133e62ed-0854-4efc-d59f-fa05ce73dcbc"
      },
      "outputs": [
        {
          "data": {
            "text/plain": [
              "<sklearn.metrics._plot.confusion_matrix.ConfusionMatrixDisplay at 0x7da72c10ea40>"
            ]
          },
          "execution_count": 55,
          "metadata": {},
          "output_type": "execute_result"
        },
        {
          "data": {
            "image/png": "[encoded data removed]",
            "text/plain": [
              "<Figure size 640x480 with 2 Axes>"
            ]
          },
          "metadata": {},
          "output_type": "display_data"
        }
      ],
      "source": [
        "cf = confusion_matrix(y_true = ytest ,y_pred =  ypred)\n",
        "x = ConfusionMatrixDisplay(cf)\n",
        "x.plot()"
      ]
    },
    {
      "cell_type": "markdown",
      "id": "xWBGEuF8iNrH",
      "metadata": {
        "id": "xWBGEuF8iNrH"
      },
      "source": [
        "#VGG-16"
      ]
    },
    {
      "cell_type": "code",
      "execution_count": 61,
      "id": "pSIJ4dphiwOK",
      "metadata": {
        "colab": {
          "base_uri": "https://localhost:8080/"
        },
        "id": "pSIJ4dphiwOK",
        "outputId": "d1010a32-ef17-4054-e40c-f22c693de809"
      },
      "outputs": [
        {
          "output_type": "stream",
          "name": "stdout",
          "text": [
            "Model: \"vgg16\"\n",
            "_________________________________________________________________\n",
            " Layer (type)                Output Shape              Param #   \n",
            "=================================================================\n",
            " input_13 (InputLayer)       [(None, 224, 224, 1)]     0         \n",
            "                                                                 \n",
            " conv2d_222 (Conv2D)         (None, 224, 224, 64)      640       \n",
            "                                                                 \n",
            " conv2d_223 (Conv2D)         (None, 224, 224, 64)      36928     \n",
            "                                                                 \n",
            " max_pooling2d_33 (MaxPooli  (None, 112, 112, 64)      0         \n",
            " ng2D)                                                           \n",
            "                                                                 \n",
            " conv2d_224 (Conv2D)         (None, 112, 112, 128)     73856     \n",
            "                                                                 \n",
            " conv2d_225 (Conv2D)         (None, 112, 112, 128)     147584    \n",
            "                                                                 \n",
            " max_pooling2d_34 (MaxPooli  (None, 56, 56, 128)       0         \n",
            " ng2D)                                                           \n",
            "                                                                 \n",
            " conv2d_226 (Conv2D)         (None, 56, 56, 256)       295168    \n",
            "                                                                 \n",
            " conv2d_227 (Conv2D)         (None, 56, 56, 256)       590080    \n",
            "                                                                 \n",
            " conv2d_228 (Conv2D)         (None, 56, 56, 256)       590080    \n",
            "                                                                 \n",
            " max_pooling2d_35 (MaxPooli  (None, 28, 28, 256)       0         \n",
            " ng2D)                                                           \n",
            "                                                                 \n",
            " conv2d_229 (Conv2D)         (None, 28, 28, 512)       1180160   \n",
            "                                                                 \n",
            " conv2d_230 (Conv2D)         (None, 28, 28, 512)       2359808   \n",
            "                                                                 \n",
            " conv2d_231 (Conv2D)         (None, 28, 28, 512)       2359808   \n",
            "                                                                 \n",
            " max_pooling2d_36 (MaxPooli  (None, 14, 14, 512)       0         \n",
            " ng2D)                                                           \n",
            "                                                                 \n",
            " conv2d_232 (Conv2D)         (None, 14, 14, 512)       2359808   \n",
            "                                                                 \n",
            " conv2d_233 (Conv2D)         (None, 14, 14, 512)       2359808   \n",
            "                                                                 \n",
            " conv2d_234 (Conv2D)         (None, 14, 14, 512)       2359808   \n",
            "                                                                 \n",
            " max_pooling2d_37 (MaxPooli  (None, 7, 7, 512)         0         \n",
            " ng2D)                                                           \n",
            "                                                                 \n",
            " flatten_7 (Flatten)         (None, 25088)             0         \n",
            "                                                                 \n",
            " dense_22 (Dense)            (None, 4096)              102764544 \n",
            "                                                                 \n",
            " dense_23 (Dense)            (None, 4096)              16781312  \n",
            "                                                                 \n",
            " dense_24 (Dense)            (None, 1000)              4097000   \n",
            "                                                                 \n",
            "=================================================================\n",
            "Total params: 138356392 (527.79 MB)\n",
            "Trainable params: 138356392 (527.79 MB)\n",
            "Non-trainable params: 0 (0.00 Byte)\n",
            "_________________________________________________________________\n"
          ]
        }
      ],
      "source": [
        "from keras.layers import Input, Conv2D, MaxPooling2D, Flatten, Dense\n",
        "from keras.models import Model\n",
        "\n",
        "def VGG16(input_shape=(224, 224, 1), num_classes=1000):\n",
        "    input_img = Input(shape=input_shape)\n",
        "\n",
        "    # Block 1\n",
        "    x = Conv2D(64, (3, 3), activation='relu', padding='same')(input_img)\n",
        "    x = Conv2D(64, (3, 3), activation='relu', padding='same')(x)\n",
        "    x = MaxPooling2D((2, 2), strides=(2, 2))(x)\n",
        "\n",
        "    # Block 2\n",
        "    x = Conv2D(128, (3, 3), activation='relu', padding='same')(x)\n",
        "    x = Conv2D(128, (3, 3), activation='relu', padding='same')(x)\n",
        "    x = MaxPooling2D((2, 2), strides=(2, 2))(x)\n",
        "\n",
        "    # Block 3\n",
        "    x = Conv2D(256, (3, 3), activation='relu', padding='same')(x)\n",
        "    x = Conv2D(256, (3, 3), activation='relu', padding='same')(x)\n",
        "    x = Conv2D(256, (3, 3), activation='relu', padding='same')(x)\n",
        "    x = MaxPooling2D((2, 2), strides=(2, 2))(x)\n",
        "\n",
        "    # Block 4\n",
        "    x = Conv2D(512, (3, 3), activation='relu', padding='same')(x)\n",
        "    x = Conv2D(512, (3, 3), activation='relu', padding='same')(x)\n",
        "    x = Conv2D(512, (3, 3), activation='relu', padding='same')(x)\n",
        "    x = MaxPooling2D((2, 2), strides=(2, 2))(x)\n",
        "\n",
        "    # Block 5\n",
        "    x = Conv2D(512, (3, 3), activation='relu', padding='same')(x)\n",
        "    x = Conv2D(512, (3, 3), activation='relu', padding='same')(x)\n",
        "    x = Conv2D(512, (3, 3), activation='relu', padding='same')(x)\n",
        "    x = MaxPooling2D((2, 2), strides=(2, 2))(x)\n",
        "\n",
        "    x = Flatten()(x)\n",
        "    x = Dense(4096, activation='relu')(x)\n",
        "    x = Dense(4096, activation='relu')(x)\n",
        "    x = Dense(num_classes, activation='softmax')(x)\n",
        "\n",
        "    model = Model(inputs=input_img, outputs=x, name='vgg16')\n",
        "    return model\n",
        "\n",
        "# Create VGG-16 model with input shape (224, 224, 1)\n",
        "vgg16_model = VGG16(input_shape=(224, 224, 1))\n",
        "vgg16_model.summary()\n"
      ]
    },
    {
      "cell_type": "code",
      "execution_count": 62,
      "id": "YU7uEA2WiwQi",
      "metadata": {
        "id": "YU7uEA2WiwQi"
      },
      "outputs": [],
      "source": [
        "from keras.callbacks import EarlyStopping\n",
        "from keras.optimizers import Adam\n",
        "\n",
        "# Define VGG-16 model\n",
        "model = VGG16()\n",
        "\n",
        "# Compile the model\n",
        "optimizer = Adam()  # Define optimizer (e.g., Adam)\n",
        "model.compile(optimizer=optimizer, loss='sparse_categorical_crossentropy', metrics=['accuracy'])\n",
        "\n",
        "# Define EarlyStopping callback\n",
        "early_stopping = EarlyStopping(\n",
        "    monitor=\"val_loss\",    # Monitor validation loss\n",
        "    min_delta=0.00001,     # Minimum change to qualify as an improvement\n",
        "    patience=20,           # Number of epochs with no improvement after which training will be stopped\n",
        "    verbose=1,             # Verbosity mode (1: update messages)\n",
        "    mode=\"auto\",           # Direction of improvement ('auto', 'min', 'max')\n",
        "    restore_best_weights=False  # Whether to restore model weights to the best epoch\n",
        ")\n"
      ]
    },
    {
      "cell_type": "code",
      "execution_count": 1,
      "id": "R4C-rjkniwS3",
      "metadata": {
        "colab": {
          "base_uri": "https://localhost:8080/",
          "height": 141
        },
        "id": "R4C-rjkniwS3",
        "outputId": "03ad4680-9abf-403c-ccb2-376591aeabe1"
      },
      "outputs": [
        {
          "output_type": "error",
          "ename": "NameError",
          "evalue": "name 'model' is not defined",
          "traceback": [
            "\u001b[0;31m---------------------------------------------------------------------------\u001b[0m",
            "\u001b[0;31mNameError\u001b[0m                                 Traceback (most recent call last)",
            "\u001b[0;32m<ipython-input-1-385e6841d51a>\u001b[0m in \u001b[0;36m<cell line: 1>\u001b[0;34m()\u001b[0m\n\u001b[0;32m----> 1\u001b[0;31m \u001b[0mhist\u001b[0m \u001b[0;34m=\u001b[0m \u001b[0mmodel\u001b[0m\u001b[0;34m.\u001b[0m\u001b[0mfit\u001b[0m\u001b[0;34m(\u001b[0m\u001b[0mxtrain\u001b[0m\u001b[0;34m,\u001b[0m\u001b[0mytrain\u001b[0m\u001b[0;34m,\u001b[0m\u001b[0mepochs\u001b[0m \u001b[0;34m=\u001b[0m \u001b[0;36m20\u001b[0m\u001b[0;34m,\u001b[0m\u001b[0mbatch_size\u001b[0m \u001b[0;34m=\u001b[0m \u001b[0;36m32\u001b[0m\u001b[0;34m,\u001b[0m\u001b[0mvalidation_data\u001b[0m \u001b[0;34m=\u001b[0m \u001b[0;34m(\u001b[0m\u001b[0mxtest\u001b[0m\u001b[0;34m,\u001b[0m\u001b[0mytest\u001b[0m\u001b[0;34m)\u001b[0m\u001b[0;34m)\u001b[0m\u001b[0;34m\u001b[0m\u001b[0;34m\u001b[0m\u001b[0m\n\u001b[0m",
            "\u001b[0;31mNameError\u001b[0m: name 'model' is not defined"
          ]
        }
      ],
      "source": [
        "hist = model.fit(xtrain,ytrain,epochs = 20,batch_size = 32,validation_data = (xtest,ytest))"
      ]
    },
    {
      "cell_type": "code",
      "execution_count": null,
      "id": "d5fXJ1UqjGR-",
      "metadata": {
        "id": "d5fXJ1UqjGR-"
      },
      "outputs": [],
      "source": [
        "import matplotlib.pyplot as plt\n",
        "\n",
        "def plot_history(hist):\n",
        "    plt.figure(figsize=(12, 4))\n",
        "    plt.subplot(1, 2, 1)\n",
        "    plt.plot(hist.history['accuracy'])\n",
        "    plt.plot(hist.history['val_accuracy'])\n",
        "    plt.title('Model Accuracy')\n",
        "    plt.ylabel('Accuracy')\n",
        "    plt.xlabel('Epoch')\n",
        "    plt.legend(['Train', 'Test'], loc='upper left')\n",
        "\n",
        "    plt.subplot(1, 2, 2)\n",
        "    plt.plot(hist.history['loss'])\n",
        "    plt.plot(hist.history['val_loss'])\n",
        "    plt.title('Model Loss')\n",
        "    plt.ylabel('Loss')\n",
        "    plt.xlabel('Epoch')\n",
        "    plt.legend(['Train', 'Test'], loc='upper left')\n",
        "\n",
        "    plt.tight_layout()\n",
        "    plt.show()\n",
        "plot_history(hist)"
      ]
    },
    {
      "cell_type": "code",
      "execution_count": null,
      "id": "kAiwCwBRjGUV",
      "metadata": {
        "id": "kAiwCwBRjGUV"
      },
      "outputs": [],
      "source": [
        "img = np.reshape(xtest,(-1,1,224,224))\n",
        "res = model.predict(xtest)"
      ]
    },
    {
      "cell_type": "code",
      "execution_count": null,
      "id": "Li4D5z2SjGWj",
      "metadata": {
        "id": "Li4D5z2SjGWj"
      },
      "outputs": [],
      "source": [
        "ypred = []\n",
        "for i in res:\n",
        "  temp = np.argmax(i)\n",
        "  ypred.append(temp)\n",
        "ypred = np.array(ypred)"
      ]
    },
    {
      "cell_type": "code",
      "execution_count": null,
      "id": "FtoUJap0FFdL",
      "metadata": {
        "id": "FtoUJap0FFdL"
      },
      "outputs": [],
      "source": [
        "from sklearn.metrics import confusion_matrix,ConfusionMatrixDisplay\n",
        "from sklearn.metrics import accuracy_score"
      ]
    },
    {
      "cell_type": "code",
      "execution_count": null,
      "id": "NlU6xPOEjGaD",
      "metadata": {
        "id": "NlU6xPOEjGaD"
      },
      "outputs": [],
      "source": [
        "accuracy_score(ytest,ypred)"
      ]
    },
    {
      "cell_type": "code",
      "execution_count": null,
      "id": "gC0fzp41iwWU",
      "metadata": {
        "id": "gC0fzp41iwWU"
      },
      "outputs": [],
      "source": [
        "cf = confusion_matrix(y_true = ytest ,y_pred =  ypred)\n",
        "x = ConfusionMatrixDisplay(cf)\n",
        "x.plot()"
      ]
    },
    {
      "cell_type": "markdown",
      "id": "mXf2vQfKjUt-",
      "metadata": {
        "id": "mXf2vQfKjUt-"
      },
      "source": [
        "#VGG-19"
      ]
    },
    {
      "cell_type": "code",
      "execution_count": 59,
      "id": "hIaNggMVjWri",
      "metadata": {
        "id": "hIaNggMVjWri"
      },
      "outputs": [],
      "source": [
        "import tensorflow\n",
        "from keras import layers, models\n",
        "from keras.layers import Conv2D, BatchNormalization, Activation, Add, MaxPooling2D, AveragePooling2D, Flatten, Dense, Input, Concatenate\n",
        "\n",
        "from keras.models import Model\n",
        "from keras.utils import to_categorical\n",
        "\n",
        "\n",
        "def VGG19(input_shape=(224, 224, 1), num_classes=1000):\n",
        "    input_img = Input(shape=input_shape)\n",
        "\n",
        "    # Block 1\n",
        "    x = Conv2D(64, (3, 3), activation='relu', padding='same')(input_img)\n",
        "    x = Conv2D(64, (3, 3), activation='relu', padding='same')(x)\n",
        "    x = MaxPooling2D((2, 2), strides=(2, 2))(x)\n",
        "\n",
        "    # Block 2\n",
        "    x = Conv2D(128, (3, 3), activation='relu', padding='same')(x)\n",
        "    x = Conv2D(128, (3, 3), activation='relu', padding='same')(x)\n",
        "    x = MaxPooling2D((2, 2), strides=(2, 2))(x)\n",
        "\n",
        "    # Block 3\n",
        "    x = Conv2D(256, (3, 3), activation='relu', padding='same')(x)\n",
        "    x = Conv2D(256, (3, 3), activation='relu', padding='same')(x)\n",
        "    x = Conv2D(256, (3, 3), activation='relu', padding='same')(x)\n",
        "    x = Conv2D(256, (3, 3), activation='relu', padding='same')(x)\n",
        "    x = MaxPooling2D((2, 2), strides=(2, 2))(x)\n",
        "\n",
        "    # Block 4\n",
        "    x = Conv2D(512, (3, 3), activation='relu', padding='same')(x)\n",
        "    x = Conv2D(512, (3, 3), activation='relu', padding='same')(x)\n",
        "    x = Conv2D(512, (3, 3), activation='relu', padding='same')(x)\n",
        "    x = Conv2D(512, (3, 3), activation='relu', padding='same')(x)\n",
        "    x = MaxPooling2D((2, 2), strides=(2, 2))(x)\n",
        "\n",
        "    # Block 5\n",
        "    x = Conv2D(512, (3, 3), activation='relu', padding='same')(x)\n",
        "    x = Conv2D(512, (3, 3), activation='relu', padding='same')(x)\n",
        "    x = Conv2D(512, (3, 3), activation='relu', padding='same')(x)\n",
        "    x = Conv2D(512, (3, 3), activation='relu', padding='same')(x)\n",
        "    x = MaxPooling2D((2, 2), strides=(2, 2))(x)\n",
        "\n",
        "    x = Flatten()(x)\n",
        "    x = Dense(4096, activation='relu')(x)\n",
        "    x = Dense(4096, activation='relu')(x)\n",
        "    x = Dense(num_classes, activation='softmax')(x)\n",
        "\n",
        "    model = Model(inputs=input_img, outputs=x, name='vgg19')\n",
        "    return model\n",
        "\n",
        "# Create VGG-19 model with input shape (224, 224, 1)\n",
        "vgg19_model = VGG19(input_shape=(224, 224, 1))\n",
        "vgg19_model.summary()\n"
      ]
    },
    {
      "cell_type": "code",
      "execution_count": 51,
      "id": "kjjnmkF_jWuK",
      "metadata": {
        "id": "kjjnmkF_jWuK"
      },
      "outputs": [],
      "source": [
        "from keras.callbacks import EarlyStopping\n",
        "from keras.optimizers import Adam\n",
        "\n",
        "# Define VGG-19 model\n",
        "model = VGG19()\n",
        "\n",
        "# Compile the model\n",
        "optimizer = Adam()  # Define optimizer (e.g., Adam)\n",
        "model.compile(optimizer=optimizer, loss='sparse_categorical_crossentropy', metrics=['accuracy'])\n",
        "\n",
        "# Define EarlyStopping callback\n",
        "early_stopping = EarlyStopping(\n",
        "    monitor=\"val_loss\",    # Monitor validation loss\n",
        "    min_delta=0.00001,     # Minimum change to qualify as an improvement\n",
        "    patience=20,           # Number of epochs with no improvement after which training will be stopped\n",
        "    verbose=1,             # Verbosity mode (1: update messages)\n",
        "    mode=\"auto\",           # Direction of improvement ('auto', 'min', 'max')\n",
        "    restore_best_weights=False  # Whether to restore model weights to the best epoch\n",
        ")\n"
      ]
    },
    {
      "cell_type": "code",
      "execution_count": 52,
      "id": "Xzqj5RzHjWwt",
      "metadata": {
        "colab": {
          "base_uri": "https://localhost:8080/"
        },
        "id": "Xzqj5RzHjWwt",
        "outputId": "4a8361da-cbbe-4099-dfc9-d1faf51d8c02"
      },
      "outputs": [
        {
          "output_type": "stream",
          "name": "stdout",
          "text": [
            "Epoch 1/20\n",
            "83/83 [==============================] - 88s 789ms/step - loss: 218.0893 - accuracy: 0.2601 - val_loss: 1.3548 - val_accuracy: 0.2667\n",
            "Epoch 2/20\n",
            "83/83 [==============================] - 42s 511ms/step - loss: 1.3716 - accuracy: 0.2831 - val_loss: 1.3552 - val_accuracy: 0.3017\n",
            "Epoch 3/20\n",
            "83/83 [==============================] - 43s 516ms/step - loss: 1.3692 - accuracy: 0.2895 - val_loss: 1.3635 - val_accuracy: 0.2949\n",
            "Epoch 4/20\n",
            "83/83 [==============================] - 43s 522ms/step - loss: 1.3787 - accuracy: 0.2665 - val_loss: 1.3560 - val_accuracy: 0.2949\n",
            "Epoch 5/20\n",
            "83/83 [==============================] - 44s 526ms/step - loss: 1.3690 - accuracy: 0.2910 - val_loss: 1.3603 - val_accuracy: 0.3842\n",
            "Epoch 6/20\n",
            "83/83 [==============================] - 44s 529ms/step - loss: 1.2507 - accuracy: 0.4222 - val_loss: 1.4236 - val_accuracy: 0.3141\n",
            "Epoch 7/20\n",
            "83/83 [==============================] - 44s 531ms/step - loss: 1.2151 - accuracy: 0.4433 - val_loss: 1.0814 - val_accuracy: 0.5017\n",
            "Epoch 8/20\n",
            "83/83 [==============================] - 45s 545ms/step - loss: 1.0804 - accuracy: 0.4919 - val_loss: 0.9935 - val_accuracy: 0.4927\n",
            "Epoch 9/20\n",
            "83/83 [==============================] - 44s 531ms/step - loss: 0.9112 - accuracy: 0.5805 - val_loss: 0.8181 - val_accuracy: 0.6542\n",
            "Epoch 10/20\n",
            "83/83 [==============================] - 44s 533ms/step - loss: 0.7959 - accuracy: 0.6536 - val_loss: 0.8345 - val_accuracy: 0.6373\n",
            "Epoch 11/20\n",
            "83/83 [==============================] - 45s 548ms/step - loss: 0.6173 - accuracy: 0.7335 - val_loss: 0.3857 - val_accuracy: 0.8282\n",
            "Epoch 12/20\n",
            "83/83 [==============================] - 44s 533ms/step - loss: 0.3816 - accuracy: 0.8428 - val_loss: 0.3660 - val_accuracy: 0.8678\n",
            "Epoch 13/20\n",
            "83/83 [==============================] - 44s 533ms/step - loss: 0.2663 - accuracy: 0.8877 - val_loss: 0.2091 - val_accuracy: 0.9062\n",
            "Epoch 14/20\n",
            "83/83 [==============================] - 45s 547ms/step - loss: 0.2041 - accuracy: 0.9171 - val_loss: 0.2430 - val_accuracy: 0.8904\n",
            "Epoch 15/20\n",
            "83/83 [==============================] - 45s 547ms/step - loss: 0.1605 - accuracy: 0.9284 - val_loss: 0.1819 - val_accuracy: 0.9232\n",
            "Epoch 16/20\n",
            "83/83 [==============================] - 44s 532ms/step - loss: 0.1116 - accuracy: 0.9472 - val_loss: 0.1926 - val_accuracy: 0.9164\n",
            "Epoch 17/20\n",
            "83/83 [==============================] - 44s 532ms/step - loss: 0.1667 - accuracy: 0.9269 - val_loss: 0.1937 - val_accuracy: 0.9085\n",
            "Epoch 18/20\n",
            "83/83 [==============================] - 44s 532ms/step - loss: 0.1760 - accuracy: 0.9288 - val_loss: 0.2192 - val_accuracy: 0.9220\n",
            "Epoch 19/20\n",
            "83/83 [==============================] - 44s 532ms/step - loss: 0.1075 - accuracy: 0.9499 - val_loss: 0.1069 - val_accuracy: 0.9492\n",
            "Epoch 20/20\n",
            "83/83 [==============================] - 45s 546ms/step - loss: 0.0954 - accuracy: 0.9525 - val_loss: 0.0909 - val_accuracy: 0.9480\n"
          ]
        }
      ],
      "source": [
        "hist = model.fit(xtrain,ytrain,epochs = 20,batch_size = 32,validation_data = (xtest,ytest))"
      ]
    },
    {
      "cell_type": "code",
      "execution_count": 53,
      "id": "BJ8z5CcRjW0O",
      "metadata": {
        "colab": {
          "base_uri": "https://localhost:8080/",
          "height": 447
        },
        "id": "BJ8z5CcRjW0O",
        "outputId": "247ab3d8-08e1-4b61-b904-242c8cd438a0"
      },
      "outputs": [
        {
          "output_type": "execute_result",
          "data": {
            "text/plain": [
              "[<matplotlib.lines.Line2D at 0x7d6b4c314d00>]"
            ]
          },
          "metadata": {},
          "execution_count": 53
        },
        {
          "output_type": "display_data",
          "data": {
            "text/plain": [
              "<Figure size 640x480 with 1 Axes>"
            ],
            "image/png": "[encoded data removed]"
          },
          "metadata": {}
        }
      ],
      "source": [
        "import matplotlib.pyplot as plt\n",
        "\n",
        "def plot_history(hist):\n",
        "    plt.figure(figsize=(12, 4))\n",
        "    plt.subplot(1, 2, 1)\n",
        "    plt.plot(hist.history['accuracy'])\n",
        "    plt.plot(hist.history['val_accuracy'])\n",
        "    plt.title('Model Accuracy')\n",
        "    plt.ylabel('Accuracy')\n",
        "    plt.xlabel('Epoch')\n",
        "    plt.legend(['Train', 'Test'], loc='upper left')\n",
        "\n",
        "    plt.subplot(1, 2, 2)\n",
        "    plt.plot(hist.history['loss'])\n",
        "    plt.plot(hist.history['val_loss'])\n",
        "    plt.title('Model Loss')\n",
        "    plt.ylabel('Loss')\n",
        "    plt.xlabel('Epoch')\n",
        "    plt.legend(['Train', 'Test'], loc='upper left')\n",
        "\n",
        "    plt.tight_layout()\n",
        "    plt.show()\n",
        "plot_history(hist)"
      ]
    },
    {
      "cell_type": "code",
      "execution_count": 54,
      "id": "u4t3fGf2jsfJ",
      "metadata": {
        "id": "u4t3fGf2jsfJ"
      },
      "outputs": [],
      "source": [
        "img = np.reshape(xtest,(-1,1,224,224))\n",
        "res = model.predict(xtest)"
      ]
    },
    {
      "cell_type": "code",
      "execution_count": 55,
      "id": "vtr4qyqyjtnS",
      "metadata": {
        "id": "vtr4qyqyjtnS"
      },
      "outputs": [],
      "source": [
        "ypred = []\n",
        "for i in res:\n",
        "  temp = np.argmax(i)\n",
        "  ypred.append(temp)\n",
        "ypred = np.array(ypred)"
      ]
    },
    {
      "cell_type": "code",
      "execution_count": 56,
      "id": "nFioiFs1FDHP",
      "metadata": {
        "id": "nFioiFs1FDHP"
      },
      "outputs": [],
      "source": [
        "from sklearn.metrics import confusion_matrix,ConfusionMatrixDisplay\n",
        "from sklearn.metrics import accuracy_score"
      ]
    },
    {
      "cell_type": "code",
      "execution_count": 57,
      "id": "TWwWxKsXjwYg",
      "metadata": {
        "colab": {
          "base_uri": "https://localhost:8080/"
        },
        "id": "TWwWxKsXjwYg",
        "outputId": "96c64e42-c57c-451d-b929-f5003afce506"
      },
      "outputs": [
        {
          "output_type": "execute_result",
          "data": {
            "text/plain": [
              "0.9480225988700565"
            ]
          },
          "metadata": {},
          "execution_count": 57
        }
      ],
      "source": [
        "accuracy_score(ytest,ypred)"
      ]
    },
    {
      "cell_type": "code",
      "execution_count": 58,
      "id": "pFUWl-C1jsia",
      "metadata": {
        "id": "pFUWl-C1jsia"
      },
      "outputs": [],
      "source": [
        "cf = confusion_matrix(y_true = ytest ,y_pred =  ypred)\n",
        "x = ConfusionMatrixDisplay(cf)\n",
        "x.plot()"
      ]
    },
    {
      "cell_type": "markdown",
      "id": "NJ9Np1agAjCZ",
      "metadata": {
        "id": "NJ9Np1agAjCZ"
      },
      "source": [
        "#Inception V3"
      ]
    },
    {
      "cell_type": "code",
      "execution_count": 41,
      "id": "AnBj24qxAsfX",
      "metadata": {
        "colab": {
          "base_uri": "https://localhost:8080/"
        },
        "id": "AnBj24qxAsfX",
        "outputId": "5143bbe7-25d1-45a9-8857-09bc00ae6d64"
      },
      "outputs": [
        {
          "output_type": "stream",
          "name": "stdout",
          "text": [
            "Model: \"inceptionv3\"\n",
            "__________________________________________________________________________________________________\n",
            " Layer (type)                Output Shape                 Param #   Connected to                  \n",
            "==================================================================================================\n",
            " input_9 (InputLayer)        [(None, 224, 224, 1)]        0         []                            \n",
            "                                                                                                  \n",
            " conv2d_160 (Conv2D)         (None, 111, 111, 32)         320       ['input_9[0][0]']             \n",
            "                                                                                                  \n",
            " conv2d_161 (Conv2D)         (None, 109, 109, 32)         9248      ['conv2d_160[0][0]']          \n",
            "                                                                                                  \n",
            " conv2d_162 (Conv2D)         (None, 109, 109, 64)         18496     ['conv2d_161[0][0]']          \n",
            "                                                                                                  \n",
            " max_pooling2d_15 (MaxPooli  (None, 54, 54, 64)           0         ['conv2d_162[0][0]']          \n",
            " ng2D)                                                                                            \n",
            "                                                                                                  \n",
            " conv2d_164 (Conv2D)         (None, 54, 54, 96)           6240      ['max_pooling2d_15[0][0]']    \n",
            "                                                                                                  \n",
            " conv2d_166 (Conv2D)         (None, 54, 54, 16)           1040      ['max_pooling2d_15[0][0]']    \n",
            "                                                                                                  \n",
            " max_pooling2d_16 (MaxPooli  (None, 54, 54, 64)           0         ['max_pooling2d_15[0][0]']    \n",
            " ng2D)                                                                                            \n",
            "                                                                                                  \n",
            " conv2d_163 (Conv2D)         (None, 54, 54, 64)           4160      ['max_pooling2d_15[0][0]']    \n",
            "                                                                                                  \n",
            " conv2d_165 (Conv2D)         (None, 54, 54, 128)          110720    ['conv2d_164[0][0]']          \n",
            "                                                                                                  \n",
            " conv2d_167 (Conv2D)         (None, 54, 54, 32)           12832     ['conv2d_166[0][0]']          \n",
            "                                                                                                  \n",
            " conv2d_168 (Conv2D)         (None, 54, 54, 32)           2080      ['max_pooling2d_16[0][0]']    \n",
            "                                                                                                  \n",
            " concatenate_132 (Concatena  (None, 54, 54, 256)          0         ['conv2d_163[0][0]',          \n",
            " te)                                                                 'conv2d_165[0][0]',          \n",
            "                                                                     'conv2d_167[0][0]',          \n",
            "                                                                     'conv2d_168[0][0]']          \n",
            "                                                                                                  \n",
            " conv2d_170 (Conv2D)         (None, 54, 54, 128)          32896     ['concatenate_132[0][0]']     \n",
            "                                                                                                  \n",
            " conv2d_172 (Conv2D)         (None, 54, 54, 32)           8224      ['concatenate_132[0][0]']     \n",
            "                                                                                                  \n",
            " max_pooling2d_17 (MaxPooli  (None, 54, 54, 256)          0         ['concatenate_132[0][0]']     \n",
            " ng2D)                                                                                            \n",
            "                                                                                                  \n",
            " conv2d_169 (Conv2D)         (None, 54, 54, 128)          32896     ['concatenate_132[0][0]']     \n",
            "                                                                                                  \n",
            " conv2d_171 (Conv2D)         (None, 54, 54, 192)          221376    ['conv2d_170[0][0]']          \n",
            "                                                                                                  \n",
            " conv2d_173 (Conv2D)         (None, 54, 54, 96)           76896     ['conv2d_172[0][0]']          \n",
            "                                                                                                  \n",
            " conv2d_174 (Conv2D)         (None, 54, 54, 64)           16448     ['max_pooling2d_17[0][0]']    \n",
            "                                                                                                  \n",
            " concatenate_133 (Concatena  (None, 54, 54, 480)          0         ['conv2d_169[0][0]',          \n",
            " te)                                                                 'conv2d_171[0][0]',          \n",
            "                                                                     'conv2d_173[0][0]',          \n",
            "                                                                     'conv2d_174[0][0]']          \n",
            "                                                                                                  \n",
            " max_pooling2d_18 (MaxPooli  (None, 26, 26, 480)          0         ['concatenate_133[0][0]']     \n",
            " ng2D)                                                                                            \n",
            "                                                                                                  \n",
            " average_pooling2d (Average  (None, 6, 6, 480)            0         ['max_pooling2d_18[0][0]']    \n",
            " Pooling2D)                                                                                       \n",
            "                                                                                                  \n",
            " flatten_3 (Flatten)         (None, 17280)                0         ['average_pooling2d[0][0]']   \n",
            "                                                                                                  \n",
            " dense_12 (Dense)            (None, 512)                  8847872   ['flatten_3[0][0]']           \n",
            "                                                                                                  \n",
            " dense_13 (Dense)            (None, 1000)                 513000    ['dense_12[0][0]']            \n",
            "                                                                                                  \n",
            "==================================================================================================\n",
            "Total params: 9914744 (37.82 MB)\n",
            "Trainable params: 9914744 (37.82 MB)\n",
            "Non-trainable params: 0 (0.00 Byte)\n",
            "__________________________________________________________________________________________________\n"
          ]
        }
      ],
      "source": [
        "from keras.layers import Input, Conv2D, MaxPooling2D, concatenate, AveragePooling2D, Flatten, Dense\n",
        "from keras.models import Model\n",
        "\n",
        "def InceptionV3(input_shape=(224, 224, 1), num_classes=1000):\n",
        "    input_img = Input(shape=input_shape)\n",
        "\n",
        "    # Stem\n",
        "    x = Conv2D(32, (3, 3), strides=(2, 2), activation='relu', padding='valid')(input_img)\n",
        "    x = Conv2D(32, (3, 3), activation='relu', padding='valid')(x)\n",
        "    x = Conv2D(64, (3, 3), activation='relu', padding='same')(x)\n",
        "    x = MaxPooling2D((3, 3), strides=(2, 2))(x)\n",
        "\n",
        "    # Inception blocks\n",
        "    x = inception_block(x, filters=[64, 96, 128, 16, 32, 32])\n",
        "    x = inception_block(x, filters=[128, 128, 192, 32, 96, 64])\n",
        "    x = MaxPooling2D((3, 3), strides=(2, 2))(x)\n",
        "\n",
        "    # Add more inception blocks here...\n",
        "\n",
        "    # Classification head\n",
        "    x = AveragePooling2D((4, 4))(x)\n",
        "    x = Flatten()(x)\n",
        "    x = Dense(512, activation='relu')(x)\n",
        "    x = Dense(num_classes, activation='softmax')(x)\n",
        "\n",
        "    model = Model(inputs=input_img, outputs=x, name='inceptionv3')\n",
        "    return model\n",
        "\n",
        "def inception_block(x, filters):\n",
        "    \"\"\"\n",
        "    Creates an Inception block with parallel convolutions.\n",
        "    \"\"\"\n",
        "    branch1x1 = Conv2D(filters[0], (1, 1), activation='relu')(x)\n",
        "\n",
        "    branch3x3 = Conv2D(filters[1], (1, 1), activation='relu')(x)\n",
        "    branch3x3 = Conv2D(filters[2], (3, 3), activation='relu', padding='same')(branch3x3)\n",
        "\n",
        "    branch5x5 = Conv2D(filters[3], (1, 1), activation='relu')(x)\n",
        "    branch5x5 = Conv2D(filters[4], (5, 5), activation='relu', padding='same')(branch5x5)\n",
        "\n",
        "    branch_pool = MaxPooling2D((3, 3), strides=(1, 1), padding='same')(x)\n",
        "    branch_pool = Conv2D(filters[5], (1, 1), activation='relu')(branch_pool)\n",
        "\n",
        "    return concatenate([branch1x1, branch3x3, branch5x5, branch_pool], axis=-1)\n",
        "\n",
        "# Create InceptionV3 model with input shape (224, 224, 1)\n",
        "inceptionv3_model = InceptionV3(input_shape=(224, 224, 1))\n",
        "inceptionv3_model.summary()\n"
      ]
    },
    {
      "cell_type": "code",
      "execution_count": 42,
      "id": "IRsjM5AKBA4n",
      "metadata": {
        "id": "IRsjM5AKBA4n"
      },
      "outputs": [],
      "source": [
        "from keras.callbacks import EarlyStopping\n",
        "from keras.optimizers import Adam\n",
        "\n",
        "# Define VGG-19 model\n",
        "model = InceptionV3()\n",
        "\n",
        "# Compile the model\n",
        "optimizer = Adam()  # Define optimizer (e.g., Adam)\n",
        "model.compile(optimizer=optimizer, loss='sparse_categorical_crossentropy', metrics=['accuracy'])\n",
        "\n",
        "# Define EarlyStopping callback\n",
        "early_stopping = EarlyStopping(\n",
        "    monitor=\"val_loss\",    # Monitor validation loss\n",
        "    min_delta=0.00001,     # Minimum change to qualify as an improvement\n",
        "    patience=20,           # Number of epochs with no improvement after which training will be stopped\n",
        "    verbose=1,             # Verbosity mode (1: update messages)\n",
        "    mode=\"auto\",           # Direction of improvement ('auto', 'min', 'max')\n",
        "    restore_best_weights=False  # Whether to restore model weights to the best epoch\n",
        ")\n"
      ]
    },
    {
      "cell_type": "code",
      "execution_count": 43,
      "id": "qmSTl7JIBA7X",
      "metadata": {
        "colab": {
          "base_uri": "https://localhost:8080/"
        },
        "id": "qmSTl7JIBA7X",
        "outputId": "520ca174-0a99-4127-f949-544675ead011"
      },
      "outputs": [
        {
          "output_type": "stream",
          "name": "stdout",
          "text": [
            "Epoch 1/20\n",
            "83/83 [==============================] - 29s 210ms/step - loss: 1.9974 - accuracy: 0.5530 - val_loss: 0.7360 - val_accuracy: 0.7028\n",
            "Epoch 2/20\n",
            "83/83 [==============================] - 11s 130ms/step - loss: 0.4504 - accuracy: 0.8462 - val_loss: 0.3361 - val_accuracy: 0.8836\n",
            "Epoch 3/20\n",
            "83/83 [==============================] - 11s 131ms/step - loss: 0.2347 - accuracy: 0.9205 - val_loss: 0.1839 - val_accuracy: 0.9288\n",
            "Epoch 4/20\n",
            "83/83 [==============================] - 11s 131ms/step - loss: 0.1629 - accuracy: 0.9404 - val_loss: 0.1628 - val_accuracy: 0.9390\n",
            "Epoch 5/20\n",
            "83/83 [==============================] - 11s 131ms/step - loss: 0.1301 - accuracy: 0.9484 - val_loss: 0.1511 - val_accuracy: 0.9367\n",
            "Epoch 6/20\n",
            "83/83 [==============================] - 10s 126ms/step - loss: 0.1450 - accuracy: 0.9389 - val_loss: 0.1865 - val_accuracy: 0.9209\n",
            "Epoch 7/20\n",
            "83/83 [==============================] - 11s 127ms/step - loss: 0.1162 - accuracy: 0.9544 - val_loss: 0.1436 - val_accuracy: 0.9525\n",
            "Epoch 8/20\n",
            "83/83 [==============================] - 11s 131ms/step - loss: 0.0994 - accuracy: 0.9570 - val_loss: 0.1133 - val_accuracy: 0.9480\n",
            "Epoch 9/20\n",
            "83/83 [==============================] - 11s 128ms/step - loss: 0.0942 - accuracy: 0.9574 - val_loss: 0.1382 - val_accuracy: 0.9537\n",
            "Epoch 10/20\n",
            "83/83 [==============================] - 11s 130ms/step - loss: 0.0932 - accuracy: 0.9529 - val_loss: 0.1044 - val_accuracy: 0.9537\n",
            "Epoch 11/20\n",
            "83/83 [==============================] - 11s 131ms/step - loss: 0.0916 - accuracy: 0.9567 - val_loss: 0.1203 - val_accuracy: 0.9480\n",
            "Epoch 12/20\n",
            "83/83 [==============================] - 11s 127ms/step - loss: 0.0942 - accuracy: 0.9551 - val_loss: 0.1389 - val_accuracy: 0.9525\n",
            "Epoch 13/20\n",
            "83/83 [==============================] - 11s 127ms/step - loss: 0.1369 - accuracy: 0.9450 - val_loss: 0.1735 - val_accuracy: 0.9277\n",
            "Epoch 14/20\n",
            "83/83 [==============================] - 11s 131ms/step - loss: 0.1072 - accuracy: 0.9502 - val_loss: 0.1352 - val_accuracy: 0.9469\n",
            "Epoch 15/20\n",
            "83/83 [==============================] - 10s 127ms/step - loss: 0.0879 - accuracy: 0.9551 - val_loss: 0.1312 - val_accuracy: 0.9480\n",
            "Epoch 16/20\n",
            "83/83 [==============================] - 11s 127ms/step - loss: 0.0853 - accuracy: 0.9555 - val_loss: 0.1150 - val_accuracy: 0.9458\n",
            "Epoch 17/20\n",
            "83/83 [==============================] - 11s 127ms/step - loss: 0.0827 - accuracy: 0.9574 - val_loss: 0.1057 - val_accuracy: 0.9514\n",
            "Epoch 18/20\n",
            "83/83 [==============================] - 11s 131ms/step - loss: 0.0868 - accuracy: 0.9567 - val_loss: 0.1064 - val_accuracy: 0.9480\n",
            "Epoch 19/20\n",
            "83/83 [==============================] - 11s 131ms/step - loss: 0.0832 - accuracy: 0.9540 - val_loss: 0.1011 - val_accuracy: 0.9480\n",
            "Epoch 20/20\n",
            "83/83 [==============================] - 11s 130ms/step - loss: 0.0829 - accuracy: 0.9525 - val_loss: 0.1104 - val_accuracy: 0.9480\n"
          ]
        }
      ],
      "source": [
        "hist = model.fit(xtrain,ytrain,epochs = 20,batch_size = 32,validation_data = (xtest,ytest))"
      ]
    },
    {
      "cell_type": "code",
      "execution_count": 44,
      "id": "e6jjwnExBA-H",
      "metadata": {
        "colab": {
          "base_uri": "https://localhost:8080/",
          "height": 385
        },
        "id": "e6jjwnExBA-H",
        "outputId": "dd532417-aa25-4cfd-a78b-8dd1ffb2ba79"
      },
      "outputs": [
        {
          "output_type": "display_data",
          "data": {
            "text/plain": [
              "<Figure size 1200x400 with 2 Axes>"
            ],
            "image/png": "[encoded data removed]"
          },
          "metadata": {}
        }
      ],
      "source": [
        "import matplotlib.pyplot as plt\n",
        "\n",
        "def plot_history(hist):\n",
        "    plt.figure(figsize=(12, 4))\n",
        "    plt.subplot(1, 2, 1)\n",
        "    plt.plot(hist.history['accuracy'])\n",
        "    plt.plot(hist.history['val_accuracy'])\n",
        "    plt.title('Model Accuracy')\n",
        "    plt.ylabel('Accuracy')\n",
        "    plt.xlabel('Epoch')\n",
        "    plt.legend(['Train', 'Test'], loc='upper left')\n",
        "\n",
        "    plt.subplot(1, 2, 2)\n",
        "    plt.plot(hist.history['loss'])\n",
        "    plt.plot(hist.history['val_loss'])\n",
        "    plt.title('Model Loss')\n",
        "    plt.ylabel('Loss')\n",
        "    plt.xlabel('Epoch')\n",
        "    plt.legend(['Train', 'Test'], loc='upper left')\n",
        "\n",
        "    plt.tight_layout()\n",
        "    plt.show()\n",
        "plot_history(hist)"
      ]
    },
    {
      "cell_type": "code",
      "execution_count": 45,
      "id": "wiCBdtxHBBBO",
      "metadata": {
        "colab": {
          "base_uri": "https://localhost:8080/"
        },
        "id": "wiCBdtxHBBBO",
        "outputId": "a9c42630-8ab7-49c5-dc9a-1c6dcde3e191"
      },
      "outputs": [
        {
          "output_type": "stream",
          "name": "stdout",
          "text": [
            "28/28 [==============================] - 1s 35ms/step\n"
          ]
        }
      ],
      "source": [
        "img = np.reshape(xtest,(-1,1,224,224))\n",
        "res = model.predict(xtest)"
      ]
    },
    {
      "cell_type": "code",
      "execution_count": 46,
      "id": "4pennH0wBVX6",
      "metadata": {
        "id": "4pennH0wBVX6"
      },
      "outputs": [],
      "source": [
        "ypred = []\n",
        "for i in res:\n",
        "  temp = np.argmax(i)\n",
        "  ypred.append(temp)\n",
        "ypred = np.array(ypred)"
      ]
    },
    {
      "cell_type": "code",
      "execution_count": 47,
      "id": "AE46jzHuBYlt",
      "metadata": {
        "id": "AE46jzHuBYlt"
      },
      "outputs": [],
      "source": [
        "from sklearn.metrics import confusion_matrix,ConfusionMatrixDisplay\n",
        "from sklearn.metrics import accuracy_score"
      ]
    },
    {
      "cell_type": "code",
      "execution_count": 48,
      "id": "E-WAX_NjBVbV",
      "metadata": {
        "colab": {
          "base_uri": "https://localhost:8080/"
        },
        "id": "E-WAX_NjBVbV",
        "outputId": "78e499b9-2b98-470a-fb69-cd147c799aa5"
      },
      "outputs": [
        {
          "output_type": "execute_result",
          "data": {
            "text/plain": [
              "0.9480225988700565"
            ]
          },
          "metadata": {},
          "execution_count": 48
        }
      ],
      "source": [
        "accuracy_score(ytest,ypred)"
      ]
    },
    {
      "cell_type": "code",
      "execution_count": 49,
      "id": "VPhIgb3gBVpT",
      "metadata": {
        "colab": {
          "base_uri": "https://localhost:8080/",
          "height": 466
        },
        "id": "VPhIgb3gBVpT",
        "outputId": "f4cae0b5-670e-4f45-cee1-ad8945b363a6"
      },
      "outputs": [
        {
          "output_type": "execute_result",
          "data": {
            "text/plain": [
              "<sklearn.metrics._plot.confusion_matrix.ConfusionMatrixDisplay at 0x7d6b499fda50>"
            ]
          },
          "metadata": {},
          "execution_count": 49
        },
        {
          "output_type": "display_data",
          "data": {
            "text/plain": [
              "<Figure size 640x480 with 2 Axes>"
            ],
            "image/png": "[encoded data removed]"
          },
          "metadata": {}
        }
      ],
      "source": [
        "cf = confusion_matrix(y_true = ytest ,y_pred =  ypred)\n",
        "x = ConfusionMatrixDisplay(cf)\n",
        "x.plot()"
      ]
    },
    {
      "cell_type": "markdown",
      "id": "IafOjntSaUU9",
      "metadata": {
        "id": "IafOjntSaUU9"
      },
      "source": [
        "#Squeezenet"
      ]
    },
    {
      "cell_type": "code",
      "execution_count": null,
      "id": "8LRUHmpzaLe_",
      "metadata": {
        "colab": {
          "base_uri": "https://localhost:8080/"
        },
        "id": "8LRUHmpzaLe_",
        "outputId": "2ee0785e-bd56-4467-ad27-ed0e6ed65a12"
      },
      "outputs": [
        {
          "name": "stdout",
          "output_type": "stream",
          "text": [
            "Model: \"squeezenet\"\n",
            "__________________________________________________________________________________________________\n",
            " Layer (type)                Output Shape                 Param #   Connected to                  \n",
            "==================================================================================================\n",
            " input_11 (InputLayer)       [(None, 224, 224, 1)]        0         []                            \n",
            "                                                                                                  \n",
            " conv2d_150 (Conv2D)         (None, 111, 111, 64)         640       ['input_11[0][0]']            \n",
            "                                                                                                  \n",
            " max_pooling2d_34 (MaxPooli  (None, 55, 55, 64)           0         ['conv2d_150[0][0]']          \n",
            " ng2D)                                                                                            \n",
            "                                                                                                  \n",
            " conv2d_151 (Conv2D)         (None, 55, 55, 16)           1040      ['max_pooling2d_34[0][0]']    \n",
            "                                                                                                  \n",
            " conv2d_152 (Conv2D)         (None, 55, 55, 64)           1088      ['conv2d_151[0][0]']          \n",
            "                                                                                                  \n",
            " conv2d_153 (Conv2D)         (None, 55, 55, 64)           9280      ['conv2d_151[0][0]']          \n",
            "                                                                                                  \n",
            " concatenate_15 (Concatenat  (None, 55, 55, 128)          0         ['conv2d_152[0][0]',          \n",
            " e)                                                                  'conv2d_153[0][0]']          \n",
            "                                                                                                  \n",
            " conv2d_154 (Conv2D)         (None, 55, 55, 16)           2064      ['concatenate_15[0][0]']      \n",
            "                                                                                                  \n",
            " conv2d_155 (Conv2D)         (None, 55, 55, 64)           1088      ['conv2d_154[0][0]']          \n",
            "                                                                                                  \n",
            " conv2d_156 (Conv2D)         (None, 55, 55, 64)           9280      ['conv2d_154[0][0]']          \n",
            "                                                                                                  \n",
            " concatenate_16 (Concatenat  (None, 55, 55, 128)          0         ['conv2d_155[0][0]',          \n",
            " e)                                                                  'conv2d_156[0][0]']          \n",
            "                                                                                                  \n",
            " max_pooling2d_35 (MaxPooli  (None, 27, 27, 128)          0         ['concatenate_16[0][0]']      \n",
            " ng2D)                                                                                            \n",
            "                                                                                                  \n",
            " conv2d_157 (Conv2D)         (None, 27, 27, 32)           4128      ['max_pooling2d_35[0][0]']    \n",
            "                                                                                                  \n",
            " conv2d_158 (Conv2D)         (None, 27, 27, 128)          4224      ['conv2d_157[0][0]']          \n",
            "                                                                                                  \n",
            " conv2d_159 (Conv2D)         (None, 27, 27, 128)          36992     ['conv2d_157[0][0]']          \n",
            "                                                                                                  \n",
            " concatenate_17 (Concatenat  (None, 27, 27, 256)          0         ['conv2d_158[0][0]',          \n",
            " e)                                                                  'conv2d_159[0][0]']          \n",
            "                                                                                                  \n",
            " conv2d_160 (Conv2D)         (None, 27, 27, 32)           8224      ['concatenate_17[0][0]']      \n",
            "                                                                                                  \n",
            " conv2d_161 (Conv2D)         (None, 27, 27, 128)          4224      ['conv2d_160[0][0]']          \n",
            "                                                                                                  \n",
            " conv2d_162 (Conv2D)         (None, 27, 27, 128)          36992     ['conv2d_160[0][0]']          \n",
            "                                                                                                  \n",
            " concatenate_18 (Concatenat  (None, 27, 27, 256)          0         ['conv2d_161[0][0]',          \n",
            " e)                                                                  'conv2d_162[0][0]']          \n",
            "                                                                                                  \n",
            " max_pooling2d_36 (MaxPooli  (None, 13, 13, 256)          0         ['concatenate_18[0][0]']      \n",
            " ng2D)                                                                                            \n",
            "                                                                                                  \n",
            " conv2d_163 (Conv2D)         (None, 13, 13, 48)           12336     ['max_pooling2d_36[0][0]']    \n",
            "                                                                                                  \n",
            " conv2d_164 (Conv2D)         (None, 13, 13, 192)          9408      ['conv2d_163[0][0]']          \n",
            "                                                                                                  \n",
            " conv2d_165 (Conv2D)         (None, 13, 13, 192)          83136     ['conv2d_163[0][0]']          \n",
            "                                                                                                  \n",
            " concatenate_19 (Concatenat  (None, 13, 13, 384)          0         ['conv2d_164[0][0]',          \n",
            " e)                                                                  'conv2d_165[0][0]']          \n",
            "                                                                                                  \n",
            " conv2d_166 (Conv2D)         (None, 13, 13, 48)           18480     ['concatenate_19[0][0]']      \n",
            "                                                                                                  \n",
            " conv2d_167 (Conv2D)         (None, 13, 13, 192)          9408      ['conv2d_166[0][0]']          \n",
            "                                                                                                  \n",
            " conv2d_168 (Conv2D)         (None, 13, 13, 192)          83136     ['conv2d_166[0][0]']          \n",
            "                                                                                                  \n",
            " concatenate_20 (Concatenat  (None, 13, 13, 384)          0         ['conv2d_167[0][0]',          \n",
            " e)                                                                  'conv2d_168[0][0]']          \n",
            "                                                                                                  \n",
            " conv2d_169 (Conv2D)         (None, 13, 13, 64)           24640     ['concatenate_20[0][0]']      \n",
            "                                                                                                  \n",
            " conv2d_170 (Conv2D)         (None, 13, 13, 256)          16640     ['conv2d_169[0][0]']          \n",
            "                                                                                                  \n",
            " conv2d_171 (Conv2D)         (None, 13, 13, 256)          147712    ['conv2d_169[0][0]']          \n",
            "                                                                                                  \n",
            " concatenate_21 (Concatenat  (None, 13, 13, 512)          0         ['conv2d_170[0][0]',          \n",
            " e)                                                                  'conv2d_171[0][0]']          \n",
            "                                                                                                  \n",
            " conv2d_172 (Conv2D)         (None, 13, 13, 64)           32832     ['concatenate_21[0][0]']      \n",
            "                                                                                                  \n",
            " conv2d_173 (Conv2D)         (None, 13, 13, 256)          16640     ['conv2d_172[0][0]']          \n",
            "                                                                                                  \n",
            " conv2d_174 (Conv2D)         (None, 13, 13, 256)          147712    ['conv2d_172[0][0]']          \n",
            "                                                                                                  \n",
            " concatenate_22 (Concatenat  (None, 13, 13, 512)          0         ['conv2d_173[0][0]',          \n",
            " e)                                                                  'conv2d_174[0][0]']          \n",
            "                                                                                                  \n",
            " conv2d_175 (Conv2D)         (None, 13, 13, 1000)         513000    ['concatenate_22[0][0]']      \n",
            "                                                                                                  \n",
            " average_pooling2d_1 (Avera  (None, 1, 1, 1000)           0         ['conv2d_175[0][0]']          \n",
            " gePooling2D)                                                                                     \n",
            "                                                                                                  \n",
            " flatten_3 (Flatten)         (None, 1000)                 0         ['average_pooling2d_1[0][0]'] \n",
            "                                                                                                  \n",
            " activation (Activation)     (None, 1000)                 0         ['flatten_3[0][0]']           \n",
            "                                                                                                  \n",
            "==================================================================================================\n",
            "Total params: 1234344 (4.71 MB)\n",
            "Trainable params: 1234344 (4.71 MB)\n",
            "Non-trainable params: 0 (0.00 Byte)\n",
            "__________________________________________________________________________________________________\n"
          ]
        }
      ],
      "source": [
        "from keras.layers import Input, Conv2D, MaxPooling2D, concatenate, Flatten, Activation\n",
        "from keras.models import Model\n",
        "\n",
        "def SqueezeNet(input_shape=(224, 224, 1), num_classes=1000):\n",
        "    input_img = Input(shape=input_shape)\n",
        "\n",
        "    # Convolutional layers\n",
        "    x = Conv2D(64, (3, 3), activation='relu', padding='valid', strides=(2, 2))(input_img)\n",
        "    x = MaxPooling2D(pool_size=(3, 3), strides=(2, 2))(x)\n",
        "\n",
        "    # Fire modules\n",
        "    x = fire_module(x, squeeze=16, expand=64)\n",
        "    x = fire_module(x, squeeze=16, expand=64)\n",
        "    x = MaxPooling2D(pool_size=(3, 3), strides=(2, 2))(x)\n",
        "    x = fire_module(x, squeeze=32, expand=128)\n",
        "    x = fire_module(x, squeeze=32, expand=128)\n",
        "    x = MaxPooling2D(pool_size=(3, 3), strides=(2, 2))(x)\n",
        "    x = fire_module(x, squeeze=48, expand=192)\n",
        "    x = fire_module(x, squeeze=48, expand=192)\n",
        "    x = fire_module(x, squeeze=64, expand=256)\n",
        "    x = fire_module(x, squeeze=64, expand=256)\n",
        "\n",
        "    # Classification head\n",
        "    x = Conv2D(num_classes, (1, 1), activation='relu', padding='valid')(x)\n",
        "    x = AveragePooling2D(pool_size=(13, 13))(x)\n",
        "    x = Flatten()(x)\n",
        "    x = Activation('softmax')(x)\n",
        "\n",
        "    model = Model(inputs=input_img, outputs=x, name='squeezenet')\n",
        "    return model\n",
        "\n",
        "def fire_module(x, squeeze, expand):\n",
        "    \"\"\"\n",
        "    Creates a Fire module consisting of squeeze and expand layers.\n",
        "    \"\"\"\n",
        "    squeezed = Conv2D(squeeze, (1, 1), activation='relu', padding='valid')(x)\n",
        "\n",
        "    expanded_1x1 = Conv2D(expand, (1, 1), activation='relu', padding='valid')(squeezed)\n",
        "    expanded_3x3 = Conv2D(expand, (3, 3), activation='relu', padding='same')(squeezed)\n",
        "\n",
        "    output = concatenate([expanded_1x1, expanded_3x3], axis=-1)\n",
        "    return output\n",
        "\n",
        "# Create SqueezeNet model with input shape (224, 224, 1)\n",
        "squeezenet_model = SqueezeNet(input_shape=(224, 224, 1))\n",
        "squeezenet_model.summary()\n"
      ]
    },
    {
      "cell_type": "code",
      "execution_count": null,
      "id": "OCcSYbCzao5c",
      "metadata": {
        "id": "OCcSYbCzao5c"
      },
      "outputs": [],
      "source": [
        "from keras.callbacks import EarlyStopping\n",
        "from keras.optimizers import Adam\n",
        "\n",
        "# Define SqueezeNet model\n",
        "model = SqueezeNet()\n",
        "\n",
        "# Compile the model\n",
        "optimizer = Adam()  # Define optimizer (e.g., Adam)\n",
        "model.compile(optimizer=optimizer, loss='sparse_categorical_crossentropy', metrics=['accuracy'])\n",
        "\n",
        "# Define EarlyStopping callback\n",
        "early_stopping = EarlyStopping(\n",
        "    monitor=\"val_loss\",    # Monitor validation loss\n",
        "    min_delta=0.00001,     # Minimum change to qualify as an improvement\n",
        "    patience=20,           # Number of epochs with no improvement after which training will be stopped\n",
        "    verbose=1,             # Verbosity mode (1: update messages)\n",
        "    mode=\"auto\",           # Direction of improvement ('auto', 'min', 'max')\n",
        "    restore_best_weights=False  # Whether to restore model weights to the best epoch\n",
        ")\n"
      ]
    },
    {
      "cell_type": "code",
      "execution_count": null,
      "id": "3_MFowzjao8A",
      "metadata": {
        "colab": {
          "base_uri": "https://localhost:8080/"
        },
        "id": "3_MFowzjao8A",
        "outputId": "15640289-666b-4c34-a51e-1cf54671a922"
      },
      "outputs": [
        {
          "name": "stdout",
          "output_type": "stream",
          "text": [
            "Epoch 1/20\n",
            "84/84 [==============================] - 5s 56ms/step - loss: 1.1612 - accuracy: 0.4872 - val_loss: 1.2846 - val_accuracy: 0.4133\n",
            "Epoch 2/20\n",
            "84/84 [==============================] - 4s 52ms/step - loss: 1.0797 - accuracy: 0.5184 - val_loss: 1.0725 - val_accuracy: 0.4752\n",
            "Epoch 3/20\n",
            "84/84 [==============================] - 4s 52ms/step - loss: 0.9585 - accuracy: 0.5770 - val_loss: 0.9770 - val_accuracy: 0.6160\n",
            "Epoch 4/20\n",
            "84/84 [==============================] - 4s 53ms/step - loss: 0.8284 - accuracy: 0.6461 - val_loss: 0.8376 - val_accuracy: 0.6509\n",
            "Epoch 5/20\n",
            "84/84 [==============================] - 4s 51ms/step - loss: 0.7420 - accuracy: 0.6818 - val_loss: 0.7198 - val_accuracy: 0.6993\n",
            "Epoch 6/20\n",
            "84/84 [==============================] - 5s 62ms/step - loss: 0.6403 - accuracy: 0.7509 - val_loss: 0.6822 - val_accuracy: 0.6982\n",
            "Epoch 7/20\n",
            "84/84 [==============================] - 4s 50ms/step - loss: 0.5202 - accuracy: 0.7964 - val_loss: 0.5239 - val_accuracy: 0.7962\n",
            "Epoch 8/20\n",
            "84/84 [==============================] - 4s 53ms/step - loss: 0.4965 - accuracy: 0.7971 - val_loss: 0.5448 - val_accuracy: 0.7883\n",
            "Epoch 9/20\n",
            "84/84 [==============================] - 5s 55ms/step - loss: 0.4365 - accuracy: 0.8212 - val_loss: 0.4909 - val_accuracy: 0.8097\n",
            "Epoch 10/20\n",
            "84/84 [==============================] - 4s 50ms/step - loss: 0.3692 - accuracy: 0.8625 - val_loss: 0.5971 - val_accuracy: 0.7883\n",
            "Epoch 11/20\n",
            "84/84 [==============================] - 4s 53ms/step - loss: 0.3671 - accuracy: 0.8565 - val_loss: 0.4251 - val_accuracy: 0.8390\n",
            "Epoch 12/20\n",
            "84/84 [==============================] - 4s 52ms/step - loss: 0.3437 - accuracy: 0.8565 - val_loss: 0.3677 - val_accuracy: 0.8468\n",
            "Epoch 13/20\n",
            "84/84 [==============================] - 4s 52ms/step - loss: 0.3018 - accuracy: 0.8730 - val_loss: 0.3309 - val_accuracy: 0.8705\n",
            "Epoch 14/20\n",
            "84/84 [==============================] - 4s 53ms/step - loss: 0.2785 - accuracy: 0.8862 - val_loss: 0.3928 - val_accuracy: 0.8502\n",
            "Epoch 15/20\n",
            "84/84 [==============================] - 5s 55ms/step - loss: 0.3049 - accuracy: 0.8663 - val_loss: 0.3979 - val_accuracy: 0.8468\n",
            "Epoch 16/20\n",
            "84/84 [==============================] - 4s 50ms/step - loss: 0.2757 - accuracy: 0.8843 - val_loss: 0.3737 - val_accuracy: 0.8423\n",
            "Epoch 17/20\n",
            "84/84 [==============================] - 4s 53ms/step - loss: 0.2263 - accuracy: 0.9016 - val_loss: 0.4581 - val_accuracy: 0.8277\n",
            "Epoch 18/20\n",
            "84/84 [==============================] - 5s 54ms/step - loss: 0.2637 - accuracy: 0.8873 - val_loss: 0.3283 - val_accuracy: 0.8739\n",
            "Epoch 19/20\n",
            "84/84 [==============================] - 4s 50ms/step - loss: 0.1795 - accuracy: 0.9222 - val_loss: 0.2866 - val_accuracy: 0.8930\n",
            "Epoch 20/20\n",
            "84/84 [==============================] - 4s 50ms/step - loss: 0.2360 - accuracy: 0.9012 - val_loss: 0.3329 - val_accuracy: 0.8761\n"
          ]
        }
      ],
      "source": [
        "hist = model.fit(xtrain,ytrain,epochs = 20,batch_size = 32,validation_data = (xtest,ytest))"
      ]
    },
    {
      "cell_type": "code",
      "execution_count": null,
      "id": "ItXSt40lao-j",
      "metadata": {
        "colab": {
          "base_uri": "https://localhost:8080/",
          "height": 385
        },
        "id": "ItXSt40lao-j",
        "outputId": "6dee3163-242b-40f0-8989-c0413aa0ed2a"
      },
      "outputs": [
        {
          "data": {
            "image/png": "[encoded data removed]",
            "text/plain": [
              "<Figure size 1200x400 with 2 Axes>"
            ]
          },
          "metadata": {},
          "output_type": "display_data"
        }
      ],
      "source": [
        "import matplotlib.pyplot as plt\n",
        "\n",
        "def plot_history(hist):\n",
        "    plt.figure(figsize=(12, 4))\n",
        "    plt.subplot(1, 2, 1)\n",
        "    plt.plot(hist.history['accuracy'])\n",
        "    plt.plot(hist.history['val_accuracy'])\n",
        "    plt.title('Model Accuracy')\n",
        "    plt.ylabel('Accuracy')\n",
        "    plt.xlabel('Epoch')\n",
        "    plt.legend(['Train', 'Test'], loc='upper left')\n",
        "\n",
        "    plt.subplot(1, 2, 2)\n",
        "    plt.plot(hist.history['loss'])\n",
        "    plt.plot(hist.history['val_loss'])\n",
        "    plt.title('Model Loss')\n",
        "    plt.ylabel('Loss')\n",
        "    plt.xlabel('Epoch')\n",
        "    plt.legend(['Train', 'Test'], loc='upper left')\n",
        "\n",
        "    plt.tight_layout()\n",
        "    plt.show()\n",
        "plot_history(hist)"
      ]
    },
    {
      "cell_type": "code",
      "execution_count": null,
      "id": "F6H3DJxVapA-",
      "metadata": {
        "colab": {
          "base_uri": "https://localhost:8080/"
        },
        "id": "F6H3DJxVapA-",
        "outputId": "188cf4ed-f216-4138-b47d-e79b7977b8be"
      },
      "outputs": [
        {
          "name": "stdout",
          "output_type": "stream",
          "text": [
            "28/28 [==============================] - 1s 16ms/step\n"
          ]
        }
      ],
      "source": [
        "img = np.reshape(xtest,(-1,1,224,224))\n",
        "res = model.predict(xtest)"
      ]
    },
    {
      "cell_type": "code",
      "execution_count": null,
      "id": "hcdxDfIdapDQ",
      "metadata": {
        "id": "hcdxDfIdapDQ"
      },
      "outputs": [],
      "source": [
        "ypred = []\n",
        "for i in res:\n",
        "  temp = np.argmax(i)\n",
        "  ypred.append(temp)\n",
        "ypred = np.array(ypred)"
      ]
    },
    {
      "cell_type": "code",
      "execution_count": null,
      "id": "qJ1yssjzapGC",
      "metadata": {
        "id": "qJ1yssjzapGC"
      },
      "outputs": [],
      "source": [
        "from sklearn.metrics import confusion_matrix,ConfusionMatrixDisplay\n",
        "from sklearn.metrics import accuracy_score"
      ]
    },
    {
      "cell_type": "code",
      "execution_count": null,
      "id": "xD8nPxokapIR",
      "metadata": {
        "colab": {
          "base_uri": "https://localhost:8080/"
        },
        "id": "xD8nPxokapIR",
        "outputId": "7ac31c52-baac-4200-ff88-036f7a128f18"
      },
      "outputs": [
        {
          "data": {
            "text/plain": [
              "0.8761261261261262"
            ]
          },
          "execution_count": 35,
          "metadata": {},
          "output_type": "execute_result"
        }
      ],
      "source": [
        "accuracy_score(ytest,ypred)"
      ]
    },
    {
      "cell_type": "code",
      "execution_count": null,
      "id": "-GJXUbaJapKI",
      "metadata": {
        "colab": {
          "base_uri": "https://localhost:8080/",
          "height": 466
        },
        "id": "-GJXUbaJapKI",
        "outputId": "671d8777-0e90-47bc-f050-864428025b83"
      },
      "outputs": [
        {
          "data": {
            "text/plain": [
              "<sklearn.metrics._plot.confusion_matrix.ConfusionMatrixDisplay at 0x7da72166fe80>"
            ]
          },
          "execution_count": 36,
          "metadata": {},
          "output_type": "execute_result"
        },
        {
          "data": {
            "image/png": "[encoded data removed]",
            "text/plain": [
              "<Figure size 640x480 with 2 Axes>"
            ]
          },
          "metadata": {},
          "output_type": "display_data"
        }
      ],
      "source": [
        "cf = confusion_matrix(y_true = ytest ,y_pred =  ypred)\n",
        "x = ConfusionMatrixDisplay(cf)\n",
        "x.plot()"
      ]
    },
    {
      "cell_type": "code",
      "execution_count": null,
      "id": "CpYso_lBapNh",
      "metadata": {
        "id": "CpYso_lBapNh",
        "outputId": "d4969c7c-258a-4f28-ad0a-9801de8b71a3"
      },
      "outputs": [
        {
          "data": {
            "text/plain": [
              "Text(0.5, 1.0, 'Model Accuracy Comparison')"
            ]
          },
          "execution_count": 2,
          "metadata": {},
          "output_type": "execute_result"
        },
        {
          "data": {
            "image/png": "[encoded data removed]",
            "text/plain": [
              "<Figure size 1000x600 with 1 Axes>"
            ]
          },
          "metadata": {},
          "output_type": "display_data"
        }
      ],
      "source": [
        "import matplotlib.pyplot as plt\n",
        "\n",
        "# Models\n",
        "models = ['AlexNet', 'ResNet-18', 'GoogleNet', 'VGG-16', 'VGG-19', 'Inception V3', 'SqueezeNet']\n",
        "\n",
        "# Accuracy values\n",
        "accuracy = [98.7, 92.45, 87.61, 27.02, 27.02, 89.9, 87.612]\n",
        "\n",
        "# Loss values\n",
        "loss = [0.0246, 0.1374, 0.222, 1.6368, 1.362, 0.257, 0.236]\n",
        "\n",
        "# Plotting\n",
        "plt.figure(figsize=(10, 6))\n",
        "\n",
        "# Accuracy plot\n",
        "plt.subplot(1, 2, 1)\n",
        "plt.barh(models, accuracy, color='skyblue')\n",
        "plt.xlabel('Accuracy (%)')\n",
        "plt.title('Model Accuracy Comparison')\n",
        "\n",
        "# Loss plot\n",
        "\n"
      ]
    },
    {
      "cell_type": "code",
      "execution_count": null,
      "id": "c9539806",
      "metadata": {
        "id": "c9539806",
        "outputId": "2bdee49f-ad0d-4669-b2af-3efcd5c98117"
      },
      "outputs": [
        {
          "data": {
            "image/png": "[encoded data removed]",
            "text/plain": [
              "<Figure size 640x480 with 1 Axes>"
            ]
          },
          "metadata": {},
          "output_type": "display_data"
        }
      ],
      "source": [
        "plt.subplot(1, 2, 2)\n",
        "plt.barh(models, loss, color='salmon')\n",
        "plt.xlabel('Loss')\n",
        "plt.title('Model Loss Comparison')\n",
        "\n",
        "plt.tight_layout()\n",
        "plt.show()"
      ]
    },
    {
      "cell_type": "markdown",
      "source": [
        "##DenseNet"
      ],
      "metadata": {
        "id": "r8Bl-QhQrQU8"
      },
      "id": "r8Bl-QhQrQU8"
    },
    {
      "cell_type": "code",
      "source": [
        "from keras.models import Model\n",
        "from keras.layers import Input, Conv2D, MaxPooling2D, Dense, Flatten, Dropout, BatchNormalization, Activation\n",
        "from keras.layers import GlobalAveragePooling2D, Reshape, Multiply, Add\n",
        "from keras import backend as K\n",
        "\n",
        "def squeeze_excite_block(inputs, ratio=16):\n",
        "    channels = K.int_shape(inputs)[-1]\n",
        "\n",
        "    # Squeeze operation\n",
        "    se = GlobalAveragePooling2D()(inputs)\n",
        "    se = Dense(channels // ratio, activation='relu')(se)\n",
        "    se = Dense(channels, activation='sigmoid')(se)\n",
        "    se = Reshape((1, 1, channels))(se)  # Reshape to match input shape\n",
        "\n",
        "    # Excitation operation\n",
        "    x = Multiply()([inputs, se])\n",
        "    return x\n",
        "\n",
        "def conv_block(x, filters, kernel_size=(3, 3), strides=(1, 1), padding='same', activation='relu'):\n",
        "    x = Conv2D(filters, kernel_size=kernel_size, strides=strides, padding=padding)(x)\n",
        "    x = BatchNormalization()(x)\n",
        "    x = Activation(activation)(x)\n",
        "    return x\n",
        "\n",
        "def se_net(input_shape=(224, 224, 1), num_classes=4):\n",
        "    inputs = Input(shape=input_shape)\n",
        "\n",
        "    # Initial convolution block\n",
        "    x = conv_block(inputs, filters=64, kernel_size=(7, 7), strides=(2, 2))\n",
        "    x = MaxPooling2D(pool_size=(3, 3), strides=(2, 2), padding='same')(x)\n",
        "\n",
        "    # Convolution blocks with SE blocks\n",
        "    filters = 64\n",
        "    for _ in range(3):\n",
        "        x = conv_block(x, filters=filters)\n",
        "        x = squeeze_excite_block(x)\n",
        "        x = conv_block(x, filters=filters * 2, strides=(2, 2))\n",
        "        filters *= 2\n",
        "\n",
        "    # Flatten and fully connected layers\n",
        "    x = GlobalAveragePooling2D()(x)\n",
        "    x = Dense(256, activation='relu')(x)\n",
        "    x = Dropout(0.5)(x)\n",
        "    x = Dense(num_classes, activation='softmax')(x)\n",
        "\n",
        "    model = Model(inputs=inputs, outputs=x)\n",
        "    return model\n",
        "\n",
        "# Define input shape and number of classes\n",
        "input_shape = (224, 224, 1)  # Change this to match your input shape\n",
        "num_classes = 4  # Change this to match your number of classes\n",
        "\n",
        "# Create SENet model\n",
        "model = se_net(input_shape=input_shape, num_classes=num_classes)\n",
        "\n",
        "# Compile the model\n",
        "model.compile(optimizer='adam', loss='sparse_categorical_crossentropy', metrics=['accuracy'])\n",
        "\n",
        "model.summary()  # Print model summary\n"
      ],
      "metadata": {
        "colab": {
          "base_uri": "https://localhost:8080/"
        },
        "id": "-fiFCgOgrQx8",
        "outputId": "245e33de-deb1-47ae-f401-ac9804055cf5"
      },
      "id": "-fiFCgOgrQx8",
      "execution_count": 24,
      "outputs": [
        {
          "output_type": "stream",
          "name": "stdout",
          "text": [
            "Model: \"model_1\"\n",
            "__________________________________________________________________________________________________\n",
            " Layer (type)                Output Shape                 Param #   Connected to                  \n",
            "==================================================================================================\n",
            " input_7 (InputLayer)        [(None, 224, 224, 1)]        0         []                            \n",
            "                                                                                                  \n",
            " conv2d_82 (Conv2D)          (None, 112, 112, 64)         3200      ['input_7[0][0]']             \n",
            "                                                                                                  \n",
            " batch_normalization_77 (Ba  (None, 112, 112, 64)         256       ['conv2d_82[0][0]']           \n",
            " tchNormalization)                                                                                \n",
            "                                                                                                  \n",
            " activation_2 (Activation)   (None, 112, 112, 64)         0         ['batch_normalization_77[0][0]\n",
            "                                                                    ']                            \n",
            "                                                                                                  \n",
            " max_pooling2d_9 (MaxPoolin  (None, 56, 56, 64)           0         ['activation_2[0][0]']        \n",
            " g2D)                                                                                             \n",
            "                                                                                                  \n",
            " conv2d_83 (Conv2D)          (None, 56, 56, 64)           36928     ['max_pooling2d_9[0][0]']     \n",
            "                                                                                                  \n",
            " batch_normalization_78 (Ba  (None, 56, 56, 64)           256       ['conv2d_83[0][0]']           \n",
            " tchNormalization)                                                                                \n",
            "                                                                                                  \n",
            " activation_3 (Activation)   (None, 56, 56, 64)           0         ['batch_normalization_78[0][0]\n",
            "                                                                    ']                            \n",
            "                                                                                                  \n",
            " global_average_pooling2d (  (None, 64)                   0         ['activation_3[0][0]']        \n",
            " GlobalAveragePooling2D)                                                                          \n",
            "                                                                                                  \n",
            " dense_2 (Dense)             (None, 4)                    260       ['global_average_pooling2d[0][\n",
            "                                                                    0]']                          \n",
            "                                                                                                  \n",
            " dense_3 (Dense)             (None, 64)                   320       ['dense_2[0][0]']             \n",
            "                                                                                                  \n",
            " reshape (Reshape)           (None, 1, 1, 64)             0         ['dense_3[0][0]']             \n",
            "                                                                                                  \n",
            " multiply (Multiply)         (None, 56, 56, 64)           0         ['activation_3[0][0]',        \n",
            "                                                                     'reshape[0][0]']             \n",
            "                                                                                                  \n",
            " conv2d_84 (Conv2D)          (None, 28, 28, 128)          73856     ['multiply[0][0]']            \n",
            "                                                                                                  \n",
            " batch_normalization_79 (Ba  (None, 28, 28, 128)          512       ['conv2d_84[0][0]']           \n",
            " tchNormalization)                                                                                \n",
            "                                                                                                  \n",
            " activation_4 (Activation)   (None, 28, 28, 128)          0         ['batch_normalization_79[0][0]\n",
            "                                                                    ']                            \n",
            "                                                                                                  \n",
            " conv2d_85 (Conv2D)          (None, 28, 28, 128)          147584    ['activation_4[0][0]']        \n",
            "                                                                                                  \n",
            " batch_normalization_80 (Ba  (None, 28, 28, 128)          512       ['conv2d_85[0][0]']           \n",
            " tchNormalization)                                                                                \n",
            "                                                                                                  \n",
            " activation_5 (Activation)   (None, 28, 28, 128)          0         ['batch_normalization_80[0][0]\n",
            "                                                                    ']                            \n",
            "                                                                                                  \n",
            " global_average_pooling2d_1  (None, 128)                  0         ['activation_5[0][0]']        \n",
            "  (GlobalAveragePooling2D)                                                                        \n",
            "                                                                                                  \n",
            " dense_4 (Dense)             (None, 8)                    1032      ['global_average_pooling2d_1[0\n",
            "                                                                    ][0]']                        \n",
            "                                                                                                  \n",
            " dense_5 (Dense)             (None, 128)                  1152      ['dense_4[0][0]']             \n",
            "                                                                                                  \n",
            " reshape_1 (Reshape)         (None, 1, 1, 128)            0         ['dense_5[0][0]']             \n",
            "                                                                                                  \n",
            " multiply_1 (Multiply)       (None, 28, 28, 128)          0         ['activation_5[0][0]',        \n",
            "                                                                     'reshape_1[0][0]']           \n",
            "                                                                                                  \n",
            " conv2d_86 (Conv2D)          (None, 14, 14, 256)          295168    ['multiply_1[0][0]']          \n",
            "                                                                                                  \n",
            " batch_normalization_81 (Ba  (None, 14, 14, 256)          1024      ['conv2d_86[0][0]']           \n",
            " tchNormalization)                                                                                \n",
            "                                                                                                  \n",
            " activation_6 (Activation)   (None, 14, 14, 256)          0         ['batch_normalization_81[0][0]\n",
            "                                                                    ']                            \n",
            "                                                                                                  \n",
            " conv2d_87 (Conv2D)          (None, 14, 14, 256)          590080    ['activation_6[0][0]']        \n",
            "                                                                                                  \n",
            " batch_normalization_82 (Ba  (None, 14, 14, 256)          1024      ['conv2d_87[0][0]']           \n",
            " tchNormalization)                                                                                \n",
            "                                                                                                  \n",
            " activation_7 (Activation)   (None, 14, 14, 256)          0         ['batch_normalization_82[0][0]\n",
            "                                                                    ']                            \n",
            "                                                                                                  \n",
            " global_average_pooling2d_2  (None, 256)                  0         ['activation_7[0][0]']        \n",
            "  (GlobalAveragePooling2D)                                                                        \n",
            "                                                                                                  \n",
            " dense_6 (Dense)             (None, 16)                   4112      ['global_average_pooling2d_2[0\n",
            "                                                                    ][0]']                        \n",
            "                                                                                                  \n",
            " dense_7 (Dense)             (None, 256)                  4352      ['dense_6[0][0]']             \n",
            "                                                                                                  \n",
            " reshape_2 (Reshape)         (None, 1, 1, 256)            0         ['dense_7[0][0]']             \n",
            "                                                                                                  \n",
            " multiply_2 (Multiply)       (None, 14, 14, 256)          0         ['activation_7[0][0]',        \n",
            "                                                                     'reshape_2[0][0]']           \n",
            "                                                                                                  \n",
            " conv2d_88 (Conv2D)          (None, 7, 7, 512)            1180160   ['multiply_2[0][0]']          \n",
            "                                                                                                  \n",
            " batch_normalization_83 (Ba  (None, 7, 7, 512)            2048      ['conv2d_88[0][0]']           \n",
            " tchNormalization)                                                                                \n",
            "                                                                                                  \n",
            " activation_8 (Activation)   (None, 7, 7, 512)            0         ['batch_normalization_83[0][0]\n",
            "                                                                    ']                            \n",
            "                                                                                                  \n",
            " global_average_pooling2d_3  (None, 512)                  0         ['activation_8[0][0]']        \n",
            "  (GlobalAveragePooling2D)                                                                        \n",
            "                                                                                                  \n",
            " dense_8 (Dense)             (None, 256)                  131328    ['global_average_pooling2d_3[0\n",
            "                                                                    ][0]']                        \n",
            "                                                                                                  \n",
            " dropout_4 (Dropout)         (None, 256)                  0         ['dense_8[0][0]']             \n",
            "                                                                                                  \n",
            " dense_9 (Dense)             (None, 4)                    1028      ['dropout_4[0][0]']           \n",
            "                                                                                                  \n",
            "==================================================================================================\n",
            "Total params: 2476192 (9.45 MB)\n",
            "Trainable params: 2473376 (9.44 MB)\n",
            "Non-trainable params: 2816 (11.00 KB)\n",
            "__________________________________________________________________________________________________\n"
          ]
        }
      ]
    },
    {
      "cell_type": "code",
      "source": [
        "hist = model.fit(xtrain,ytrain,epochs = 20,batch_size = 32,validation_data = (xtest,ytest))"
      ],
      "metadata": {
        "colab": {
          "base_uri": "https://localhost:8080/"
        },
        "id": "MJ_zKEz3tN9J",
        "outputId": "2fb5fb08-c31d-4fac-9e57-6ed5a0adc05b"
      },
      "id": "MJ_zKEz3tN9J",
      "execution_count": 25,
      "outputs": [
        {
          "output_type": "stream",
          "name": "stdout",
          "text": [
            "Epoch 1/20\n",
            "83/83 [==============================] - 15s 87ms/step - loss: 0.5623 - accuracy: 0.7931 - val_loss: 1.3541 - val_accuracy: 0.2667\n",
            "Epoch 2/20\n",
            "83/83 [==============================] - 4s 52ms/step - loss: 0.1677 - accuracy: 0.9355 - val_loss: 1.3308 - val_accuracy: 0.5311\n",
            "Epoch 3/20\n",
            "83/83 [==============================] - 4s 53ms/step - loss: 0.1643 - accuracy: 0.9355 - val_loss: 1.1573 - val_accuracy: 0.4723\n",
            "Epoch 4/20\n",
            "83/83 [==============================] - 5s 58ms/step - loss: 0.1361 - accuracy: 0.9420 - val_loss: 16.6280 - val_accuracy: 0.2678\n",
            "Epoch 5/20\n",
            "83/83 [==============================] - 4s 53ms/step - loss: 0.1278 - accuracy: 0.9423 - val_loss: 0.3225 - val_accuracy: 0.8893\n",
            "Epoch 6/20\n",
            "83/83 [==============================] - 5s 55ms/step - loss: 0.1019 - accuracy: 0.9469 - val_loss: 4.9266 - val_accuracy: 0.3910\n",
            "Epoch 7/20\n",
            "83/83 [==============================] - 5s 59ms/step - loss: 0.1083 - accuracy: 0.9491 - val_loss: 11.6466 - val_accuracy: 0.2983\n",
            "Epoch 8/20\n",
            "83/83 [==============================] - 5s 56ms/step - loss: 0.0983 - accuracy: 0.9551 - val_loss: 0.6014 - val_accuracy: 0.8113\n",
            "Epoch 9/20\n",
            "83/83 [==============================] - 4s 53ms/step - loss: 0.1227 - accuracy: 0.9408 - val_loss: 0.8855 - val_accuracy: 0.7740\n",
            "Epoch 10/20\n",
            "83/83 [==============================] - 5s 56ms/step - loss: 0.1159 - accuracy: 0.9453 - val_loss: 0.1396 - val_accuracy: 0.9299\n",
            "Epoch 11/20\n",
            "83/83 [==============================] - 5s 56ms/step - loss: 0.0907 - accuracy: 0.9548 - val_loss: 0.1275 - val_accuracy: 0.9480\n",
            "Epoch 12/20\n",
            "83/83 [==============================] - 4s 54ms/step - loss: 0.0869 - accuracy: 0.9540 - val_loss: 0.5669 - val_accuracy: 0.8215\n",
            "Epoch 13/20\n",
            "83/83 [==============================] - 5s 60ms/step - loss: 0.0832 - accuracy: 0.9548 - val_loss: 0.0977 - val_accuracy: 0.9514\n",
            "Epoch 14/20\n",
            "83/83 [==============================] - 4s 54ms/step - loss: 0.0870 - accuracy: 0.9548 - val_loss: 0.2495 - val_accuracy: 0.9062\n",
            "Epoch 15/20\n",
            "83/83 [==============================] - 5s 57ms/step - loss: 0.0957 - accuracy: 0.9514 - val_loss: 1.2406 - val_accuracy: 0.7277\n",
            "Epoch 16/20\n",
            "83/83 [==============================] - 5s 59ms/step - loss: 0.0822 - accuracy: 0.9563 - val_loss: 0.0926 - val_accuracy: 0.9571\n",
            "Epoch 17/20\n",
            "83/83 [==============================] - 5s 54ms/step - loss: 0.0813 - accuracy: 0.9574 - val_loss: 0.0911 - val_accuracy: 0.9525\n",
            "Epoch 18/20\n",
            "83/83 [==============================] - 4s 54ms/step - loss: 0.0814 - accuracy: 0.9570 - val_loss: 0.1880 - val_accuracy: 0.9277\n",
            "Epoch 19/20\n",
            "83/83 [==============================] - 5s 57ms/step - loss: 0.0806 - accuracy: 0.9567 - val_loss: 0.0914 - val_accuracy: 0.9525\n",
            "Epoch 20/20\n",
            "83/83 [==============================] - 5s 55ms/step - loss: 0.0807 - accuracy: 0.9582 - val_loss: 0.0903 - val_accuracy: 0.9537\n"
          ]
        }
      ]
    },
    {
      "cell_type": "code",
      "source": [
        "import matplotlib.pyplot as plt\n",
        "\n",
        "def plot_history(hist):\n",
        "    plt.figure(figsize=(12, 4))\n",
        "    plt.subplot(1, 2, 1)\n",
        "    plt.plot(hist.history['accuracy'])\n",
        "    plt.plot(hist.history['val_accuracy'])\n",
        "    plt.title('Model Accuracy')\n",
        "    plt.ylabel('Accuracy')\n",
        "    plt.xlabel('Epoch')\n",
        "    plt.legend(['Train', 'Test'], loc='upper left')\n",
        "\n",
        "    plt.subplot(1, 2, 2)\n",
        "    plt.plot(hist.history['loss'])\n",
        "    plt.plot(hist.history['val_loss'])\n",
        "    plt.title('Model Loss')\n",
        "    plt.ylabel('Loss')\n",
        "    plt.xlabel('Epoch')\n",
        "    plt.legend(['Train', 'Test'], loc='upper left')\n",
        "\n",
        "    plt.tight_layout()\n",
        "    plt.show()\n",
        "plot_history(hist)"
      ],
      "metadata": {
        "colab": {
          "base_uri": "https://localhost:8080/",
          "height": 447
        },
        "id": "odFx7b-qFGqf",
        "outputId": "cc1b4354-ce03-4cbe-9673-a6a0a82b9a3e"
      },
      "id": "odFx7b-qFGqf",
      "execution_count": 26,
      "outputs": [
        {
          "output_type": "execute_result",
          "data": {
            "text/plain": [
              "[<matplotlib.lines.Line2D at 0x7d6a0a971d80>]"
            ]
          },
          "metadata": {},
          "execution_count": 26
        },
        {
          "output_type": "display_data",
          "data": {
            "text/plain": [
              "<Figure size 640x480 with 1 Axes>"
            ],
            "image/png": "[encoded data removed]"
          },
          "metadata": {}
        }
      ]
    },
    {
      "cell_type": "code",
      "source": [
        "img = np.reshape(xtest,(-1,1,224,224))\n",
        "res = model.predict(xtest)"
      ],
      "metadata": {
        "colab": {
          "base_uri": "https://localhost:8080/"
        },
        "id": "MXJ4CfRyFGs5",
        "outputId": "5b145775-ed07-4d9b-de93-e8df7d5cf5be"
      },
      "id": "MXJ4CfRyFGs5",
      "execution_count": 28,
      "outputs": [
        {
          "output_type": "stream",
          "name": "stdout",
          "text": [
            "28/28 [==============================] - 1s 16ms/step\n"
          ]
        }
      ]
    },
    {
      "cell_type": "code",
      "source": [
        "ypred = []\n",
        "for i in res:\n",
        "  temp = np.argmax(i)\n",
        "  ypred.append(temp)\n",
        "ypred = np.array(ypred)"
      ],
      "metadata": {
        "id": "dsv1t-SoFGvT"
      },
      "id": "dsv1t-SoFGvT",
      "execution_count": 29,
      "outputs": []
    },
    {
      "cell_type": "code",
      "source": [
        "from sklearn.metrics import confusion_matrix,ConfusionMatrixDisplay\n",
        "from sklearn.metrics import accuracy_score"
      ],
      "metadata": {
        "id": "MJ7DfYZ4FGym"
      },
      "id": "MJ7DfYZ4FGym",
      "execution_count": 30,
      "outputs": []
    },
    {
      "cell_type": "code",
      "source": [
        "accuracy_score(ytest,ypred)"
      ],
      "metadata": {
        "colab": {
          "base_uri": "https://localhost:8080/"
        },
        "id": "b4d1-Sd7FX4b",
        "outputId": "546622b5-c0ae-4b29-d90d-6d527de13cc1"
      },
      "id": "b4d1-Sd7FX4b",
      "execution_count": 31,
      "outputs": [
        {
          "output_type": "execute_result",
          "data": {
            "text/plain": [
              "0.9536723163841808"
            ]
          },
          "metadata": {},
          "execution_count": 31
        }
      ]
    },
    {
      "cell_type": "code",
      "source": [
        "cf = confusion_matrix(y_true = ytest ,y_pred =  ypred)\n",
        "x = ConfusionMatrixDisplay(cf)\n",
        "x.plot()"
      ],
      "metadata": {
        "colab": {
          "base_uri": "https://localhost:8080/",
          "height": 466
        },
        "id": "B9bitO-NFX-V",
        "outputId": "241f498b-403a-41ff-b16d-f0746e93372a"
      },
      "id": "B9bitO-NFX-V",
      "execution_count": 32,
      "outputs": [
        {
          "output_type": "execute_result",
          "data": {
            "text/plain": [
              "<sklearn.metrics._plot.confusion_matrix.ConfusionMatrixDisplay at 0x7d6a0ab749a0>"
            ]
          },
          "metadata": {},
          "execution_count": 32
        },
        {
          "output_type": "display_data",
          "data": {
            "text/plain": [
              "<Figure size 640x480 with 2 Axes>"
            ],
            "image/png": "[encoded data removed]"
          },
          "metadata": {}
        }
      ]
    },
    {
      "cell_type": "markdown",
      "source": [
        "##Xception"
      ],
      "metadata": {
        "id": "E1lu2Ntbr1iq"
      },
      "id": "E1lu2Ntbr1iq"
    },
    {
      "cell_type": "code",
      "source": [
        "from keras.models import Model\n",
        "from keras.layers import Input, Conv2D, MaxPooling2D, Dense, Flatten, Dropout, BatchNormalization, concatenate\n",
        "\n",
        "def dense_block(x, growth_rate, num_layers):\n",
        "    for _ in range(num_layers):\n",
        "        x1 = BatchNormalization()(x)\n",
        "        x1 = Conv2D(growth_rate, kernel_size=(3,3), padding='same', activation='relu')(x1)\n",
        "        x = concatenate([x, x1], axis=-1)\n",
        "    return x\n",
        "\n",
        "def transition_layer(x, compression_factor):\n",
        "    num_channels = int(x.shape[-1])\n",
        "    num_channels = int(num_channels * compression_factor)\n",
        "    x = BatchNormalization()(x)\n",
        "    x = Conv2D(num_channels, kernel_size=(1,1), activation='relu')(x)\n",
        "    x = MaxPooling2D(pool_size=(2,2), strides=(2,2))(x)\n",
        "    return x\n",
        "\n",
        "input_shape = (224, 224, 1)  # Change this to match your input shape\n",
        "num_classes = 4  # Change this to match your number of classes\n",
        "\n",
        "input_layer = Input(shape=input_shape)\n",
        "\n",
        "# Initial convolution block\n",
        "x = Conv2D(64, kernel_size=(7,7), strides=(2,2), padding='same', activation='relu')(input_layer)\n",
        "x = MaxPooling2D(pool_size=(3,3), strides=(2,2), padding='same')(x)\n",
        "\n",
        "# Dense blocks and transition layers\n",
        "growth_rate = 32  # Hyperparameter, you can adjust this\n",
        "num_layers = [6, 12, 24, 16]  # Number of layers in each dense block\n",
        "compression_factor = 0.5  # Hyperparameter, you can adjust this\n",
        "\n",
        "for num_layer in num_layers:\n",
        "    x = dense_block(x, growth_rate, num_layer)\n",
        "    x = transition_layer(x, compression_factor)\n",
        "\n",
        "# Final dense block\n",
        "x = dense_block(x, growth_rate, 8)  # Adjust the number of layers as needed\n",
        "\n",
        "# Classification head\n",
        "x = BatchNormalization()(x)\n",
        "x = Flatten()(x)\n",
        "x = Dense(256, activation='relu')(x)\n",
        "x = Dropout(0.5)(x)\n",
        "x = Dense(num_classes, activation='softmax')(x)\n",
        "\n",
        "model = Model(inputs=input_layer, outputs=x)\n",
        "model.compile(optimizer='adam', loss='sparse_categorical_crossentropy', metrics=['accuracy'])\n",
        "\n",
        "model.summary()  # Print model summary\n"
      ],
      "metadata": {
        "colab": {
          "base_uri": "https://localhost:8080/"
        },
        "id": "QkvMjUbirQ1Z",
        "outputId": "4e5199f7-714d-421d-e58b-3f418fea5417"
      },
      "id": "QkvMjUbirQ1Z",
      "execution_count": 33,
      "outputs": [
        {
          "output_type": "stream",
          "name": "stdout",
          "text": [
            "Model: \"model_2\"\n",
            "__________________________________________________________________________________________________\n",
            " Layer (type)                Output Shape                 Param #   Connected to                  \n",
            "==================================================================================================\n",
            " input_8 (InputLayer)        [(None, 224, 224, 1)]        0         []                            \n",
            "                                                                                                  \n",
            " conv2d_89 (Conv2D)          (None, 112, 112, 64)         3200      ['input_8[0][0]']             \n",
            "                                                                                                  \n",
            " max_pooling2d_10 (MaxPooli  (None, 56, 56, 64)           0         ['conv2d_89[0][0]']           \n",
            " ng2D)                                                                                            \n",
            "                                                                                                  \n",
            " batch_normalization_84 (Ba  (None, 56, 56, 64)           256       ['max_pooling2d_10[0][0]']    \n",
            " tchNormalization)                                                                                \n",
            "                                                                                                  \n",
            " conv2d_90 (Conv2D)          (None, 56, 56, 32)           18464     ['batch_normalization_84[0][0]\n",
            "                                                                    ']                            \n",
            "                                                                                                  \n",
            " concatenate_66 (Concatenat  (None, 56, 56, 96)           0         ['max_pooling2d_10[0][0]',    \n",
            " e)                                                                  'conv2d_90[0][0]']           \n",
            "                                                                                                  \n",
            " batch_normalization_85 (Ba  (None, 56, 56, 96)           384       ['concatenate_66[0][0]']      \n",
            " tchNormalization)                                                                                \n",
            "                                                                                                  \n",
            " conv2d_91 (Conv2D)          (None, 56, 56, 32)           27680     ['batch_normalization_85[0][0]\n",
            "                                                                    ']                            \n",
            "                                                                                                  \n",
            " concatenate_67 (Concatenat  (None, 56, 56, 128)          0         ['concatenate_66[0][0]',      \n",
            " e)                                                                  'conv2d_91[0][0]']           \n",
            "                                                                                                  \n",
            " batch_normalization_86 (Ba  (None, 56, 56, 128)          512       ['concatenate_67[0][0]']      \n",
            " tchNormalization)                                                                                \n",
            "                                                                                                  \n",
            " conv2d_92 (Conv2D)          (None, 56, 56, 32)           36896     ['batch_normalization_86[0][0]\n",
            "                                                                    ']                            \n",
            "                                                                                                  \n",
            " concatenate_68 (Concatenat  (None, 56, 56, 160)          0         ['concatenate_67[0][0]',      \n",
            " e)                                                                  'conv2d_92[0][0]']           \n",
            "                                                                                                  \n",
            " batch_normalization_87 (Ba  (None, 56, 56, 160)          640       ['concatenate_68[0][0]']      \n",
            " tchNormalization)                                                                                \n",
            "                                                                                                  \n",
            " conv2d_93 (Conv2D)          (None, 56, 56, 32)           46112     ['batch_normalization_87[0][0]\n",
            "                                                                    ']                            \n",
            "                                                                                                  \n",
            " concatenate_69 (Concatenat  (None, 56, 56, 192)          0         ['concatenate_68[0][0]',      \n",
            " e)                                                                  'conv2d_93[0][0]']           \n",
            "                                                                                                  \n",
            " batch_normalization_88 (Ba  (None, 56, 56, 192)          768       ['concatenate_69[0][0]']      \n",
            " tchNormalization)                                                                                \n",
            "                                                                                                  \n",
            " conv2d_94 (Conv2D)          (None, 56, 56, 32)           55328     ['batch_normalization_88[0][0]\n",
            "                                                                    ']                            \n",
            "                                                                                                  \n",
            " concatenate_70 (Concatenat  (None, 56, 56, 224)          0         ['concatenate_69[0][0]',      \n",
            " e)                                                                  'conv2d_94[0][0]']           \n",
            "                                                                                                  \n",
            " batch_normalization_89 (Ba  (None, 56, 56, 224)          896       ['concatenate_70[0][0]']      \n",
            " tchNormalization)                                                                                \n",
            "                                                                                                  \n",
            " conv2d_95 (Conv2D)          (None, 56, 56, 32)           64544     ['batch_normalization_89[0][0]\n",
            "                                                                    ']                            \n",
            "                                                                                                  \n",
            " concatenate_71 (Concatenat  (None, 56, 56, 256)          0         ['concatenate_70[0][0]',      \n",
            " e)                                                                  'conv2d_95[0][0]']           \n",
            "                                                                                                  \n",
            " batch_normalization_90 (Ba  (None, 56, 56, 256)          1024      ['concatenate_71[0][0]']      \n",
            " tchNormalization)                                                                                \n",
            "                                                                                                  \n",
            " conv2d_96 (Conv2D)          (None, 56, 56, 128)          32896     ['batch_normalization_90[0][0]\n",
            "                                                                    ']                            \n",
            "                                                                                                  \n",
            " max_pooling2d_11 (MaxPooli  (None, 28, 28, 128)          0         ['conv2d_96[0][0]']           \n",
            " ng2D)                                                                                            \n",
            "                                                                                                  \n",
            " batch_normalization_91 (Ba  (None, 28, 28, 128)          512       ['max_pooling2d_11[0][0]']    \n",
            " tchNormalization)                                                                                \n",
            "                                                                                                  \n",
            " conv2d_97 (Conv2D)          (None, 28, 28, 32)           36896     ['batch_normalization_91[0][0]\n",
            "                                                                    ']                            \n",
            "                                                                                                  \n",
            " concatenate_72 (Concatenat  (None, 28, 28, 160)          0         ['max_pooling2d_11[0][0]',    \n",
            " e)                                                                  'conv2d_97[0][0]']           \n",
            "                                                                                                  \n",
            " batch_normalization_92 (Ba  (None, 28, 28, 160)          640       ['concatenate_72[0][0]']      \n",
            " tchNormalization)                                                                                \n",
            "                                                                                                  \n",
            " conv2d_98 (Conv2D)          (None, 28, 28, 32)           46112     ['batch_normalization_92[0][0]\n",
            "                                                                    ']                            \n",
            "                                                                                                  \n",
            " concatenate_73 (Concatenat  (None, 28, 28, 192)          0         ['concatenate_72[0][0]',      \n",
            " e)                                                                  'conv2d_98[0][0]']           \n",
            "                                                                                                  \n",
            " batch_normalization_93 (Ba  (None, 28, 28, 192)          768       ['concatenate_73[0][0]']      \n",
            " tchNormalization)                                                                                \n",
            "                                                                                                  \n",
            " conv2d_99 (Conv2D)          (None, 28, 28, 32)           55328     ['batch_normalization_93[0][0]\n",
            "                                                                    ']                            \n",
            "                                                                                                  \n",
            " concatenate_74 (Concatenat  (None, 28, 28, 224)          0         ['concatenate_73[0][0]',      \n",
            " e)                                                                  'conv2d_99[0][0]']           \n",
            "                                                                                                  \n",
            " batch_normalization_94 (Ba  (None, 28, 28, 224)          896       ['concatenate_74[0][0]']      \n",
            " tchNormalization)                                                                                \n",
            "                                                                                                  \n",
            " conv2d_100 (Conv2D)         (None, 28, 28, 32)           64544     ['batch_normalization_94[0][0]\n",
            "                                                                    ']                            \n",
            "                                                                                                  \n",
            " concatenate_75 (Concatenat  (None, 28, 28, 256)          0         ['concatenate_74[0][0]',      \n",
            " e)                                                                  'conv2d_100[0][0]']          \n",
            "                                                                                                  \n",
            " batch_normalization_95 (Ba  (None, 28, 28, 256)          1024      ['concatenate_75[0][0]']      \n",
            " tchNormalization)                                                                                \n",
            "                                                                                                  \n",
            " conv2d_101 (Conv2D)         (None, 28, 28, 32)           73760     ['batch_normalization_95[0][0]\n",
            "                                                                    ']                            \n",
            "                                                                                                  \n",
            " concatenate_76 (Concatenat  (None, 28, 28, 288)          0         ['concatenate_75[0][0]',      \n",
            " e)                                                                  'conv2d_101[0][0]']          \n",
            "                                                                                                  \n",
            " batch_normalization_96 (Ba  (None, 28, 28, 288)          1152      ['concatenate_76[0][0]']      \n",
            " tchNormalization)                                                                                \n",
            "                                                                                                  \n",
            " conv2d_102 (Conv2D)         (None, 28, 28, 32)           82976     ['batch_normalization_96[0][0]\n",
            "                                                                    ']                            \n",
            "                                                                                                  \n",
            " concatenate_77 (Concatenat  (None, 28, 28, 320)          0         ['concatenate_76[0][0]',      \n",
            " e)                                                                  'conv2d_102[0][0]']          \n",
            "                                                                                                  \n",
            " batch_normalization_97 (Ba  (None, 28, 28, 320)          1280      ['concatenate_77[0][0]']      \n",
            " tchNormalization)                                                                                \n",
            "                                                                                                  \n",
            " conv2d_103 (Conv2D)         (None, 28, 28, 32)           92192     ['batch_normalization_97[0][0]\n",
            "                                                                    ']                            \n",
            "                                                                                                  \n",
            " concatenate_78 (Concatenat  (None, 28, 28, 352)          0         ['concatenate_77[0][0]',      \n",
            " e)                                                                  'conv2d_103[0][0]']          \n",
            "                                                                                                  \n",
            " batch_normalization_98 (Ba  (None, 28, 28, 352)          1408      ['concatenate_78[0][0]']      \n",
            " tchNormalization)                                                                                \n",
            "                                                                                                  \n",
            " conv2d_104 (Conv2D)         (None, 28, 28, 32)           101408    ['batch_normalization_98[0][0]\n",
            "                                                                    ']                            \n",
            "                                                                                                  \n",
            " concatenate_79 (Concatenat  (None, 28, 28, 384)          0         ['concatenate_78[0][0]',      \n",
            " e)                                                                  'conv2d_104[0][0]']          \n",
            "                                                                                                  \n",
            " batch_normalization_99 (Ba  (None, 28, 28, 384)          1536      ['concatenate_79[0][0]']      \n",
            " tchNormalization)                                                                                \n",
            "                                                                                                  \n",
            " conv2d_105 (Conv2D)         (None, 28, 28, 32)           110624    ['batch_normalization_99[0][0]\n",
            "                                                                    ']                            \n",
            "                                                                                                  \n",
            " concatenate_80 (Concatenat  (None, 28, 28, 416)          0         ['concatenate_79[0][0]',      \n",
            " e)                                                                  'conv2d_105[0][0]']          \n",
            "                                                                                                  \n",
            " batch_normalization_100 (B  (None, 28, 28, 416)          1664      ['concatenate_80[0][0]']      \n",
            " atchNormalization)                                                                               \n",
            "                                                                                                  \n",
            " conv2d_106 (Conv2D)         (None, 28, 28, 32)           119840    ['batch_normalization_100[0][0\n",
            "                                                                    ]']                           \n",
            "                                                                                                  \n",
            " concatenate_81 (Concatenat  (None, 28, 28, 448)          0         ['concatenate_80[0][0]',      \n",
            " e)                                                                  'conv2d_106[0][0]']          \n",
            "                                                                                                  \n",
            " batch_normalization_101 (B  (None, 28, 28, 448)          1792      ['concatenate_81[0][0]']      \n",
            " atchNormalization)                                                                               \n",
            "                                                                                                  \n",
            " conv2d_107 (Conv2D)         (None, 28, 28, 32)           129056    ['batch_normalization_101[0][0\n",
            "                                                                    ]']                           \n",
            "                                                                                                  \n",
            " concatenate_82 (Concatenat  (None, 28, 28, 480)          0         ['concatenate_81[0][0]',      \n",
            " e)                                                                  'conv2d_107[0][0]']          \n",
            "                                                                                                  \n",
            " batch_normalization_102 (B  (None, 28, 28, 480)          1920      ['concatenate_82[0][0]']      \n",
            " atchNormalization)                                                                               \n",
            "                                                                                                  \n",
            " conv2d_108 (Conv2D)         (None, 28, 28, 32)           138272    ['batch_normalization_102[0][0\n",
            "                                                                    ]']                           \n",
            "                                                                                                  \n",
            " concatenate_83 (Concatenat  (None, 28, 28, 512)          0         ['concatenate_82[0][0]',      \n",
            " e)                                                                  'conv2d_108[0][0]']          \n",
            "                                                                                                  \n",
            " batch_normalization_103 (B  (None, 28, 28, 512)          2048      ['concatenate_83[0][0]']      \n",
            " atchNormalization)                                                                               \n",
            "                                                                                                  \n",
            " conv2d_109 (Conv2D)         (None, 28, 28, 256)          131328    ['batch_normalization_103[0][0\n",
            "                                                                    ]']                           \n",
            "                                                                                                  \n",
            " max_pooling2d_12 (MaxPooli  (None, 14, 14, 256)          0         ['conv2d_109[0][0]']          \n",
            " ng2D)                                                                                            \n",
            "                                                                                                  \n",
            " batch_normalization_104 (B  (None, 14, 14, 256)          1024      ['max_pooling2d_12[0][0]']    \n",
            " atchNormalization)                                                                               \n",
            "                                                                                                  \n",
            " conv2d_110 (Conv2D)         (None, 14, 14, 32)           73760     ['batch_normalization_104[0][0\n",
            "                                                                    ]']                           \n",
            "                                                                                                  \n",
            " concatenate_84 (Concatenat  (None, 14, 14, 288)          0         ['max_pooling2d_12[0][0]',    \n",
            " e)                                                                  'conv2d_110[0][0]']          \n",
            "                                                                                                  \n",
            " batch_normalization_105 (B  (None, 14, 14, 288)          1152      ['concatenate_84[0][0]']      \n",
            " atchNormalization)                                                                               \n",
            "                                                                                                  \n",
            " conv2d_111 (Conv2D)         (None, 14, 14, 32)           82976     ['batch_normalization_105[0][0\n",
            "                                                                    ]']                           \n",
            "                                                                                                  \n",
            " concatenate_85 (Concatenat  (None, 14, 14, 320)          0         ['concatenate_84[0][0]',      \n",
            " e)                                                                  'conv2d_111[0][0]']          \n",
            "                                                                                                  \n",
            " batch_normalization_106 (B  (None, 14, 14, 320)          1280      ['concatenate_85[0][0]']      \n",
            " atchNormalization)                                                                               \n",
            "                                                                                                  \n",
            " conv2d_112 (Conv2D)         (None, 14, 14, 32)           92192     ['batch_normalization_106[0][0\n",
            "                                                                    ]']                           \n",
            "                                                                                                  \n",
            " concatenate_86 (Concatenat  (None, 14, 14, 352)          0         ['concatenate_85[0][0]',      \n",
            " e)                                                                  'conv2d_112[0][0]']          \n",
            "                                                                                                  \n",
            " batch_normalization_107 (B  (None, 14, 14, 352)          1408      ['concatenate_86[0][0]']      \n",
            " atchNormalization)                                                                               \n",
            "                                                                                                  \n",
            " conv2d_113 (Conv2D)         (None, 14, 14, 32)           101408    ['batch_normalization_107[0][0\n",
            "                                                                    ]']                           \n",
            "                                                                                                  \n",
            " concatenate_87 (Concatenat  (None, 14, 14, 384)          0         ['concatenate_86[0][0]',      \n",
            " e)                                                                  'conv2d_113[0][0]']          \n",
            "                                                                                                  \n",
            " batch_normalization_108 (B  (None, 14, 14, 384)          1536      ['concatenate_87[0][0]']      \n",
            " atchNormalization)                                                                               \n",
            "                                                                                                  \n",
            " conv2d_114 (Conv2D)         (None, 14, 14, 32)           110624    ['batch_normalization_108[0][0\n",
            "                                                                    ]']                           \n",
            "                                                                                                  \n",
            " concatenate_88 (Concatenat  (None, 14, 14, 416)          0         ['concatenate_87[0][0]',      \n",
            " e)                                                                  'conv2d_114[0][0]']          \n",
            "                                                                                                  \n",
            " batch_normalization_109 (B  (None, 14, 14, 416)          1664      ['concatenate_88[0][0]']      \n",
            " atchNormalization)                                                                               \n",
            "                                                                                                  \n",
            " conv2d_115 (Conv2D)         (None, 14, 14, 32)           119840    ['batch_normalization_109[0][0\n",
            "                                                                    ]']                           \n",
            "                                                                                                  \n",
            " concatenate_89 (Concatenat  (None, 14, 14, 448)          0         ['concatenate_88[0][0]',      \n",
            " e)                                                                  'conv2d_115[0][0]']          \n",
            "                                                                                                  \n",
            " batch_normalization_110 (B  (None, 14, 14, 448)          1792      ['concatenate_89[0][0]']      \n",
            " atchNormalization)                                                                               \n",
            "                                                                                                  \n",
            " conv2d_116 (Conv2D)         (None, 14, 14, 32)           129056    ['batch_normalization_110[0][0\n",
            "                                                                    ]']                           \n",
            "                                                                                                  \n",
            " concatenate_90 (Concatenat  (None, 14, 14, 480)          0         ['concatenate_89[0][0]',      \n",
            " e)                                                                  'conv2d_116[0][0]']          \n",
            "                                                                                                  \n",
            " batch_normalization_111 (B  (None, 14, 14, 480)          1920      ['concatenate_90[0][0]']      \n",
            " atchNormalization)                                                                               \n",
            "                                                                                                  \n",
            " conv2d_117 (Conv2D)         (None, 14, 14, 32)           138272    ['batch_normalization_111[0][0\n",
            "                                                                    ]']                           \n",
            "                                                                                                  \n",
            " concatenate_91 (Concatenat  (None, 14, 14, 512)          0         ['concatenate_90[0][0]',      \n",
            " e)                                                                  'conv2d_117[0][0]']          \n",
            "                                                                                                  \n",
            " batch_normalization_112 (B  (None, 14, 14, 512)          2048      ['concatenate_91[0][0]']      \n",
            " atchNormalization)                                                                               \n",
            "                                                                                                  \n",
            " conv2d_118 (Conv2D)         (None, 14, 14, 32)           147488    ['batch_normalization_112[0][0\n",
            "                                                                    ]']                           \n",
            "                                                                                                  \n",
            " concatenate_92 (Concatenat  (None, 14, 14, 544)          0         ['concatenate_91[0][0]',      \n",
            " e)                                                                  'conv2d_118[0][0]']          \n",
            "                                                                                                  \n",
            " batch_normalization_113 (B  (None, 14, 14, 544)          2176      ['concatenate_92[0][0]']      \n",
            " atchNormalization)                                                                               \n",
            "                                                                                                  \n",
            " conv2d_119 (Conv2D)         (None, 14, 14, 32)           156704    ['batch_normalization_113[0][0\n",
            "                                                                    ]']                           \n",
            "                                                                                                  \n",
            " concatenate_93 (Concatenat  (None, 14, 14, 576)          0         ['concatenate_92[0][0]',      \n",
            " e)                                                                  'conv2d_119[0][0]']          \n",
            "                                                                                                  \n",
            " batch_normalization_114 (B  (None, 14, 14, 576)          2304      ['concatenate_93[0][0]']      \n",
            " atchNormalization)                                                                               \n",
            "                                                                                                  \n",
            " conv2d_120 (Conv2D)         (None, 14, 14, 32)           165920    ['batch_normalization_114[0][0\n",
            "                                                                    ]']                           \n",
            "                                                                                                  \n",
            " concatenate_94 (Concatenat  (None, 14, 14, 608)          0         ['concatenate_93[0][0]',      \n",
            " e)                                                                  'conv2d_120[0][0]']          \n",
            "                                                                                                  \n",
            " batch_normalization_115 (B  (None, 14, 14, 608)          2432      ['concatenate_94[0][0]']      \n",
            " atchNormalization)                                                                               \n",
            "                                                                                                  \n",
            " conv2d_121 (Conv2D)         (None, 14, 14, 32)           175136    ['batch_normalization_115[0][0\n",
            "                                                                    ]']                           \n",
            "                                                                                                  \n",
            " concatenate_95 (Concatenat  (None, 14, 14, 640)          0         ['concatenate_94[0][0]',      \n",
            " e)                                                                  'conv2d_121[0][0]']          \n",
            "                                                                                                  \n",
            " batch_normalization_116 (B  (None, 14, 14, 640)          2560      ['concatenate_95[0][0]']      \n",
            " atchNormalization)                                                                               \n",
            "                                                                                                  \n",
            " conv2d_122 (Conv2D)         (None, 14, 14, 32)           184352    ['batch_normalization_116[0][0\n",
            "                                                                    ]']                           \n",
            "                                                                                                  \n",
            " concatenate_96 (Concatenat  (None, 14, 14, 672)          0         ['concatenate_95[0][0]',      \n",
            " e)                                                                  'conv2d_122[0][0]']          \n",
            "                                                                                                  \n",
            " batch_normalization_117 (B  (None, 14, 14, 672)          2688      ['concatenate_96[0][0]']      \n",
            " atchNormalization)                                                                               \n",
            "                                                                                                  \n",
            " conv2d_123 (Conv2D)         (None, 14, 14, 32)           193568    ['batch_normalization_117[0][0\n",
            "                                                                    ]']                           \n",
            "                                                                                                  \n",
            " concatenate_97 (Concatenat  (None, 14, 14, 704)          0         ['concatenate_96[0][0]',      \n",
            " e)                                                                  'conv2d_123[0][0]']          \n",
            "                                                                                                  \n",
            " batch_normalization_118 (B  (None, 14, 14, 704)          2816      ['concatenate_97[0][0]']      \n",
            " atchNormalization)                                                                               \n",
            "                                                                                                  \n",
            " conv2d_124 (Conv2D)         (None, 14, 14, 32)           202784    ['batch_normalization_118[0][0\n",
            "                                                                    ]']                           \n",
            "                                                                                                  \n",
            " concatenate_98 (Concatenat  (None, 14, 14, 736)          0         ['concatenate_97[0][0]',      \n",
            " e)                                                                  'conv2d_124[0][0]']          \n",
            "                                                                                                  \n",
            " batch_normalization_119 (B  (None, 14, 14, 736)          2944      ['concatenate_98[0][0]']      \n",
            " atchNormalization)                                                                               \n",
            "                                                                                                  \n",
            " conv2d_125 (Conv2D)         (None, 14, 14, 32)           212000    ['batch_normalization_119[0][0\n",
            "                                                                    ]']                           \n",
            "                                                                                                  \n",
            " concatenate_99 (Concatenat  (None, 14, 14, 768)          0         ['concatenate_98[0][0]',      \n",
            " e)                                                                  'conv2d_125[0][0]']          \n",
            "                                                                                                  \n",
            " batch_normalization_120 (B  (None, 14, 14, 768)          3072      ['concatenate_99[0][0]']      \n",
            " atchNormalization)                                                                               \n",
            "                                                                                                  \n",
            " conv2d_126 (Conv2D)         (None, 14, 14, 32)           221216    ['batch_normalization_120[0][0\n",
            "                                                                    ]']                           \n",
            "                                                                                                  \n",
            " concatenate_100 (Concatena  (None, 14, 14, 800)          0         ['concatenate_99[0][0]',      \n",
            " te)                                                                 'conv2d_126[0][0]']          \n",
            "                                                                                                  \n",
            " batch_normalization_121 (B  (None, 14, 14, 800)          3200      ['concatenate_100[0][0]']     \n",
            " atchNormalization)                                                                               \n",
            "                                                                                                  \n",
            " conv2d_127 (Conv2D)         (None, 14, 14, 32)           230432    ['batch_normalization_121[0][0\n",
            "                                                                    ]']                           \n",
            "                                                                                                  \n",
            " concatenate_101 (Concatena  (None, 14, 14, 832)          0         ['concatenate_100[0][0]',     \n",
            " te)                                                                 'conv2d_127[0][0]']          \n",
            "                                                                                                  \n",
            " batch_normalization_122 (B  (None, 14, 14, 832)          3328      ['concatenate_101[0][0]']     \n",
            " atchNormalization)                                                                               \n",
            "                                                                                                  \n",
            " conv2d_128 (Conv2D)         (None, 14, 14, 32)           239648    ['batch_normalization_122[0][0\n",
            "                                                                    ]']                           \n",
            "                                                                                                  \n",
            " concatenate_102 (Concatena  (None, 14, 14, 864)          0         ['concatenate_101[0][0]',     \n",
            " te)                                                                 'conv2d_128[0][0]']          \n",
            "                                                                                                  \n",
            " batch_normalization_123 (B  (None, 14, 14, 864)          3456      ['concatenate_102[0][0]']     \n",
            " atchNormalization)                                                                               \n",
            "                                                                                                  \n",
            " conv2d_129 (Conv2D)         (None, 14, 14, 32)           248864    ['batch_normalization_123[0][0\n",
            "                                                                    ]']                           \n",
            "                                                                                                  \n",
            " concatenate_103 (Concatena  (None, 14, 14, 896)          0         ['concatenate_102[0][0]',     \n",
            " te)                                                                 'conv2d_129[0][0]']          \n",
            "                                                                                                  \n",
            " batch_normalization_124 (B  (None, 14, 14, 896)          3584      ['concatenate_103[0][0]']     \n",
            " atchNormalization)                                                                               \n",
            "                                                                                                  \n",
            " conv2d_130 (Conv2D)         (None, 14, 14, 32)           258080    ['batch_normalization_124[0][0\n",
            "                                                                    ]']                           \n",
            "                                                                                                  \n",
            " concatenate_104 (Concatena  (None, 14, 14, 928)          0         ['concatenate_103[0][0]',     \n",
            " te)                                                                 'conv2d_130[0][0]']          \n",
            "                                                                                                  \n",
            " batch_normalization_125 (B  (None, 14, 14, 928)          3712      ['concatenate_104[0][0]']     \n",
            " atchNormalization)                                                                               \n",
            "                                                                                                  \n",
            " conv2d_131 (Conv2D)         (None, 14, 14, 32)           267296    ['batch_normalization_125[0][0\n",
            "                                                                    ]']                           \n",
            "                                                                                                  \n",
            " concatenate_105 (Concatena  (None, 14, 14, 960)          0         ['concatenate_104[0][0]',     \n",
            " te)                                                                 'conv2d_131[0][0]']          \n",
            "                                                                                                  \n",
            " batch_normalization_126 (B  (None, 14, 14, 960)          3840      ['concatenate_105[0][0]']     \n",
            " atchNormalization)                                                                               \n",
            "                                                                                                  \n",
            " conv2d_132 (Conv2D)         (None, 14, 14, 32)           276512    ['batch_normalization_126[0][0\n",
            "                                                                    ]']                           \n",
            "                                                                                                  \n",
            " concatenate_106 (Concatena  (None, 14, 14, 992)          0         ['concatenate_105[0][0]',     \n",
            " te)                                                                 'conv2d_132[0][0]']          \n",
            "                                                                                                  \n",
            " batch_normalization_127 (B  (None, 14, 14, 992)          3968      ['concatenate_106[0][0]']     \n",
            " atchNormalization)                                                                               \n",
            "                                                                                                  \n",
            " conv2d_133 (Conv2D)         (None, 14, 14, 32)           285728    ['batch_normalization_127[0][0\n",
            "                                                                    ]']                           \n",
            "                                                                                                  \n",
            " concatenate_107 (Concatena  (None, 14, 14, 1024)         0         ['concatenate_106[0][0]',     \n",
            " te)                                                                 'conv2d_133[0][0]']          \n",
            "                                                                                                  \n",
            " batch_normalization_128 (B  (None, 14, 14, 1024)         4096      ['concatenate_107[0][0]']     \n",
            " atchNormalization)                                                                               \n",
            "                                                                                                  \n",
            " conv2d_134 (Conv2D)         (None, 14, 14, 512)          524800    ['batch_normalization_128[0][0\n",
            "                                                                    ]']                           \n",
            "                                                                                                  \n",
            " max_pooling2d_13 (MaxPooli  (None, 7, 7, 512)            0         ['conv2d_134[0][0]']          \n",
            " ng2D)                                                                                            \n",
            "                                                                                                  \n",
            " batch_normalization_129 (B  (None, 7, 7, 512)            2048      ['max_pooling2d_13[0][0]']    \n",
            " atchNormalization)                                                                               \n",
            "                                                                                                  \n",
            " conv2d_135 (Conv2D)         (None, 7, 7, 32)             147488    ['batch_normalization_129[0][0\n",
            "                                                                    ]']                           \n",
            "                                                                                                  \n",
            " concatenate_108 (Concatena  (None, 7, 7, 544)            0         ['max_pooling2d_13[0][0]',    \n",
            " te)                                                                 'conv2d_135[0][0]']          \n",
            "                                                                                                  \n",
            " batch_normalization_130 (B  (None, 7, 7, 544)            2176      ['concatenate_108[0][0]']     \n",
            " atchNormalization)                                                                               \n",
            "                                                                                                  \n",
            " conv2d_136 (Conv2D)         (None, 7, 7, 32)             156704    ['batch_normalization_130[0][0\n",
            "                                                                    ]']                           \n",
            "                                                                                                  \n",
            " concatenate_109 (Concatena  (None, 7, 7, 576)            0         ['concatenate_108[0][0]',     \n",
            " te)                                                                 'conv2d_136[0][0]']          \n",
            "                                                                                                  \n",
            " batch_normalization_131 (B  (None, 7, 7, 576)            2304      ['concatenate_109[0][0]']     \n",
            " atchNormalization)                                                                               \n",
            "                                                                                                  \n",
            " conv2d_137 (Conv2D)         (None, 7, 7, 32)             165920    ['batch_normalization_131[0][0\n",
            "                                                                    ]']                           \n",
            "                                                                                                  \n",
            " concatenate_110 (Concatena  (None, 7, 7, 608)            0         ['concatenate_109[0][0]',     \n",
            " te)                                                                 'conv2d_137[0][0]']          \n",
            "                                                                                                  \n",
            " batch_normalization_132 (B  (None, 7, 7, 608)            2432      ['concatenate_110[0][0]']     \n",
            " atchNormalization)                                                                               \n",
            "                                                                                                  \n",
            " conv2d_138 (Conv2D)         (None, 7, 7, 32)             175136    ['batch_normalization_132[0][0\n",
            "                                                                    ]']                           \n",
            "                                                                                                  \n",
            " concatenate_111 (Concatena  (None, 7, 7, 640)            0         ['concatenate_110[0][0]',     \n",
            " te)                                                                 'conv2d_138[0][0]']          \n",
            "                                                                                                  \n",
            " batch_normalization_133 (B  (None, 7, 7, 640)            2560      ['concatenate_111[0][0]']     \n",
            " atchNormalization)                                                                               \n",
            "                                                                                                  \n",
            " conv2d_139 (Conv2D)         (None, 7, 7, 32)             184352    ['batch_normalization_133[0][0\n",
            "                                                                    ]']                           \n",
            "                                                                                                  \n",
            " concatenate_112 (Concatena  (None, 7, 7, 672)            0         ['concatenate_111[0][0]',     \n",
            " te)                                                                 'conv2d_139[0][0]']          \n",
            "                                                                                                  \n",
            " batch_normalization_134 (B  (None, 7, 7, 672)            2688      ['concatenate_112[0][0]']     \n",
            " atchNormalization)                                                                               \n",
            "                                                                                                  \n",
            " conv2d_140 (Conv2D)         (None, 7, 7, 32)             193568    ['batch_normalization_134[0][0\n",
            "                                                                    ]']                           \n",
            "                                                                                                  \n",
            " concatenate_113 (Concatena  (None, 7, 7, 704)            0         ['concatenate_112[0][0]',     \n",
            " te)                                                                 'conv2d_140[0][0]']          \n",
            "                                                                                                  \n",
            " batch_normalization_135 (B  (None, 7, 7, 704)            2816      ['concatenate_113[0][0]']     \n",
            " atchNormalization)                                                                               \n",
            "                                                                                                  \n",
            " conv2d_141 (Conv2D)         (None, 7, 7, 32)             202784    ['batch_normalization_135[0][0\n",
            "                                                                    ]']                           \n",
            "                                                                                                  \n",
            " concatenate_114 (Concatena  (None, 7, 7, 736)            0         ['concatenate_113[0][0]',     \n",
            " te)                                                                 'conv2d_141[0][0]']          \n",
            "                                                                                                  \n",
            " batch_normalization_136 (B  (None, 7, 7, 736)            2944      ['concatenate_114[0][0]']     \n",
            " atchNormalization)                                                                               \n",
            "                                                                                                  \n",
            " conv2d_142 (Conv2D)         (None, 7, 7, 32)             212000    ['batch_normalization_136[0][0\n",
            "                                                                    ]']                           \n",
            "                                                                                                  \n",
            " concatenate_115 (Concatena  (None, 7, 7, 768)            0         ['concatenate_114[0][0]',     \n",
            " te)                                                                 'conv2d_142[0][0]']          \n",
            "                                                                                                  \n",
            " batch_normalization_137 (B  (None, 7, 7, 768)            3072      ['concatenate_115[0][0]']     \n",
            " atchNormalization)                                                                               \n",
            "                                                                                                  \n",
            " conv2d_143 (Conv2D)         (None, 7, 7, 32)             221216    ['batch_normalization_137[0][0\n",
            "                                                                    ]']                           \n",
            "                                                                                                  \n",
            " concatenate_116 (Concatena  (None, 7, 7, 800)            0         ['concatenate_115[0][0]',     \n",
            " te)                                                                 'conv2d_143[0][0]']          \n",
            "                                                                                                  \n",
            " batch_normalization_138 (B  (None, 7, 7, 800)            3200      ['concatenate_116[0][0]']     \n",
            " atchNormalization)                                                                               \n",
            "                                                                                                  \n",
            " conv2d_144 (Conv2D)         (None, 7, 7, 32)             230432    ['batch_normalization_138[0][0\n",
            "                                                                    ]']                           \n",
            "                                                                                                  \n",
            " concatenate_117 (Concatena  (None, 7, 7, 832)            0         ['concatenate_116[0][0]',     \n",
            " te)                                                                 'conv2d_144[0][0]']          \n",
            "                                                                                                  \n",
            " batch_normalization_139 (B  (None, 7, 7, 832)            3328      ['concatenate_117[0][0]']     \n",
            " atchNormalization)                                                                               \n",
            "                                                                                                  \n",
            " conv2d_145 (Conv2D)         (None, 7, 7, 32)             239648    ['batch_normalization_139[0][0\n",
            "                                                                    ]']                           \n",
            "                                                                                                  \n",
            " concatenate_118 (Concatena  (None, 7, 7, 864)            0         ['concatenate_117[0][0]',     \n",
            " te)                                                                 'conv2d_145[0][0]']          \n",
            "                                                                                                  \n",
            " batch_normalization_140 (B  (None, 7, 7, 864)            3456      ['concatenate_118[0][0]']     \n",
            " atchNormalization)                                                                               \n",
            "                                                                                                  \n",
            " conv2d_146 (Conv2D)         (None, 7, 7, 32)             248864    ['batch_normalization_140[0][0\n",
            "                                                                    ]']                           \n",
            "                                                                                                  \n",
            " concatenate_119 (Concatena  (None, 7, 7, 896)            0         ['concatenate_118[0][0]',     \n",
            " te)                                                                 'conv2d_146[0][0]']          \n",
            "                                                                                                  \n",
            " batch_normalization_141 (B  (None, 7, 7, 896)            3584      ['concatenate_119[0][0]']     \n",
            " atchNormalization)                                                                               \n",
            "                                                                                                  \n",
            " conv2d_147 (Conv2D)         (None, 7, 7, 32)             258080    ['batch_normalization_141[0][0\n",
            "                                                                    ]']                           \n",
            "                                                                                                  \n",
            " concatenate_120 (Concatena  (None, 7, 7, 928)            0         ['concatenate_119[0][0]',     \n",
            " te)                                                                 'conv2d_147[0][0]']          \n",
            "                                                                                                  \n",
            " batch_normalization_142 (B  (None, 7, 7, 928)            3712      ['concatenate_120[0][0]']     \n",
            " atchNormalization)                                                                               \n",
            "                                                                                                  \n",
            " conv2d_148 (Conv2D)         (None, 7, 7, 32)             267296    ['batch_normalization_142[0][0\n",
            "                                                                    ]']                           \n",
            "                                                                                                  \n",
            " concatenate_121 (Concatena  (None, 7, 7, 960)            0         ['concatenate_120[0][0]',     \n",
            " te)                                                                 'conv2d_148[0][0]']          \n",
            "                                                                                                  \n",
            " batch_normalization_143 (B  (None, 7, 7, 960)            3840      ['concatenate_121[0][0]']     \n",
            " atchNormalization)                                                                               \n",
            "                                                                                                  \n",
            " conv2d_149 (Conv2D)         (None, 7, 7, 32)             276512    ['batch_normalization_143[0][0\n",
            "                                                                    ]']                           \n",
            "                                                                                                  \n",
            " concatenate_122 (Concatena  (None, 7, 7, 992)            0         ['concatenate_121[0][0]',     \n",
            " te)                                                                 'conv2d_149[0][0]']          \n",
            "                                                                                                  \n",
            " batch_normalization_144 (B  (None, 7, 7, 992)            3968      ['concatenate_122[0][0]']     \n",
            " atchNormalization)                                                                               \n",
            "                                                                                                  \n",
            " conv2d_150 (Conv2D)         (None, 7, 7, 32)             285728    ['batch_normalization_144[0][0\n",
            "                                                                    ]']                           \n",
            "                                                                                                  \n",
            " concatenate_123 (Concatena  (None, 7, 7, 1024)           0         ['concatenate_122[0][0]',     \n",
            " te)                                                                 'conv2d_150[0][0]']          \n",
            "                                                                                                  \n",
            " batch_normalization_145 (B  (None, 7, 7, 1024)           4096      ['concatenate_123[0][0]']     \n",
            " atchNormalization)                                                                               \n",
            "                                                                                                  \n",
            " conv2d_151 (Conv2D)         (None, 7, 7, 512)            524800    ['batch_normalization_145[0][0\n",
            "                                                                    ]']                           \n",
            "                                                                                                  \n",
            " max_pooling2d_14 (MaxPooli  (None, 3, 3, 512)            0         ['conv2d_151[0][0]']          \n",
            " ng2D)                                                                                            \n",
            "                                                                                                  \n",
            " batch_normalization_146 (B  (None, 3, 3, 512)            2048      ['max_pooling2d_14[0][0]']    \n",
            " atchNormalization)                                                                               \n",
            "                                                                                                  \n",
            " conv2d_152 (Conv2D)         (None, 3, 3, 32)             147488    ['batch_normalization_146[0][0\n",
            "                                                                    ]']                           \n",
            "                                                                                                  \n",
            " concatenate_124 (Concatena  (None, 3, 3, 544)            0         ['max_pooling2d_14[0][0]',    \n",
            " te)                                                                 'conv2d_152[0][0]']          \n",
            "                                                                                                  \n",
            " batch_normalization_147 (B  (None, 3, 3, 544)            2176      ['concatenate_124[0][0]']     \n",
            " atchNormalization)                                                                               \n",
            "                                                                                                  \n",
            " conv2d_153 (Conv2D)         (None, 3, 3, 32)             156704    ['batch_normalization_147[0][0\n",
            "                                                                    ]']                           \n",
            "                                                                                                  \n",
            " concatenate_125 (Concatena  (None, 3, 3, 576)            0         ['concatenate_124[0][0]',     \n",
            " te)                                                                 'conv2d_153[0][0]']          \n",
            "                                                                                                  \n",
            " batch_normalization_148 (B  (None, 3, 3, 576)            2304      ['concatenate_125[0][0]']     \n",
            " atchNormalization)                                                                               \n",
            "                                                                                                  \n",
            " conv2d_154 (Conv2D)         (None, 3, 3, 32)             165920    ['batch_normalization_148[0][0\n",
            "                                                                    ]']                           \n",
            "                                                                                                  \n",
            " concatenate_126 (Concatena  (None, 3, 3, 608)            0         ['concatenate_125[0][0]',     \n",
            " te)                                                                 'conv2d_154[0][0]']          \n",
            "                                                                                                  \n",
            " batch_normalization_149 (B  (None, 3, 3, 608)            2432      ['concatenate_126[0][0]']     \n",
            " atchNormalization)                                                                               \n",
            "                                                                                                  \n",
            " conv2d_155 (Conv2D)         (None, 3, 3, 32)             175136    ['batch_normalization_149[0][0\n",
            "                                                                    ]']                           \n",
            "                                                                                                  \n",
            " concatenate_127 (Concatena  (None, 3, 3, 640)            0         ['concatenate_126[0][0]',     \n",
            " te)                                                                 'conv2d_155[0][0]']          \n",
            "                                                                                                  \n",
            " batch_normalization_150 (B  (None, 3, 3, 640)            2560      ['concatenate_127[0][0]']     \n",
            " atchNormalization)                                                                               \n",
            "                                                                                                  \n",
            " conv2d_156 (Conv2D)         (None, 3, 3, 32)             184352    ['batch_normalization_150[0][0\n",
            "                                                                    ]']                           \n",
            "                                                                                                  \n",
            " concatenate_128 (Concatena  (None, 3, 3, 672)            0         ['concatenate_127[0][0]',     \n",
            " te)                                                                 'conv2d_156[0][0]']          \n",
            "                                                                                                  \n",
            " batch_normalization_151 (B  (None, 3, 3, 672)            2688      ['concatenate_128[0][0]']     \n",
            " atchNormalization)                                                                               \n",
            "                                                                                                  \n",
            " conv2d_157 (Conv2D)         (None, 3, 3, 32)             193568    ['batch_normalization_151[0][0\n",
            "                                                                    ]']                           \n",
            "                                                                                                  \n",
            " concatenate_129 (Concatena  (None, 3, 3, 704)            0         ['concatenate_128[0][0]',     \n",
            " te)                                                                 'conv2d_157[0][0]']          \n",
            "                                                                                                  \n",
            " batch_normalization_152 (B  (None, 3, 3, 704)            2816      ['concatenate_129[0][0]']     \n",
            " atchNormalization)                                                                               \n",
            "                                                                                                  \n",
            " conv2d_158 (Conv2D)         (None, 3, 3, 32)             202784    ['batch_normalization_152[0][0\n",
            "                                                                    ]']                           \n",
            "                                                                                                  \n",
            " concatenate_130 (Concatena  (None, 3, 3, 736)            0         ['concatenate_129[0][0]',     \n",
            " te)                                                                 'conv2d_158[0][0]']          \n",
            "                                                                                                  \n",
            " batch_normalization_153 (B  (None, 3, 3, 736)            2944      ['concatenate_130[0][0]']     \n",
            " atchNormalization)                                                                               \n",
            "                                                                                                  \n",
            " conv2d_159 (Conv2D)         (None, 3, 3, 32)             212000    ['batch_normalization_153[0][0\n",
            "                                                                    ]']                           \n",
            "                                                                                                  \n",
            " concatenate_131 (Concatena  (None, 3, 3, 768)            0         ['concatenate_130[0][0]',     \n",
            " te)                                                                 'conv2d_159[0][0]']          \n",
            "                                                                                                  \n",
            " batch_normalization_154 (B  (None, 3, 3, 768)            3072      ['concatenate_131[0][0]']     \n",
            " atchNormalization)                                                                               \n",
            "                                                                                                  \n",
            " flatten_2 (Flatten)         (None, 6912)                 0         ['batch_normalization_154[0][0\n",
            "                                                                    ]']                           \n",
            "                                                                                                  \n",
            " dense_10 (Dense)            (None, 256)                  1769728   ['flatten_2[0][0]']           \n",
            "                                                                                                  \n",
            " dropout_5 (Dropout)         (None, 256)                  0         ['dense_10[0][0]']            \n",
            "                                                                                                  \n",
            " dense_11 (Dense)            (None, 4)                    1028      ['dropout_5[0][0]']           \n",
            "                                                                                                  \n",
            "==================================================================================================\n",
            "Total params: 13665732 (52.13 MB)\n",
            "Trainable params: 13585540 (51.82 MB)\n",
            "Non-trainable params: 80192 (313.25 KB)\n",
            "__________________________________________________________________________________________________\n"
          ]
        }
      ]
    },
    {
      "cell_type": "code",
      "source": [
        "hist = model.fit(xtrain,ytrain,epochs = 20,batch_size = 32,validation_data = (xtest,ytest))"
      ],
      "metadata": {
        "colab": {
          "base_uri": "https://localhost:8080/"
        },
        "id": "tFqP3B6jtQe6",
        "outputId": "86741b5f-5200-4463-af93-3d7a03785356"
      },
      "id": "tFqP3B6jtQe6",
      "execution_count": 34,
      "outputs": [
        {
          "output_type": "stream",
          "name": "stdout",
          "text": [
            "Epoch 1/20\n",
            "83/83 [==============================] - 67s 297ms/step - loss: 1.0704 - accuracy: 0.7071 - val_loss: 37.3164 - val_accuracy: 0.2960\n",
            "Epoch 2/20\n",
            "83/83 [==============================] - 24s 290ms/step - loss: 0.3083 - accuracy: 0.8911 - val_loss: 3.4137 - val_accuracy: 0.3944\n",
            "Epoch 3/20\n",
            "83/83 [==============================] - 24s 290ms/step - loss: 0.2292 - accuracy: 0.9224 - val_loss: 2.4044 - val_accuracy: 0.4610\n",
            "Epoch 4/20\n",
            "83/83 [==============================] - 24s 292ms/step - loss: 0.2682 - accuracy: 0.9084 - val_loss: 10.6263 - val_accuracy: 0.3480\n",
            "Epoch 5/20\n",
            "83/83 [==============================] - 24s 294ms/step - loss: 0.1431 - accuracy: 0.9386 - val_loss: 0.0852 - val_accuracy: 0.9559\n",
            "Epoch 6/20\n",
            "83/83 [==============================] - 24s 290ms/step - loss: 0.0992 - accuracy: 0.9544 - val_loss: 0.3881 - val_accuracy: 0.8757\n",
            "Epoch 7/20\n",
            "83/83 [==============================] - 24s 290ms/step - loss: 0.1298 - accuracy: 0.9412 - val_loss: 6.6545 - val_accuracy: 0.4554\n",
            "Epoch 8/20\n",
            "83/83 [==============================] - 25s 297ms/step - loss: 0.1530 - accuracy: 0.9382 - val_loss: 0.1559 - val_accuracy: 0.9266\n",
            "Epoch 9/20\n",
            "83/83 [==============================] - 24s 293ms/step - loss: 0.1094 - accuracy: 0.9461 - val_loss: 2.4621 - val_accuracy: 0.6972\n",
            "Epoch 10/20\n",
            "83/83 [==============================] - 24s 293ms/step - loss: 0.1849 - accuracy: 0.9288 - val_loss: 0.5564 - val_accuracy: 0.8418\n",
            "Epoch 11/20\n",
            "83/83 [==============================] - 24s 294ms/step - loss: 0.1442 - accuracy: 0.9367 - val_loss: 0.1685 - val_accuracy: 0.9333\n",
            "Epoch 12/20\n",
            "83/83 [==============================] - 25s 298ms/step - loss: 0.1522 - accuracy: 0.9382 - val_loss: 0.2352 - val_accuracy: 0.9085\n",
            "Epoch 13/20\n",
            "83/83 [==============================] - 24s 294ms/step - loss: 0.1216 - accuracy: 0.9472 - val_loss: 0.3553 - val_accuracy: 0.8972\n",
            "Epoch 14/20\n",
            "83/83 [==============================] - 24s 295ms/step - loss: 0.1134 - accuracy: 0.9484 - val_loss: 0.2784 - val_accuracy: 0.9266\n",
            "Epoch 15/20\n",
            "83/83 [==============================] - 25s 300ms/step - loss: 0.1303 - accuracy: 0.9423 - val_loss: 1.4592 - val_accuracy: 0.7842\n",
            "Epoch 16/20\n",
            "83/83 [==============================] - 24s 295ms/step - loss: 0.1521 - accuracy: 0.9397 - val_loss: 0.3345 - val_accuracy: 0.9130\n",
            "Epoch 17/20\n",
            "83/83 [==============================] - 24s 294ms/step - loss: 0.1021 - accuracy: 0.9529 - val_loss: 0.2482 - val_accuracy: 0.9130\n",
            "Epoch 18/20\n",
            "83/83 [==============================] - 25s 300ms/step - loss: 0.1163 - accuracy: 0.9476 - val_loss: 1.3018 - val_accuracy: 0.8034\n",
            "Epoch 19/20\n",
            "83/83 [==============================] - 25s 300ms/step - loss: 0.0925 - accuracy: 0.9525 - val_loss: 0.0857 - val_accuracy: 0.9548\n",
            "Epoch 20/20\n",
            "83/83 [==============================] - 24s 295ms/step - loss: 0.1505 - accuracy: 0.9427 - val_loss: 0.3751 - val_accuracy: 0.8576\n"
          ]
        }
      ]
    },
    {
      "cell_type": "code",
      "source": [
        "import matplotlib.pyplot as plt\n",
        "\n",
        "def plot_history(hist):\n",
        "    plt.figure(figsize=(12, 4))\n",
        "    plt.subplot(1, 2, 1)\n",
        "    plt.plot(hist.history['accuracy'])\n",
        "    plt.plot(hist.history['val_accuracy'])\n",
        "    plt.title('Model Accuracy')\n",
        "    plt.ylabel('Accuracy')\n",
        "    plt.xlabel('Epoch')\n",
        "    plt.legend(['Train', 'Test'], loc='upper left')\n",
        "\n",
        "    plt.subplot(1, 2, 2)\n",
        "    plt.plot(hist.history['loss'])\n",
        "    plt.plot(hist.history['val_loss'])\n",
        "    plt.title('Model Loss')\n",
        "    plt.ylabel('Loss')\n",
        "    plt.xlabel('Epoch')\n",
        "    plt.legend(['Train', 'Test'], loc='upper left')\n",
        "\n",
        "    plt.tight_layout()\n",
        "    plt.show()\n",
        "plot_history(hist)"
      ],
      "metadata": {
        "colab": {
          "base_uri": "https://localhost:8080/",
          "height": 385
        },
        "id": "nWL6zwgAFlLl",
        "outputId": "76be7533-373d-4ff3-8011-a8b07db30cd0"
      },
      "id": "nWL6zwgAFlLl",
      "execution_count": 35,
      "outputs": [
        {
          "output_type": "display_data",
          "data": {
            "text/plain": [
              "<Figure size 1200x400 with 2 Axes>"
            ],
            "image/png": "[encoded data removed]"
          },
          "metadata": {}
        }
      ]
    },
    {
      "cell_type": "code",
      "source": [
        "img = np.reshape(xtest,(-1,1,224,224))\n",
        "res = model.predict(xtest)"
      ],
      "metadata": {
        "colab": {
          "base_uri": "https://localhost:8080/"
        },
        "id": "5nosWkK9Fpaz",
        "outputId": "9e434b0d-c8fe-49e5-b929-2e696f73ef9e"
      },
      "id": "5nosWkK9Fpaz",
      "execution_count": 36,
      "outputs": [
        {
          "output_type": "stream",
          "name": "stdout",
          "text": [
            "28/28 [==============================] - 3s 77ms/step\n"
          ]
        }
      ]
    },
    {
      "cell_type": "code",
      "source": [
        "ypred = []\n",
        "for i in res:\n",
        "  temp = np.argmax(i)\n",
        "  ypred.append(temp)\n",
        "ypred = np.array(ypred)"
      ],
      "metadata": {
        "id": "i6xBtRKcFpeN"
      },
      "id": "i6xBtRKcFpeN",
      "execution_count": 37,
      "outputs": []
    },
    {
      "cell_type": "code",
      "source": [
        "from sklearn.metrics import confusion_matrix,ConfusionMatrixDisplay\n",
        "from sklearn.metrics import accuracy_score"
      ],
      "metadata": {
        "id": "G0_xGSi-FtrJ"
      },
      "id": "G0_xGSi-FtrJ",
      "execution_count": 38,
      "outputs": []
    },
    {
      "cell_type": "code",
      "source": [
        "accuracy_score(ytest,ypred)"
      ],
      "metadata": {
        "colab": {
          "base_uri": "https://localhost:8080/"
        },
        "id": "I5iDAVUTFpoL",
        "outputId": "3a86364a-b61d-4167-8010-0c9b9f871bbd"
      },
      "id": "I5iDAVUTFpoL",
      "execution_count": 39,
      "outputs": [
        {
          "output_type": "execute_result",
          "data": {
            "text/plain": [
              "0.8576271186440678"
            ]
          },
          "metadata": {},
          "execution_count": 39
        }
      ]
    },
    {
      "cell_type": "code",
      "source": [
        "cf = confusion_matrix(y_true = ytest ,y_pred =  ypred)\n",
        "x = ConfusionMatrixDisplay(cf)\n",
        "x.plot()"
      ],
      "metadata": {
        "colab": {
          "base_uri": "https://localhost:8080/",
          "height": 466
        },
        "id": "j9RJNY_1FyT2",
        "outputId": "a5c70447-7e68-40e2-a0d9-90f11ea15668"
      },
      "id": "j9RJNY_1FyT2",
      "execution_count": 40,
      "outputs": [
        {
          "output_type": "execute_result",
          "data": {
            "text/plain": [
              "<sklearn.metrics._plot.confusion_matrix.ConfusionMatrixDisplay at 0x7d6b56192200>"
            ]
          },
          "metadata": {},
          "execution_count": 40
        },
        {
          "output_type": "display_data",
          "data": {
            "text/plain": [
              "<Figure size 640x480 with 2 Axes>"
            ],
            "image/png": "[encoded data removed]"
          },
          "metadata": {}
        }
      ]
    }
  ],
  "metadata": {
    "accelerator": "GPU",
    "colab": {
      "gpuType": "T4",
      "provenance": []
    },
    "kaggle": {
      "accelerator": "gpu",
      "dataSources": [
        {
          "datasetId": 3419493,
          "sourceId": 5962731,
          "sourceType": "datasetVersion"
        }
      ],
      "dockerImageVersionId": 30588,
      "isGpuEnabled": true,
      "isInternetEnabled": true,
      "language": "python",
      "sourceType": "notebook"
    },
    "kernelspec": {
      "display_name": "Python 3",
      "name": "python3"
    },
    "language_info": {
      "codemirror_mode": {
        "name": "ipython",
        "version": 3
      },
      "file_extension": ".py",
      "mimetype": "text/x-python",
      "name": "python",
      "nbconvert_exporter": "python",
      "pygments_lexer": "ipython3",
      "version": "3.7.1"
    },
    "papermill": {
      "default_parameters": {},
      "duration": 200.562735,
      "end_time": "2024-04-12T14:05:34.031711",
      "environment_variables": {},
      "exception": null,
      "input_path": "__notebook__.ipynb",
      "output_path": "__notebook__.ipynb",
      "parameters": {},
      "start_time": "2024-04-12T14:02:13.468976",
      "version": "2.4.0"
    }
  },
  "nbformat": 4,
  "nbformat_minor": 5
}